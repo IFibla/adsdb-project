{
 "cells": [
  {
   "cell_type": "code",
   "execution_count": 1,
   "id": "initial_id",
   "metadata": {
    "collapsed": true,
    "ExecuteTime": {
     "end_time": "2024-10-30T05:47:16.239636600Z",
     "start_time": "2024-10-30T05:47:13.930797500Z"
    }
   },
   "outputs": [],
   "source": [
    "from dataops import DataOps\n",
    "\n",
    "do = DataOps(\n",
    "    temporal_folder=r\"C:\\Users\\ferra\\PycharmProjects\\adsdb-project\\data\\landing\\temporal\",\n",
    "    persistent_folder=r\"C:\\Users\\ferra\\PycharmProjects\\adsdb-project\\data\\landing\\persistent\",\n",
    ")"
   ]
  },
  {
   "cell_type": "code",
   "execution_count": null,
   "outputs": [],
   "source": [
    "do.execute_stage(stage_name=\"landing\")"
   ],
   "metadata": {
    "collapsed": false
   },
   "id": "f751a9c29fa0f4f5"
  },
  {
   "cell_type": "code",
   "execution_count": null,
   "outputs": [],
   "source": [
    "from src.helpers import CSVSampler\n",
    "\n",
    "csv_sampler_vehicles = CSVSampler(\n",
    "    input_file=r\"C:\\Users\\ferra\\PycharmProjects\\adsdb-project\\data\\landing\\persistent\\motor_vehicle_collisions\\vehicles\\20241029.csv\"\n",
    ")\n",
    "\n",
    "csv_sampler_person = CSVSampler(\n",
    "    input_file=r\"C:\\Users\\ferra\\PycharmProjects\\adsdb-project\\data\\landing\\persistent\\motor_vehicle_collisions\\person\\20241029.csv\"\n",
    ")\n",
    "\n",
    "csv_sampler_crashes = CSVSampler(\n",
    "    input_file=r\"C:\\Users\\ferra\\PycharmProjects\\adsdb-project\\data\\landing\\persistent\\motor_vehicle_collisions\\crashes\\20241029.csv\"\n",
    ")"
   ],
   "metadata": {
    "collapsed": false
   },
   "id": "fd73517bd76989a9"
  },
  {
   "cell_type": "code",
   "execution_count": null,
   "outputs": [],
   "source": [
    "csv_sampler_vehicles.sort_and_sample(\n",
    "    column_to_sort=\"COLLISION_ID\",\n",
    "    output_file=r\"C:\\Users\\ferra\\PycharmProjects\\adsdb-project\\data\\landing\\persistent\\motor_vehicle_collisions\\vehicles\\20241029_v200.csv\",\n",
    ")\n",
    "\n",
    "csv_sampler_crashes.sort_and_sample(\n",
    "    column_to_sort=\"COLLISION_ID\",\n",
    "    output_file=r\"C:\\Users\\ferra\\PycharmProjects\\adsdb-project\\data\\landing\\persistent\\motor_vehicle_collisions\\crashes\\20241029_c200.csv\",\n",
    ")\n",
    "\n",
    "csv_sampler_person.sort_and_sample(\n",
    "    column_to_sort=\"COLLISION_ID\",\n",
    "    output_file=r\"C:\\Users\\ferra\\PycharmProjects\\adsdb-project\\data\\landing\\persistent\\motor_vehicle_collisions\\person\\20241029_p200.csv\",\n",
    ")"
   ],
   "metadata": {
    "collapsed": false
   },
   "id": "e1cb05a310c4426"
  },
  {
   "cell_type": "markdown",
   "source": [
    "### FORMATTED ZONE"
   ],
   "metadata": {
    "collapsed": false
   },
   "id": "d6b32a4e21dd83bd"
  },
  {
   "cell_type": "code",
   "execution_count": null,
   "outputs": [],
   "source": [
    "do.execute_stage(stage_name=\"formatted\")"
   ],
   "metadata": {
    "collapsed": false
   },
   "id": "afbffc957aae4a93"
  },
  {
   "cell_type": "code",
   "execution_count": null,
   "outputs": [],
   "source": [
    "do.get_execution_logs()"
   ],
   "metadata": {
    "collapsed": false
   },
   "id": "f6ddcda104e22876"
  },
  {
   "cell_type": "code",
   "execution_count": null,
   "outputs": [],
   "source": [
    "do.execute_stage(stage_name=\"trusted\")"
   ],
   "metadata": {
    "collapsed": false
   },
   "id": "32efa47ee57bef24"
  },
  {
   "cell_type": "code",
   "execution_count": null,
   "outputs": [],
   "source": [
    "do.get_execution_logs()"
   ],
   "metadata": {
    "collapsed": false
   },
   "id": "8d8861a64700eef9"
  },
  {
   "cell_type": "markdown",
   "source": [
    "### TRUSTED"
   ],
   "metadata": {
    "collapsed": false
   },
   "id": "292470997355da7b"
  },
  {
   "cell_type": "code",
   "execution_count": null,
   "outputs": [],
   "source": [
    "do.execute_stage(stage_name=\"exploitation\")"
   ],
   "metadata": {
    "collapsed": false
   },
   "id": "f764e6ea77525a40"
  },
  {
   "cell_type": "code",
   "execution_count": null,
   "outputs": [],
   "source": [
    "do.get_execution_logs()"
   ],
   "metadata": {
    "collapsed": false
   },
   "id": "90c0ff1230fb5cb4"
  },
  {
   "cell_type": "markdown",
   "source": [
    "### COMPLETE EXECUTION"
   ],
   "metadata": {
    "collapsed": false
   },
   "id": "61eb937af396398f"
  },
  {
   "cell_type": "code",
   "execution_count": null,
   "outputs": [],
   "source": [
    "do.execute_pipeline()"
   ],
   "metadata": {
    "collapsed": false
   },
   "id": "536b159ce705e855"
  },
  {
   "cell_type": "markdown",
   "source": [
    "### TRY DOWNLOADS"
   ],
   "metadata": {
    "collapsed": false
   },
   "id": "b4a63d372b89e03c"
  },
  {
   "cell_type": "code",
   "execution_count": 2,
   "outputs": [
    {
     "name": "stdout",
     "output_type": "stream",
     "text": [
      "Starting download from https://data.cityofnewyork.us/api/views/h9gi-nx95/rows.csv?date=20241030&accessType=DOWNLOAD...\n"
     ]
    },
    {
     "name": "stderr",
     "output_type": "stream",
     "text": [
      "Motor_Vehicle_Collisions_-_Crashes_20241030.csv: 474kB [00:00, 2.98MB/s]"
     ]
    },
    {
     "name": "stdout",
     "output_type": "stream",
     "text": [
      "CPU Usage: 1.2%, Memory Usage: 48.5%\n"
     ]
    },
    {
     "name": "stderr",
     "output_type": "stream",
     "text": [
      "Motor_Vehicle_Collisions_-_Crashes_20241030.csv: 14.9MB [00:06, 2.46MB/s]"
     ]
    },
    {
     "name": "stdout",
     "output_type": "stream",
     "text": [
      "CPU Usage: 0.8%, Memory Usage: 48.5%\n"
     ]
    },
    {
     "name": "stderr",
     "output_type": "stream",
     "text": [
      "Motor_Vehicle_Collisions_-_Crashes_20241030.csv: 28.7MB [00:12, 3.22MB/s]"
     ]
    },
    {
     "name": "stdout",
     "output_type": "stream",
     "text": [
      "CPU Usage: 1.0%, Memory Usage: 48.5%\n"
     ]
    },
    {
     "name": "stderr",
     "output_type": "stream",
     "text": [
      "Motor_Vehicle_Collisions_-_Crashes_20241030.csv: 48.6MB [00:18, 3.86MB/s]"
     ]
    },
    {
     "name": "stdout",
     "output_type": "stream",
     "text": [
      "CPU Usage: 0.2%, Memory Usage: 48.6%\n"
     ]
    },
    {
     "name": "stderr",
     "output_type": "stream",
     "text": [
      "Motor_Vehicle_Collisions_-_Crashes_20241030.csv: 70.0MB [00:24, 3.13MB/s]"
     ]
    },
    {
     "name": "stdout",
     "output_type": "stream",
     "text": [
      "CPU Usage: 1.1%, Memory Usage: 48.7%\n"
     ]
    },
    {
     "name": "stderr",
     "output_type": "stream",
     "text": [
      "Motor_Vehicle_Collisions_-_Crashes_20241030.csv: 93.0MB [00:30, 3.80MB/s]"
     ]
    },
    {
     "name": "stdout",
     "output_type": "stream",
     "text": [
      "CPU Usage: 1.0%, Memory Usage: 48.7%\n"
     ]
    },
    {
     "name": "stderr",
     "output_type": "stream",
     "text": [
      "Motor_Vehicle_Collisions_-_Crashes_20241030.csv: 116MB [00:36, 3.89MB/s] "
     ]
    },
    {
     "name": "stdout",
     "output_type": "stream",
     "text": [
      "CPU Usage: 1.7%, Memory Usage: 48.7%\n"
     ]
    },
    {
     "name": "stderr",
     "output_type": "stream",
     "text": [
      "Motor_Vehicle_Collisions_-_Crashes_20241030.csv: 118MB [00:36, 3.36MB/s]\n",
      "\n",
      "KeyboardInterrupt\n",
      "\n"
     ]
    }
   ],
   "source": [
    "do.download_last_datasources()"
   ],
   "metadata": {
    "collapsed": false,
    "ExecuteTime": {
     "end_time": "2024-10-30T05:47:55.115272900Z",
     "start_time": "2024-10-30T05:47:16.818312500Z"
    }
   },
   "id": "254f8c8d44021c47"
  }
 ],
 "metadata": {
  "kernelspec": {
   "display_name": "Python 3",
   "language": "python",
   "name": "python3"
  },
  "language_info": {
   "codemirror_mode": {
    "name": "ipython",
    "version": 2
   },
   "file_extension": ".py",
   "mimetype": "text/x-python",
   "name": "python",
   "nbconvert_exporter": "python",
   "pygments_lexer": "ipython2",
   "version": "2.7.6"
  }
 },
 "nbformat": 4,
 "nbformat_minor": 5
}
