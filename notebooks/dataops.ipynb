{
 "cells": [
  {
   "cell_type": "code",
   "execution_count": 1,
   "id": "initial_id",
   "metadata": {
    "collapsed": true,
    "ExecuteTime": {
     "end_time": "2024-10-29T18:55:36.900446700Z",
     "start_time": "2024-10-29T18:55:34.621923Z"
    }
   },
   "outputs": [],
   "source": [
    "from dataops import DataOps\n",
    "\n",
    "do = DataOps(temporal_folder=r\"C:\\Users\\ferra\\PycharmProjects\\adsdb-project\\data\\landing\\temporal\",\n",
    "             persistent_folder=r\"C:\\Users\\ferra\\PycharmProjects\\adsdb-project\\data\\landing\\persistent\")"
   ]
  },
  {
   "cell_type": "code",
   "execution_count": 2,
   "outputs": [
    {
     "name": "stdout",
     "output_type": "stream",
     "text": [
      "Starting execution of stage: landing\n",
      "Executing landing phase...\n",
      "Executing Landing in landing phase\n",
      "Landing phase completed.\n",
      "Execution of stage 'landing' completed.\n"
     ]
    }
   ],
   "source": [
    "do.execute_stage(stage_name=\"landing\")"
   ],
   "metadata": {
    "collapsed": false,
    "ExecuteTime": {
     "end_time": "2024-10-29T18:55:36.907127700Z",
     "start_time": "2024-10-29T18:55:36.901447300Z"
    }
   },
   "id": "f751a9c29fa0f4f5"
  },
  {
   "cell_type": "code",
   "execution_count": 3,
   "outputs": [],
   "source": [
    "from src.helpers import CSVSampler\n",
    "\n",
    "csv_sampler_vehicles = CSVSampler(\n",
    "    input_file=r\"C:\\Users\\ferra\\PycharmProjects\\adsdb-project\\data\\landing\\persistent\\motor_vehicle_collisions\\vehicles\\20241029.csv\"\n",
    ")\n",
    "\n",
    "csv_sampler_person = CSVSampler(\n",
    "    input_file=r\"C:\\Users\\ferra\\PycharmProjects\\adsdb-project\\data\\landing\\persistent\\motor_vehicle_collisions\\person\\20241029.csv\"\n",
    ")\n",
    "\n",
    "csv_sampler_crashes = CSVSampler(\n",
    "    input_file=r\"C:\\Users\\ferra\\PycharmProjects\\adsdb-project\\data\\landing\\persistent\\motor_vehicle_collisions\\crashes\\20241029.csv\"\n",
    ")"
   ],
   "metadata": {
    "collapsed": false,
    "ExecuteTime": {
     "end_time": "2024-10-29T18:55:36.909825600Z",
     "start_time": "2024-10-29T18:55:36.908128800Z"
    }
   },
   "id": "fd73517bd76989a9"
  },
  {
   "cell_type": "code",
   "execution_count": 4,
   "outputs": [
    {
     "name": "stdout",
     "output_type": "stream",
     "text": [
      "Sample of 200 rows saved to C:\\Users\\ferra\\PycharmProjects\\adsdb-project\\data\\landing\\persistent\\motor_vehicle_collisions\\vehicles\\20241029_v200.csv\n",
      "Sample of 200 rows saved to C:\\Users\\ferra\\PycharmProjects\\adsdb-project\\data\\landing\\persistent\\motor_vehicle_collisions\\crashes\\20241029_c200.csv\n",
      "Sample of 200 rows saved to C:\\Users\\ferra\\PycharmProjects\\adsdb-project\\data\\landing\\persistent\\motor_vehicle_collisions\\person\\20241029_p200.csv\n"
     ]
    },
    {
     "data": {
      "text/plain": "     UNIQUE_ID  COLLISION_ID  CRASH_DATE CRASH_TIME  \\\n0     13188647       4766839  10/24/2024      20:30   \n3     13188645       4766838  10/24/2024      15:50   \n4     13188643       4766838  10/24/2024      15:50   \n1     13188646       4766838  10/24/2024      15:50   \n2     13188644       4766838  10/24/2024      15:50   \n..         ...           ...         ...        ...   \n195   13189424       4766689  10/25/2024       7:33   \n196   13189423       4766689  10/25/2024       7:33   \n197   13189422       4766689  10/25/2024       7:33   \n198   13189425       4766689  10/25/2024       7:33   \n199   13188940       4766686  10/13/2024      17:20   \n\n                                PERSON_ID PERSON_TYPE PERSON_INJURY  \\\n0    c3a8451c-c583-48fd-8b73-7da555fd0a6b    Occupant   Unspecified   \n3    8101c5d2-4847-47ea-bf6a-081963e737ba    Occupant       Injured   \n4    45138d1b-403d-4714-ac29-a69764934300    Occupant       Injured   \n1    fabd9fec-f00d-470d-8402-29b8a2ec41a1    Occupant   Unspecified   \n2    28ec2260-9205-469e-af3d-d9501f22a085  Pedestrian       Injured   \n..                                    ...         ...           ...   \n195  2d5b5f57-ee1f-4211-be42-b1fb3d647697    Occupant   Unspecified   \n196  f2f171be-add0-4267-8620-99697e6efce1    Occupant   Unspecified   \n197  19314613-994e-46c7-bcd1-e261855c98fd    Occupant   Unspecified   \n198  37ba27bb-0030-4213-b41a-577292af6ccd    Occupant   Unspecified   \n199  1ecb4666-4fac-410b-b1ff-db8633a5d2f4    Occupant   Unspecified   \n\n     VEHICLE_ID  PERSON_AGE     EJECTION  ...         BODILY_INJURY  \\\n0    20771975.0        39.0          NaN  ...                   NaN   \n3    20771974.0        21.0      Ejected  ...  Shoulder - Upper Arm   \n4    20771974.0        25.0      Ejected  ...         Hip-Upper Leg   \n1    20771974.0        21.0          NaN  ...                   NaN   \n2           NaN        28.0          NaN  ...  Elbow-Lower-Arm-Hand   \n..          ...         ...          ...  ...                   ...   \n195  20772445.0        29.0          NaN  ...                   NaN   \n196  20772444.0        17.0  Not Ejected  ...        Does Not Apply   \n197  20772444.0        48.0  Not Ejected  ...        Does Not Apply   \n198  20772444.0         NaN          NaN  ...                   NaN   \n199  20772164.0        42.0  Not Ejected  ...        Does Not Apply   \n\n                                   POSITION_IN_VEHICLE  \\\n0                                                  NaN   \n3    Left rear passenger, or rear passenger on a bi...   \n4                                               Driver   \n1                                                  NaN   \n2                                                  NaN   \n..                                                 ...   \n195                                                NaN   \n196  Front passenger, if two or more persons, inclu...   \n197                                             Driver   \n198                                                NaN   \n199                                            Unknown   \n\n             SAFETY_EQUIPMENT  \\\n0                         NaN   \n3    Helmet (Motorcycle Only)   \n4                         NaN   \n1                         NaN   \n2                         NaN   \n..                        ...   \n195                       NaN   \n196                   Unknown   \n197                       NaN   \n198                       NaN   \n199                       NaN   \n\n                                          PED_LOCATION  \\\n0                                                  NaN   \n3                                                  NaN   \n4                                                  NaN   \n1                                                  NaN   \n2    Pedestrian/Bicyclist/Other Pedestrian Not at I...   \n..                                                 ...   \n195                                                NaN   \n196                                                NaN   \n197                                                NaN   \n198                                                NaN   \n199                                                NaN   \n\n                            PED_ACTION                    COMPLAINT  \\\n0                                  NaN                          NaN   \n3                                  NaN  Complaint of Pain or Nausea   \n4                                  NaN  Complaint of Pain or Nausea   \n1                                  NaN                          NaN   \n2    Crossing, No Signal, or Crosswalk               Minor Bleeding   \n..                                 ...                          ...   \n195                                NaN                          NaN   \n196                                NaN               Does Not Apply   \n197                                NaN               Does Not Apply   \n198                                NaN                          NaN   \n199                                NaN               Does Not Apply   \n\n       PED_ROLE CONTRIBUTING_FACTOR_1 CONTRIBUTING_FACTOR_2 PERSON_SEX  \n0    Registrant                   NaN                   NaN          M  \n3     Passenger                   NaN                   NaN          M  \n4        Driver                   NaN                   NaN          M  \n1    Registrant                   NaN                   NaN          F  \n2    Pedestrian           Unspecified           Unspecified          M  \n..          ...                   ...                   ...        ...  \n195  Registrant                   NaN                   NaN          F  \n196   Passenger                   NaN                   NaN          M  \n197      Driver                   NaN                   NaN          M  \n198  Registrant                   NaN                   NaN        NaN  \n199      Driver                   NaN                   NaN          M  \n\n[200 rows x 21 columns]",
      "text/html": "<div>\n<style scoped>\n    .dataframe tbody tr th:only-of-type {\n        vertical-align: middle;\n    }\n\n    .dataframe tbody tr th {\n        vertical-align: top;\n    }\n\n    .dataframe thead th {\n        text-align: right;\n    }\n</style>\n<table border=\"1\" class=\"dataframe\">\n  <thead>\n    <tr style=\"text-align: right;\">\n      <th></th>\n      <th>UNIQUE_ID</th>\n      <th>COLLISION_ID</th>\n      <th>CRASH_DATE</th>\n      <th>CRASH_TIME</th>\n      <th>PERSON_ID</th>\n      <th>PERSON_TYPE</th>\n      <th>PERSON_INJURY</th>\n      <th>VEHICLE_ID</th>\n      <th>PERSON_AGE</th>\n      <th>EJECTION</th>\n      <th>...</th>\n      <th>BODILY_INJURY</th>\n      <th>POSITION_IN_VEHICLE</th>\n      <th>SAFETY_EQUIPMENT</th>\n      <th>PED_LOCATION</th>\n      <th>PED_ACTION</th>\n      <th>COMPLAINT</th>\n      <th>PED_ROLE</th>\n      <th>CONTRIBUTING_FACTOR_1</th>\n      <th>CONTRIBUTING_FACTOR_2</th>\n      <th>PERSON_SEX</th>\n    </tr>\n  </thead>\n  <tbody>\n    <tr>\n      <th>0</th>\n      <td>13188647</td>\n      <td>4766839</td>\n      <td>10/24/2024</td>\n      <td>20:30</td>\n      <td>c3a8451c-c583-48fd-8b73-7da555fd0a6b</td>\n      <td>Occupant</td>\n      <td>Unspecified</td>\n      <td>20771975.0</td>\n      <td>39.0</td>\n      <td>NaN</td>\n      <td>...</td>\n      <td>NaN</td>\n      <td>NaN</td>\n      <td>NaN</td>\n      <td>NaN</td>\n      <td>NaN</td>\n      <td>NaN</td>\n      <td>Registrant</td>\n      <td>NaN</td>\n      <td>NaN</td>\n      <td>M</td>\n    </tr>\n    <tr>\n      <th>3</th>\n      <td>13188645</td>\n      <td>4766838</td>\n      <td>10/24/2024</td>\n      <td>15:50</td>\n      <td>8101c5d2-4847-47ea-bf6a-081963e737ba</td>\n      <td>Occupant</td>\n      <td>Injured</td>\n      <td>20771974.0</td>\n      <td>21.0</td>\n      <td>Ejected</td>\n      <td>...</td>\n      <td>Shoulder - Upper Arm</td>\n      <td>Left rear passenger, or rear passenger on a bi...</td>\n      <td>Helmet (Motorcycle Only)</td>\n      <td>NaN</td>\n      <td>NaN</td>\n      <td>Complaint of Pain or Nausea</td>\n      <td>Passenger</td>\n      <td>NaN</td>\n      <td>NaN</td>\n      <td>M</td>\n    </tr>\n    <tr>\n      <th>4</th>\n      <td>13188643</td>\n      <td>4766838</td>\n      <td>10/24/2024</td>\n      <td>15:50</td>\n      <td>45138d1b-403d-4714-ac29-a69764934300</td>\n      <td>Occupant</td>\n      <td>Injured</td>\n      <td>20771974.0</td>\n      <td>25.0</td>\n      <td>Ejected</td>\n      <td>...</td>\n      <td>Hip-Upper Leg</td>\n      <td>Driver</td>\n      <td>NaN</td>\n      <td>NaN</td>\n      <td>NaN</td>\n      <td>Complaint of Pain or Nausea</td>\n      <td>Driver</td>\n      <td>NaN</td>\n      <td>NaN</td>\n      <td>M</td>\n    </tr>\n    <tr>\n      <th>1</th>\n      <td>13188646</td>\n      <td>4766838</td>\n      <td>10/24/2024</td>\n      <td>15:50</td>\n      <td>fabd9fec-f00d-470d-8402-29b8a2ec41a1</td>\n      <td>Occupant</td>\n      <td>Unspecified</td>\n      <td>20771974.0</td>\n      <td>21.0</td>\n      <td>NaN</td>\n      <td>...</td>\n      <td>NaN</td>\n      <td>NaN</td>\n      <td>NaN</td>\n      <td>NaN</td>\n      <td>NaN</td>\n      <td>NaN</td>\n      <td>Registrant</td>\n      <td>NaN</td>\n      <td>NaN</td>\n      <td>F</td>\n    </tr>\n    <tr>\n      <th>2</th>\n      <td>13188644</td>\n      <td>4766838</td>\n      <td>10/24/2024</td>\n      <td>15:50</td>\n      <td>28ec2260-9205-469e-af3d-d9501f22a085</td>\n      <td>Pedestrian</td>\n      <td>Injured</td>\n      <td>NaN</td>\n      <td>28.0</td>\n      <td>NaN</td>\n      <td>...</td>\n      <td>Elbow-Lower-Arm-Hand</td>\n      <td>NaN</td>\n      <td>NaN</td>\n      <td>Pedestrian/Bicyclist/Other Pedestrian Not at I...</td>\n      <td>Crossing, No Signal, or Crosswalk</td>\n      <td>Minor Bleeding</td>\n      <td>Pedestrian</td>\n      <td>Unspecified</td>\n      <td>Unspecified</td>\n      <td>M</td>\n    </tr>\n    <tr>\n      <th>...</th>\n      <td>...</td>\n      <td>...</td>\n      <td>...</td>\n      <td>...</td>\n      <td>...</td>\n      <td>...</td>\n      <td>...</td>\n      <td>...</td>\n      <td>...</td>\n      <td>...</td>\n      <td>...</td>\n      <td>...</td>\n      <td>...</td>\n      <td>...</td>\n      <td>...</td>\n      <td>...</td>\n      <td>...</td>\n      <td>...</td>\n      <td>...</td>\n      <td>...</td>\n      <td>...</td>\n    </tr>\n    <tr>\n      <th>195</th>\n      <td>13189424</td>\n      <td>4766689</td>\n      <td>10/25/2024</td>\n      <td>7:33</td>\n      <td>2d5b5f57-ee1f-4211-be42-b1fb3d647697</td>\n      <td>Occupant</td>\n      <td>Unspecified</td>\n      <td>20772445.0</td>\n      <td>29.0</td>\n      <td>NaN</td>\n      <td>...</td>\n      <td>NaN</td>\n      <td>NaN</td>\n      <td>NaN</td>\n      <td>NaN</td>\n      <td>NaN</td>\n      <td>NaN</td>\n      <td>Registrant</td>\n      <td>NaN</td>\n      <td>NaN</td>\n      <td>F</td>\n    </tr>\n    <tr>\n      <th>196</th>\n      <td>13189423</td>\n      <td>4766689</td>\n      <td>10/25/2024</td>\n      <td>7:33</td>\n      <td>f2f171be-add0-4267-8620-99697e6efce1</td>\n      <td>Occupant</td>\n      <td>Unspecified</td>\n      <td>20772444.0</td>\n      <td>17.0</td>\n      <td>Not Ejected</td>\n      <td>...</td>\n      <td>Does Not Apply</td>\n      <td>Front passenger, if two or more persons, inclu...</td>\n      <td>Unknown</td>\n      <td>NaN</td>\n      <td>NaN</td>\n      <td>Does Not Apply</td>\n      <td>Passenger</td>\n      <td>NaN</td>\n      <td>NaN</td>\n      <td>M</td>\n    </tr>\n    <tr>\n      <th>197</th>\n      <td>13189422</td>\n      <td>4766689</td>\n      <td>10/25/2024</td>\n      <td>7:33</td>\n      <td>19314613-994e-46c7-bcd1-e261855c98fd</td>\n      <td>Occupant</td>\n      <td>Unspecified</td>\n      <td>20772444.0</td>\n      <td>48.0</td>\n      <td>Not Ejected</td>\n      <td>...</td>\n      <td>Does Not Apply</td>\n      <td>Driver</td>\n      <td>NaN</td>\n      <td>NaN</td>\n      <td>NaN</td>\n      <td>Does Not Apply</td>\n      <td>Driver</td>\n      <td>NaN</td>\n      <td>NaN</td>\n      <td>M</td>\n    </tr>\n    <tr>\n      <th>198</th>\n      <td>13189425</td>\n      <td>4766689</td>\n      <td>10/25/2024</td>\n      <td>7:33</td>\n      <td>37ba27bb-0030-4213-b41a-577292af6ccd</td>\n      <td>Occupant</td>\n      <td>Unspecified</td>\n      <td>20772444.0</td>\n      <td>NaN</td>\n      <td>NaN</td>\n      <td>...</td>\n      <td>NaN</td>\n      <td>NaN</td>\n      <td>NaN</td>\n      <td>NaN</td>\n      <td>NaN</td>\n      <td>NaN</td>\n      <td>Registrant</td>\n      <td>NaN</td>\n      <td>NaN</td>\n      <td>NaN</td>\n    </tr>\n    <tr>\n      <th>199</th>\n      <td>13188940</td>\n      <td>4766686</td>\n      <td>10/13/2024</td>\n      <td>17:20</td>\n      <td>1ecb4666-4fac-410b-b1ff-db8633a5d2f4</td>\n      <td>Occupant</td>\n      <td>Unspecified</td>\n      <td>20772164.0</td>\n      <td>42.0</td>\n      <td>Not Ejected</td>\n      <td>...</td>\n      <td>Does Not Apply</td>\n      <td>Unknown</td>\n      <td>NaN</td>\n      <td>NaN</td>\n      <td>NaN</td>\n      <td>Does Not Apply</td>\n      <td>Driver</td>\n      <td>NaN</td>\n      <td>NaN</td>\n      <td>M</td>\n    </tr>\n  </tbody>\n</table>\n<p>200 rows × 21 columns</p>\n</div>"
     },
     "execution_count": 4,
     "metadata": {},
     "output_type": "execute_result"
    }
   ],
   "source": [
    "csv_sampler_vehicles.sort_and_sample(column_to_sort=\"COLLISION_ID\",\n",
    "                                     output_file=r\"C:\\Users\\ferra\\PycharmProjects\\adsdb-project\\data\\landing\\persistent\\motor_vehicle_collisions\\vehicles\\20241029_v200.csv\")\n",
    "\n",
    "csv_sampler_crashes.sort_and_sample(column_to_sort=\"COLLISION_ID\",\n",
    "                                     output_file=r\"C:\\Users\\ferra\\PycharmProjects\\adsdb-project\\data\\landing\\persistent\\motor_vehicle_collisions\\crashes\\20241029_c200.csv\")\n",
    "\n",
    "csv_sampler_person.sort_and_sample(column_to_sort=\"COLLISION_ID\",\n",
    "                                     output_file=r\"C:\\Users\\ferra\\PycharmProjects\\adsdb-project\\data\\landing\\persistent\\motor_vehicle_collisions\\person\\20241029_p200.csv\")\n"
   ],
   "metadata": {
    "collapsed": false,
    "ExecuteTime": {
     "end_time": "2024-10-29T18:55:36.961070100Z",
     "start_time": "2024-10-29T18:55:36.910826200Z"
    }
   },
   "id": "e1cb05a310c4426"
  },
  {
   "cell_type": "markdown",
   "source": [
    "### FORMATTED ZONE"
   ],
   "metadata": {
    "collapsed": false
   },
   "id": "d6b32a4e21dd83bd"
  },
  {
   "cell_type": "code",
   "execution_count": 5,
   "outputs": [
    {
     "name": "stdout",
     "output_type": "stream",
     "text": [
      "Starting execution of stage: formatted\n",
      "Executing formatted phase...\n",
      "Executing CSVFormatted in formatted phase\n",
      "Table motorvehiclecollisionscrashes20241029 created successfully.\n",
      "Table motorvehiclecollisionscrashes20241029c200 created successfully.\n",
      "Table motorvehiclecollisionsperson20241029 created successfully.\n",
      "Table motorvehiclecollisionsperson20241029p200 created successfully.\n",
      "Table motorvehiclecollisionsvehicles20241029 created successfully.\n",
      "Table motorvehiclecollisionsvehicles20241029v200 created successfully.\n",
      "Executing JSONFormatted in formatted phase\n",
      "Table nhtsa_safety_rating_20241026 created successfully.\n",
      "Table nhtsa_safety_rating_20241027 created successfully.\n",
      "Formatted phase completed.\n",
      "Execution of stage 'formatted' completed.\n"
     ]
    }
   ],
   "source": [
    "do.execute_stage(stage_name='formatted')"
   ],
   "metadata": {
    "collapsed": false,
    "ExecuteTime": {
     "end_time": "2024-10-29T18:55:37.095687500Z",
     "start_time": "2024-10-29T18:55:36.934271Z"
    }
   },
   "id": "afbffc957aae4a93"
  },
  {
   "cell_type": "code",
   "execution_count": 6,
   "outputs": [
    {
     "name": "stdout",
     "output_type": "stream",
     "text": [
      "Execution Logs:\n",
      "Layer: Landing, Status: done, Last Execution: 2024-10-29 19:55:36, Error: None\n",
      "Layer: MVCPersonTrusted, Status: executing, Last Execution: 2024-10-29 19:54:50, Error: None\n",
      "Layer: MVCVehiclesTrusted, Status: failed, Last Execution: 2024-10-29 19:51:24, Error: No objects to concatenate\n",
      "Layer: MVCCrashTrusted, Status: failed, Last Execution: 2024-10-29 19:51:24, Error: No objects to concatenate\n",
      "Layer: NHTSASafetyRatingTrusted, Status: done, Last Execution: 2024-10-29 19:51:24, Error: None\n",
      "Layer: CSVFormatted, Status: done, Last Execution: 2024-10-29 19:55:37, Error: None\n",
      "Layer: JSONFormatted, Status: done, Last Execution: 2024-10-29 19:55:37, Error: None\n"
     ]
    },
    {
     "data": {
      "text/plain": "[('Landing', 'done', datetime.datetime(2024, 10, 29, 19, 55, 36), None),\n ('MVCPersonTrusted',\n  'executing',\n  datetime.datetime(2024, 10, 29, 19, 54, 50),\n  None),\n ('MVCVehiclesTrusted',\n  'failed',\n  datetime.datetime(2024, 10, 29, 19, 51, 24),\n  'No objects to concatenate'),\n ('MVCCrashTrusted',\n  'failed',\n  datetime.datetime(2024, 10, 29, 19, 51, 24),\n  'No objects to concatenate'),\n ('NHTSASafetyRatingTrusted',\n  'done',\n  datetime.datetime(2024, 10, 29, 19, 51, 24),\n  None),\n ('CSVFormatted', 'done', datetime.datetime(2024, 10, 29, 19, 55, 37), None),\n ('JSONFormatted', 'done', datetime.datetime(2024, 10, 29, 19, 55, 37), None)]"
     },
     "execution_count": 6,
     "metadata": {},
     "output_type": "execute_result"
    }
   ],
   "source": [
    "do.get_execution_logs()"
   ],
   "metadata": {
    "collapsed": false,
    "ExecuteTime": {
     "end_time": "2024-10-29T18:55:37.098431700Z",
     "start_time": "2024-10-29T18:55:37.095687500Z"
    }
   },
   "id": "f6ddcda104e22876"
  },
  {
   "cell_type": "code",
   "execution_count": 7,
   "outputs": [
    {
     "name": "stdout",
     "output_type": "stream",
     "text": [
      "Starting execution of stage: trusted\n",
      "Executing trusted phase...\n",
      "Executing MVCPersonTrusted in trusted phase\n",
      "Table mvc_person created successfully.\n",
      "Executing MVCVehiclesTrusted in trusted phase\n",
      "Table mvc_vehicles created successfully.\n",
      "Executing MVCCrashTrusted in trusted phase\n",
      "Table mvc_crash created successfully.\n",
      "Executing NHTSASafetyRatingTrusted in trusted phase\n",
      "Table nhtsa_safety_rating created successfully.\n",
      "Trusted phase completed.\n",
      "Execution of stage 'trusted' completed.\n"
     ]
    },
    {
     "name": "stderr",
     "output_type": "stream",
     "text": [
      "C:\\Users\\ferra\\PycharmProjects\\adsdb-project\\src\\trusted\\mvc_crash.py:56: FutureWarning: Downcasting behavior in `replace` is deprecated and will be removed in a future version. To retain the old behavior, explicitly call `result.infer_objects(copy=False)`. To opt-in to the future behavior, set `pd.set_option('future.no_silent_downcasting', True)`\n",
      "  ].replace(\n"
     ]
    }
   ],
   "source": [
    "do.execute_stage(stage_name='trusted')"
   ],
   "metadata": {
    "collapsed": false,
    "ExecuteTime": {
     "end_time": "2024-10-29T18:55:45.759522200Z",
     "start_time": "2024-10-29T18:55:45.565282200Z"
    }
   },
   "id": "32efa47ee57bef24"
  },
  {
   "cell_type": "code",
   "execution_count": 8,
   "outputs": [
    {
     "name": "stdout",
     "output_type": "stream",
     "text": [
      "Execution Logs:\n",
      "Layer: Landing, Status: done, Last Execution: 2024-10-29 19:55:36, Error: None\n",
      "Layer: MVCPersonTrusted, Status: done, Last Execution: 2024-10-29 19:55:45, Error: None\n",
      "Layer: MVCVehiclesTrusted, Status: done, Last Execution: 2024-10-29 19:55:45, Error: None\n",
      "Layer: MVCCrashTrusted, Status: done, Last Execution: 2024-10-29 19:55:45, Error: None\n",
      "Layer: NHTSASafetyRatingTrusted, Status: done, Last Execution: 2024-10-29 19:55:45, Error: None\n",
      "Layer: CSVFormatted, Status: done, Last Execution: 2024-10-29 19:55:37, Error: None\n",
      "Layer: JSONFormatted, Status: done, Last Execution: 2024-10-29 19:55:37, Error: None\n"
     ]
    },
    {
     "data": {
      "text/plain": "[('Landing', 'done', datetime.datetime(2024, 10, 29, 19, 55, 36), None),\n ('MVCPersonTrusted',\n  'done',\n  datetime.datetime(2024, 10, 29, 19, 55, 45),\n  None),\n ('MVCVehiclesTrusted',\n  'done',\n  datetime.datetime(2024, 10, 29, 19, 55, 45),\n  None),\n ('MVCCrashTrusted',\n  'done',\n  datetime.datetime(2024, 10, 29, 19, 55, 45),\n  None),\n ('NHTSASafetyRatingTrusted',\n  'done',\n  datetime.datetime(2024, 10, 29, 19, 55, 45),\n  None),\n ('CSVFormatted', 'done', datetime.datetime(2024, 10, 29, 19, 55, 37), None),\n ('JSONFormatted', 'done', datetime.datetime(2024, 10, 29, 19, 55, 37), None)]"
     },
     "execution_count": 8,
     "metadata": {},
     "output_type": "execute_result"
    }
   ],
   "source": [
    "do.get_execution_logs()"
   ],
   "metadata": {
    "collapsed": false,
    "ExecuteTime": {
     "end_time": "2024-10-29T18:56:06.346641Z",
     "start_time": "2024-10-29T18:56:06.330391500Z"
    }
   },
   "id": "8d8861a64700eef9"
  },
  {
   "cell_type": "markdown",
   "source": [
    "### TRUSTED"
   ],
   "metadata": {
    "collapsed": false
   },
   "id": "292470997355da7b"
  },
  {
   "cell_type": "code",
   "execution_count": 9,
   "outputs": [
    {
     "name": "stdout",
     "output_type": "stream",
     "text": [
      "Starting execution of stage: exploitation\n",
      "Executing exploitation phase...\n",
      "Executing MotorVehicleCollisionsExploitation in exploitation phase\n",
      "Table motor_vehicle_collisions created successfully.\n",
      "Executing MVCSafetyRatingByBrandExploitation in exploitation phase\n",
      "Table mvc_safety_rating_by_brand created successfully.\n",
      "Exploitation phase completed.\n",
      "Execution of stage 'exploitation' completed.\n"
     ]
    }
   ],
   "source": [
    "do.execute_stage(stage_name=\"exploitation\")"
   ],
   "metadata": {
    "collapsed": false,
    "ExecuteTime": {
     "end_time": "2024-10-29T18:57:22.861646300Z",
     "start_time": "2024-10-29T18:57:22.813904300Z"
    }
   },
   "id": "f764e6ea77525a40"
  },
  {
   "cell_type": "code",
   "execution_count": 10,
   "outputs": [
    {
     "name": "stdout",
     "output_type": "stream",
     "text": [
      "Execution Logs:\n",
      "Layer: Landing, Status: done, Last Execution: 2024-10-29 19:55:36, Error: None\n",
      "Layer: MVCPersonTrusted, Status: done, Last Execution: 2024-10-29 19:55:45, Error: None\n",
      "Layer: MVCVehiclesTrusted, Status: done, Last Execution: 2024-10-29 19:55:45, Error: None\n",
      "Layer: MVCCrashTrusted, Status: done, Last Execution: 2024-10-29 19:55:45, Error: None\n",
      "Layer: NHTSASafetyRatingTrusted, Status: done, Last Execution: 2024-10-29 19:55:45, Error: None\n",
      "Layer: CSVFormatted, Status: done, Last Execution: 2024-10-29 19:55:37, Error: None\n",
      "Layer: JSONFormatted, Status: done, Last Execution: 2024-10-29 19:55:37, Error: None\n",
      "Layer: MotorVehicleCollisionsExploitation, Status: done, Last Execution: 2024-10-29 19:57:22, Error: None\n",
      "Layer: MVCSafetyRatingByBrandExploitation, Status: done, Last Execution: 2024-10-29 19:57:22, Error: None\n"
     ]
    },
    {
     "data": {
      "text/plain": "[('Landing', 'done', datetime.datetime(2024, 10, 29, 19, 55, 36), None),\n ('MVCPersonTrusted',\n  'done',\n  datetime.datetime(2024, 10, 29, 19, 55, 45),\n  None),\n ('MVCVehiclesTrusted',\n  'done',\n  datetime.datetime(2024, 10, 29, 19, 55, 45),\n  None),\n ('MVCCrashTrusted',\n  'done',\n  datetime.datetime(2024, 10, 29, 19, 55, 45),\n  None),\n ('NHTSASafetyRatingTrusted',\n  'done',\n  datetime.datetime(2024, 10, 29, 19, 55, 45),\n  None),\n ('CSVFormatted', 'done', datetime.datetime(2024, 10, 29, 19, 55, 37), None),\n ('JSONFormatted', 'done', datetime.datetime(2024, 10, 29, 19, 55, 37), None),\n ('MotorVehicleCollisionsExploitation',\n  'done',\n  datetime.datetime(2024, 10, 29, 19, 57, 22),\n  None),\n ('MVCSafetyRatingByBrandExploitation',\n  'done',\n  datetime.datetime(2024, 10, 29, 19, 57, 22),\n  None)]"
     },
     "execution_count": 10,
     "metadata": {},
     "output_type": "execute_result"
    }
   ],
   "source": [
    "do.get_execution_logs()"
   ],
   "metadata": {
    "collapsed": false,
    "ExecuteTime": {
     "end_time": "2024-10-29T18:57:32.600743100Z",
     "start_time": "2024-10-29T18:57:32.597151500Z"
    }
   },
   "id": "90c0ff1230fb5cb4"
  }
 ],
 "metadata": {
  "kernelspec": {
   "display_name": "Python 3",
   "language": "python",
   "name": "python3"
  },
  "language_info": {
   "codemirror_mode": {
    "name": "ipython",
    "version": 2
   },
   "file_extension": ".py",
   "mimetype": "text/x-python",
   "name": "python",
   "nbconvert_exporter": "python",
   "pygments_lexer": "ipython2",
   "version": "2.7.6"
  }
 },
 "nbformat": 4,
 "nbformat_minor": 5
}
