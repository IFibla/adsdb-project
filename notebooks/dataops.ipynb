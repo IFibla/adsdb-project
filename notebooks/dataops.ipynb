{
 "cells": [
  {
   "cell_type": "code",
   "id": "initial_id",
   "metadata": {
    "collapsed": true,
    "ExecuteTime": {
     "end_time": "2025-01-10T12:02:06.903668Z",
     "start_time": "2025-01-10T12:02:00.420844Z"
    }
   },
   "source": [
    "from dataops import DataOps\n",
    "\n",
    "do = DataOps(\n",
    "    temporal_folder=r\"C:\\Users\\ferra\\PycharmProjects\\adsdb-project\\data\\landing\\temporal\",\n",
    "    persistent_folder=r\"C:\\Users\\ferra\\PycharmProjects\\adsdb-project\\data\\landing\\persistent\",\n",
    ")"
   ],
   "outputs": [],
   "execution_count": 1
  },
  {
   "cell_type": "code",
   "source": [
    "do.execute_stage(stage_name=\"landing\")"
   ],
   "metadata": {
    "collapsed": false,
    "ExecuteTime": {
     "end_time": "2025-01-09T20:53:47.115815Z",
     "start_time": "2025-01-09T20:53:47.098285Z"
    }
   },
   "id": "f751a9c29fa0f4f5",
   "outputs": [
    {
     "name": "stdout",
     "output_type": "stream",
     "text": [
      "Starting execution of stage: landing\n",
      "Executing landing phase...\n",
      "Executing Landing in landing phase\n",
      "Landing phase completed.\n",
      "Execution of stage 'landing' completed.\n"
     ]
    }
   ],
   "execution_count": 3
  },
  {
   "cell_type": "code",
   "source": [
    "from src.helpers import CSVSampler\n",
    "\n",
    "csv_sampler_vehicles = CSVSampler(\n",
    "    input_file=r\"C:\\Users\\ferra\\PycharmProjects\\adsdb-project\\data\\landing\\persistent\\motor_vehicle_collisions\\vehicles\\20250109.csv\"\n",
    ")\n",
    "\n",
    "csv_sampler_person = CSVSampler(\n",
    "    input_file=r\"C:\\Users\\ferra\\PycharmProjects\\adsdb-project\\data\\landing\\persistent\\motor_vehicle_collisions\\person\\20250109.csv\"\n",
    ")\n",
    "\n",
    "csv_sampler_crashes = CSVSampler(\n",
    "    input_file=r\"C:\\Users\\ferra\\PycharmProjects\\adsdb-project\\data\\landing\\persistent\\motor_vehicle_collisions\\crashes\\20250109.csv\"\n",
    ")"
   ],
   "metadata": {
    "collapsed": false,
    "ExecuteTime": {
     "end_time": "2025-01-09T20:54:41.572904Z",
     "start_time": "2025-01-09T20:54:41.554129Z"
    }
   },
   "id": "fd73517bd76989a9",
   "outputs": [],
   "execution_count": 4
  },
  {
   "cell_type": "code",
   "source": [
    "csv_sampler_vehicles.sort_and_sample(\n",
    "    column_to_sort=\"COLLISION_ID\",\n",
    "    output_file=r\"C:\\Users\\ferra\\PycharmProjects\\adsdb-project\\data\\landing\\persistent\\motor_vehicle_collisions\\vehicles\\20241029_v200.csv\",\n",
    ")\n",
    "\n",
    "csv_sampler_crashes.sort_and_sample(\n",
    "    column_to_sort=\"COLLISION_ID\",\n",
    "    output_file=r\"C:\\Users\\ferra\\PycharmProjects\\adsdb-project\\data\\landing\\persistent\\motor_vehicle_collisions\\crashes\\20241029_c200.csv\",\n",
    ")\n",
    "\n",
    "csv_sampler_person.sort_and_sample(\n",
    "    column_to_sort=\"COLLISION_ID\",\n",
    "    output_file=r\"C:\\Users\\ferra\\PycharmProjects\\adsdb-project\\data\\landing\\persistent\\motor_vehicle_collisions\\person\\20241029_p200.csv\",\n",
    ")"
   ],
   "metadata": {
    "collapsed": false,
    "ExecuteTime": {
     "end_time": "2025-01-09T20:55:09.302591Z",
     "start_time": "2025-01-09T20:54:45.051454Z"
    }
   },
   "id": "e1cb05a310c4426",
   "outputs": [
    {
     "name": "stderr",
     "output_type": "stream",
     "text": [
      "C:\\Users\\ferra\\PycharmProjects\\adsdb-project\\src\\helpers\\csv_sampler.py:34: DtypeWarning: Columns (8) have mixed types. Specify dtype option on import or set low_memory=False.\n",
      "  sample_df = pd.read_csv(self.input_file)\n"
     ]
    },
    {
     "name": "stdout",
     "output_type": "stream",
     "text": [
      "Sample of 200 rows saved to C:\\Users\\ferra\\PycharmProjects\\adsdb-project\\data\\landing\\persistent\\motor_vehicle_collisions\\vehicles\\20241029_v200.csv\n"
     ]
    },
    {
     "name": "stderr",
     "output_type": "stream",
     "text": [
      "C:\\Users\\ferra\\PycharmProjects\\adsdb-project\\src\\helpers\\csv_sampler.py:34: DtypeWarning: Columns (3) have mixed types. Specify dtype option on import or set low_memory=False.\n",
      "  sample_df = pd.read_csv(self.input_file)\n"
     ]
    },
    {
     "name": "stdout",
     "output_type": "stream",
     "text": [
      "Sample of 200 rows saved to C:\\Users\\ferra\\PycharmProjects\\adsdb-project\\data\\landing\\persistent\\motor_vehicle_collisions\\crashes\\20241029_c200.csv\n",
      "Sample of 200 rows saved to C:\\Users\\ferra\\PycharmProjects\\adsdb-project\\data\\landing\\persistent\\motor_vehicle_collisions\\person\\20241029_p200.csv\n"
     ]
    },
    {
     "data": {
      "text/plain": [
       "         UNIQUE_ID  COLLISION_ID  CRASH_DATE CRASH_TIME  \\\n",
       "5570166   13255821       4784435  01/04/2025      17:11   \n",
       "5570495   13256039       4784434  01/05/2025      16:10   \n",
       "5570123   13256062       4784433  01/03/2025      20:35   \n",
       "5570037   13255956       4784431  01/05/2025      10:30   \n",
       "5570518   13255955       4784431  01/05/2025      10:30   \n",
       "...            ...           ...         ...        ...   \n",
       "5570562   13256160       4784289  01/05/2024      21:47   \n",
       "5570539   13255971       4784287  01/04/2025       5:29   \n",
       "5569855   13255973       4784287  01/04/2025       5:29   \n",
       "5569948   13255974       4784287  01/04/2025       5:29   \n",
       "5569923   13255972       4784287  01/04/2025       5:29   \n",
       "\n",
       "                                    PERSON_ID PERSON_TYPE PERSON_INJURY  \\\n",
       "5570166  901e2836-65e2-4db3-9701-8261739cbc2d    Occupant   Unspecified   \n",
       "5570495  47ba1592-2fbd-49ae-a06c-a4ee92153b19    Occupant   Unspecified   \n",
       "5570123  39465bdf-3ce6-4063-ba2b-54181a0f312a  Pedestrian       Injured   \n",
       "5570037  19146f4a-e00f-40e4-a5b9-8167d3b5c035    Occupant   Unspecified   \n",
       "5570518  06cc30fd-7cd3-4e3f-8984-f9e29594ce2d    Occupant   Unspecified   \n",
       "...                                       ...         ...           ...   \n",
       "5570562  1d060af1-6ab3-4257-a467-b3900e537d82    Occupant   Unspecified   \n",
       "5570539  5fa316be-d0b8-47d1-b2d0-f053215d0ce1    Occupant   Unspecified   \n",
       "5569855  f66aa1d9-7bec-4fb7-870e-861624a267d6    Occupant   Unspecified   \n",
       "5569948  4efe1953-a12f-459e-8fa8-8ccd9738f26f    Occupant   Unspecified   \n",
       "5569923  d4e69860-cc1c-47da-9205-dab2980f7702    Occupant   Unspecified   \n",
       "\n",
       "         VEHICLE_ID  PERSON_AGE     EJECTION  ...   BODILY_INJURY  \\\n",
       "5570166  20810003.0        35.0          NaN  ...             NaN   \n",
       "5570495  20810134.0        41.0          NaN  ...             NaN   \n",
       "5570123         NaN        12.0          NaN  ...            Back   \n",
       "5570037  20810092.0        33.0          NaN  ...             NaN   \n",
       "5570518  20810092.0        34.0  Not Ejected  ...  Does Not Apply   \n",
       "...             ...         ...          ...  ...             ...   \n",
       "5570562  20810201.0        27.0          NaN  ...             NaN   \n",
       "5570539  20810105.0        21.0  Not Ejected  ...  Does Not Apply   \n",
       "5569855  20810106.0        69.0          NaN  ...             NaN   \n",
       "5569948  20810105.0         NaN          NaN  ...             NaN   \n",
       "5569923  20810107.0         NaN          NaN  ...             NaN   \n",
       "\n",
       "        POSITION_IN_VEHICLE    SAFETY_EQUIPMENT  \\\n",
       "5570166                 NaN                 NaN   \n",
       "5570495                 NaN                 NaN   \n",
       "5570123                 NaN                 NaN   \n",
       "5570037                 NaN                 NaN   \n",
       "5570518              Driver  Lap Belt & Harness   \n",
       "...                     ...                 ...   \n",
       "5570562                 NaN                 NaN   \n",
       "5570539              Driver            Lap Belt   \n",
       "5569855                 NaN                 NaN   \n",
       "5569948                 NaN                 NaN   \n",
       "5569923                 NaN                 NaN   \n",
       "\n",
       "                                              PED_LOCATION  \\\n",
       "5570166                                                NaN   \n",
       "5570495                                                NaN   \n",
       "5570123  Pedestrian/Bicyclist/Other Pedestrian Not at I...   \n",
       "5570037                                                NaN   \n",
       "5570518                                                NaN   \n",
       "...                                                    ...   \n",
       "5570562                                                NaN   \n",
       "5570539                                                NaN   \n",
       "5569855                                                NaN   \n",
       "5569948                                                NaN   \n",
       "5569923                                                NaN   \n",
       "\n",
       "                                PED_ACTION       COMPLAINT    PED_ROLE  \\\n",
       "5570166                                NaN             NaN  Registrant   \n",
       "5570495                                NaN             NaN  Registrant   \n",
       "5570123  Crossing, No Signal, or Crosswalk      Minor Burn  Pedestrian   \n",
       "5570037                                NaN             NaN  Registrant   \n",
       "5570518                                NaN  Does Not Apply      Driver   \n",
       "...                                    ...             ...         ...   \n",
       "5570562                                NaN             NaN  Registrant   \n",
       "5570539                                NaN  Does Not Apply      Driver   \n",
       "5569855                                NaN             NaN  Registrant   \n",
       "5569948                                NaN             NaN  Registrant   \n",
       "5569923                                NaN             NaN  Registrant   \n",
       "\n",
       "        CONTRIBUTING_FACTOR_1 CONTRIBUTING_FACTOR_2 PERSON_SEX  \n",
       "5570166                   NaN                   NaN          F  \n",
       "5570495                   NaN                   NaN          F  \n",
       "5570123           Unspecified           Unspecified          F  \n",
       "5570037                   NaN                   NaN          F  \n",
       "5570518                   NaN                   NaN          M  \n",
       "...                       ...                   ...        ...  \n",
       "5570562                   NaN                   NaN          M  \n",
       "5570539                   NaN                   NaN          F  \n",
       "5569855                   NaN                   NaN          M  \n",
       "5569948                   NaN                   NaN          M  \n",
       "5569923                   NaN                   NaN        NaN  \n",
       "\n",
       "[200 rows x 21 columns]"
      ],
      "text/html": [
       "<div>\n",
       "<style scoped>\n",
       "    .dataframe tbody tr th:only-of-type {\n",
       "        vertical-align: middle;\n",
       "    }\n",
       "\n",
       "    .dataframe tbody tr th {\n",
       "        vertical-align: top;\n",
       "    }\n",
       "\n",
       "    .dataframe thead th {\n",
       "        text-align: right;\n",
       "    }\n",
       "</style>\n",
       "<table border=\"1\" class=\"dataframe\">\n",
       "  <thead>\n",
       "    <tr style=\"text-align: right;\">\n",
       "      <th></th>\n",
       "      <th>UNIQUE_ID</th>\n",
       "      <th>COLLISION_ID</th>\n",
       "      <th>CRASH_DATE</th>\n",
       "      <th>CRASH_TIME</th>\n",
       "      <th>PERSON_ID</th>\n",
       "      <th>PERSON_TYPE</th>\n",
       "      <th>PERSON_INJURY</th>\n",
       "      <th>VEHICLE_ID</th>\n",
       "      <th>PERSON_AGE</th>\n",
       "      <th>EJECTION</th>\n",
       "      <th>...</th>\n",
       "      <th>BODILY_INJURY</th>\n",
       "      <th>POSITION_IN_VEHICLE</th>\n",
       "      <th>SAFETY_EQUIPMENT</th>\n",
       "      <th>PED_LOCATION</th>\n",
       "      <th>PED_ACTION</th>\n",
       "      <th>COMPLAINT</th>\n",
       "      <th>PED_ROLE</th>\n",
       "      <th>CONTRIBUTING_FACTOR_1</th>\n",
       "      <th>CONTRIBUTING_FACTOR_2</th>\n",
       "      <th>PERSON_SEX</th>\n",
       "    </tr>\n",
       "  </thead>\n",
       "  <tbody>\n",
       "    <tr>\n",
       "      <th>5570166</th>\n",
       "      <td>13255821</td>\n",
       "      <td>4784435</td>\n",
       "      <td>01/04/2025</td>\n",
       "      <td>17:11</td>\n",
       "      <td>901e2836-65e2-4db3-9701-8261739cbc2d</td>\n",
       "      <td>Occupant</td>\n",
       "      <td>Unspecified</td>\n",
       "      <td>20810003.0</td>\n",
       "      <td>35.0</td>\n",
       "      <td>NaN</td>\n",
       "      <td>...</td>\n",
       "      <td>NaN</td>\n",
       "      <td>NaN</td>\n",
       "      <td>NaN</td>\n",
       "      <td>NaN</td>\n",
       "      <td>NaN</td>\n",
       "      <td>NaN</td>\n",
       "      <td>Registrant</td>\n",
       "      <td>NaN</td>\n",
       "      <td>NaN</td>\n",
       "      <td>F</td>\n",
       "    </tr>\n",
       "    <tr>\n",
       "      <th>5570495</th>\n",
       "      <td>13256039</td>\n",
       "      <td>4784434</td>\n",
       "      <td>01/05/2025</td>\n",
       "      <td>16:10</td>\n",
       "      <td>47ba1592-2fbd-49ae-a06c-a4ee92153b19</td>\n",
       "      <td>Occupant</td>\n",
       "      <td>Unspecified</td>\n",
       "      <td>20810134.0</td>\n",
       "      <td>41.0</td>\n",
       "      <td>NaN</td>\n",
       "      <td>...</td>\n",
       "      <td>NaN</td>\n",
       "      <td>NaN</td>\n",
       "      <td>NaN</td>\n",
       "      <td>NaN</td>\n",
       "      <td>NaN</td>\n",
       "      <td>NaN</td>\n",
       "      <td>Registrant</td>\n",
       "      <td>NaN</td>\n",
       "      <td>NaN</td>\n",
       "      <td>F</td>\n",
       "    </tr>\n",
       "    <tr>\n",
       "      <th>5570123</th>\n",
       "      <td>13256062</td>\n",
       "      <td>4784433</td>\n",
       "      <td>01/03/2025</td>\n",
       "      <td>20:35</td>\n",
       "      <td>39465bdf-3ce6-4063-ba2b-54181a0f312a</td>\n",
       "      <td>Pedestrian</td>\n",
       "      <td>Injured</td>\n",
       "      <td>NaN</td>\n",
       "      <td>12.0</td>\n",
       "      <td>NaN</td>\n",
       "      <td>...</td>\n",
       "      <td>Back</td>\n",
       "      <td>NaN</td>\n",
       "      <td>NaN</td>\n",
       "      <td>Pedestrian/Bicyclist/Other Pedestrian Not at I...</td>\n",
       "      <td>Crossing, No Signal, or Crosswalk</td>\n",
       "      <td>Minor Burn</td>\n",
       "      <td>Pedestrian</td>\n",
       "      <td>Unspecified</td>\n",
       "      <td>Unspecified</td>\n",
       "      <td>F</td>\n",
       "    </tr>\n",
       "    <tr>\n",
       "      <th>5570037</th>\n",
       "      <td>13255956</td>\n",
       "      <td>4784431</td>\n",
       "      <td>01/05/2025</td>\n",
       "      <td>10:30</td>\n",
       "      <td>19146f4a-e00f-40e4-a5b9-8167d3b5c035</td>\n",
       "      <td>Occupant</td>\n",
       "      <td>Unspecified</td>\n",
       "      <td>20810092.0</td>\n",
       "      <td>33.0</td>\n",
       "      <td>NaN</td>\n",
       "      <td>...</td>\n",
       "      <td>NaN</td>\n",
       "      <td>NaN</td>\n",
       "      <td>NaN</td>\n",
       "      <td>NaN</td>\n",
       "      <td>NaN</td>\n",
       "      <td>NaN</td>\n",
       "      <td>Registrant</td>\n",
       "      <td>NaN</td>\n",
       "      <td>NaN</td>\n",
       "      <td>F</td>\n",
       "    </tr>\n",
       "    <tr>\n",
       "      <th>5570518</th>\n",
       "      <td>13255955</td>\n",
       "      <td>4784431</td>\n",
       "      <td>01/05/2025</td>\n",
       "      <td>10:30</td>\n",
       "      <td>06cc30fd-7cd3-4e3f-8984-f9e29594ce2d</td>\n",
       "      <td>Occupant</td>\n",
       "      <td>Unspecified</td>\n",
       "      <td>20810092.0</td>\n",
       "      <td>34.0</td>\n",
       "      <td>Not Ejected</td>\n",
       "      <td>...</td>\n",
       "      <td>Does Not Apply</td>\n",
       "      <td>Driver</td>\n",
       "      <td>Lap Belt &amp; Harness</td>\n",
       "      <td>NaN</td>\n",
       "      <td>NaN</td>\n",
       "      <td>Does Not Apply</td>\n",
       "      <td>Driver</td>\n",
       "      <td>NaN</td>\n",
       "      <td>NaN</td>\n",
       "      <td>M</td>\n",
       "    </tr>\n",
       "    <tr>\n",
       "      <th>...</th>\n",
       "      <td>...</td>\n",
       "      <td>...</td>\n",
       "      <td>...</td>\n",
       "      <td>...</td>\n",
       "      <td>...</td>\n",
       "      <td>...</td>\n",
       "      <td>...</td>\n",
       "      <td>...</td>\n",
       "      <td>...</td>\n",
       "      <td>...</td>\n",
       "      <td>...</td>\n",
       "      <td>...</td>\n",
       "      <td>...</td>\n",
       "      <td>...</td>\n",
       "      <td>...</td>\n",
       "      <td>...</td>\n",
       "      <td>...</td>\n",
       "      <td>...</td>\n",
       "      <td>...</td>\n",
       "      <td>...</td>\n",
       "      <td>...</td>\n",
       "    </tr>\n",
       "    <tr>\n",
       "      <th>5570562</th>\n",
       "      <td>13256160</td>\n",
       "      <td>4784289</td>\n",
       "      <td>01/05/2024</td>\n",
       "      <td>21:47</td>\n",
       "      <td>1d060af1-6ab3-4257-a467-b3900e537d82</td>\n",
       "      <td>Occupant</td>\n",
       "      <td>Unspecified</td>\n",
       "      <td>20810201.0</td>\n",
       "      <td>27.0</td>\n",
       "      <td>NaN</td>\n",
       "      <td>...</td>\n",
       "      <td>NaN</td>\n",
       "      <td>NaN</td>\n",
       "      <td>NaN</td>\n",
       "      <td>NaN</td>\n",
       "      <td>NaN</td>\n",
       "      <td>NaN</td>\n",
       "      <td>Registrant</td>\n",
       "      <td>NaN</td>\n",
       "      <td>NaN</td>\n",
       "      <td>M</td>\n",
       "    </tr>\n",
       "    <tr>\n",
       "      <th>5570539</th>\n",
       "      <td>13255971</td>\n",
       "      <td>4784287</td>\n",
       "      <td>01/04/2025</td>\n",
       "      <td>5:29</td>\n",
       "      <td>5fa316be-d0b8-47d1-b2d0-f053215d0ce1</td>\n",
       "      <td>Occupant</td>\n",
       "      <td>Unspecified</td>\n",
       "      <td>20810105.0</td>\n",
       "      <td>21.0</td>\n",
       "      <td>Not Ejected</td>\n",
       "      <td>...</td>\n",
       "      <td>Does Not Apply</td>\n",
       "      <td>Driver</td>\n",
       "      <td>Lap Belt</td>\n",
       "      <td>NaN</td>\n",
       "      <td>NaN</td>\n",
       "      <td>Does Not Apply</td>\n",
       "      <td>Driver</td>\n",
       "      <td>NaN</td>\n",
       "      <td>NaN</td>\n",
       "      <td>F</td>\n",
       "    </tr>\n",
       "    <tr>\n",
       "      <th>5569855</th>\n",
       "      <td>13255973</td>\n",
       "      <td>4784287</td>\n",
       "      <td>01/04/2025</td>\n",
       "      <td>5:29</td>\n",
       "      <td>f66aa1d9-7bec-4fb7-870e-861624a267d6</td>\n",
       "      <td>Occupant</td>\n",
       "      <td>Unspecified</td>\n",
       "      <td>20810106.0</td>\n",
       "      <td>69.0</td>\n",
       "      <td>NaN</td>\n",
       "      <td>...</td>\n",
       "      <td>NaN</td>\n",
       "      <td>NaN</td>\n",
       "      <td>NaN</td>\n",
       "      <td>NaN</td>\n",
       "      <td>NaN</td>\n",
       "      <td>NaN</td>\n",
       "      <td>Registrant</td>\n",
       "      <td>NaN</td>\n",
       "      <td>NaN</td>\n",
       "      <td>M</td>\n",
       "    </tr>\n",
       "    <tr>\n",
       "      <th>5569948</th>\n",
       "      <td>13255974</td>\n",
       "      <td>4784287</td>\n",
       "      <td>01/04/2025</td>\n",
       "      <td>5:29</td>\n",
       "      <td>4efe1953-a12f-459e-8fa8-8ccd9738f26f</td>\n",
       "      <td>Occupant</td>\n",
       "      <td>Unspecified</td>\n",
       "      <td>20810105.0</td>\n",
       "      <td>NaN</td>\n",
       "      <td>NaN</td>\n",
       "      <td>...</td>\n",
       "      <td>NaN</td>\n",
       "      <td>NaN</td>\n",
       "      <td>NaN</td>\n",
       "      <td>NaN</td>\n",
       "      <td>NaN</td>\n",
       "      <td>NaN</td>\n",
       "      <td>Registrant</td>\n",
       "      <td>NaN</td>\n",
       "      <td>NaN</td>\n",
       "      <td>M</td>\n",
       "    </tr>\n",
       "    <tr>\n",
       "      <th>5569923</th>\n",
       "      <td>13255972</td>\n",
       "      <td>4784287</td>\n",
       "      <td>01/04/2025</td>\n",
       "      <td>5:29</td>\n",
       "      <td>d4e69860-cc1c-47da-9205-dab2980f7702</td>\n",
       "      <td>Occupant</td>\n",
       "      <td>Unspecified</td>\n",
       "      <td>20810107.0</td>\n",
       "      <td>NaN</td>\n",
       "      <td>NaN</td>\n",
       "      <td>...</td>\n",
       "      <td>NaN</td>\n",
       "      <td>NaN</td>\n",
       "      <td>NaN</td>\n",
       "      <td>NaN</td>\n",
       "      <td>NaN</td>\n",
       "      <td>NaN</td>\n",
       "      <td>Registrant</td>\n",
       "      <td>NaN</td>\n",
       "      <td>NaN</td>\n",
       "      <td>NaN</td>\n",
       "    </tr>\n",
       "  </tbody>\n",
       "</table>\n",
       "<p>200 rows × 21 columns</p>\n",
       "</div>"
      ]
     },
     "execution_count": 5,
     "metadata": {},
     "output_type": "execute_result"
    }
   ],
   "execution_count": 5
  },
  {
   "cell_type": "markdown",
   "source": [
    "### FORMATTED ZONE"
   ],
   "metadata": {
    "collapsed": false
   },
   "id": "d6b32a4e21dd83bd"
  },
  {
   "cell_type": "code",
   "source": [
    "do.get_execution_logs()\n",
    "\n",
    "do.execute_stage(stage_name=\"formatted\")"
   ],
   "metadata": {
    "collapsed": false,
    "ExecuteTime": {
     "end_time": "2025-01-10T11:38:31.784959Z",
     "start_time": "2025-01-10T11:37:31.989125Z"
    }
   },
   "id": "afbffc957aae4a93",
   "outputs": [
    {
     "name": "stdout",
     "output_type": "stream",
     "text": [
      "No execution logs found.\n",
      "Starting execution of stage: formatted\n",
      "Executing formatted phase...\n",
      "Executing CSVFormatted in formatted phase\n"
     ]
    },
    {
     "name": "stderr",
     "output_type": "stream",
     "text": [
      "C:\\Users\\ferra\\PycharmProjects\\adsdb-project\\src\\storage\\formatted\\csv.py:13: DtypeWarning: Columns (3) have mixed types. Specify dtype option on import or set low_memory=False.\n",
      "  return pd.read_csv(f\"{self.persistent_folder}{os.path.sep}{path}\")\n"
     ]
    },
    {
     "name": "stdout",
     "output_type": "stream",
     "text": [
      "Table motorvehiclecollisionscrashes2012 created successfully.\n",
      "Table motorvehiclecollisionsperson2012 created successfully.\n"
     ]
    },
    {
     "name": "stderr",
     "output_type": "stream",
     "text": [
      "C:\\Users\\ferra\\PycharmProjects\\adsdb-project\\src\\storage\\formatted\\csv.py:13: DtypeWarning: Columns (4,12,13,14) have mixed types. Specify dtype option on import or set low_memory=False.\n",
      "  return pd.read_csv(f\"{self.persistent_folder}{os.path.sep}{path}\")\n"
     ]
    },
    {
     "name": "stdout",
     "output_type": "stream",
     "text": [
      "Table motorvehiclecollisionsvehicles2012 created successfully.\n",
      "Executing JSONFormatted in formatted phase\n",
      "Table nhtsa_safety_rating_20241027 created successfully.\n",
      "Formatted phase completed.\n",
      "Execution of stage 'formatted' completed.\n"
     ]
    }
   ],
   "execution_count": 5
  },
  {
   "cell_type": "code",
   "source": "do.pipeline.connectors['formatted_connector'].get_tables()",
   "metadata": {
    "collapsed": false,
    "ExecuteTime": {
     "end_time": "2025-01-10T11:39:30.363615Z",
     "start_time": "2025-01-10T11:39:30.327641Z"
    }
   },
   "id": "f6ddcda104e22876",
   "outputs": [
    {
     "data": {
      "text/plain": [
       "['motorvehiclecollisionscrashes2012',\n",
       " 'motorvehiclecollisionsperson2012',\n",
       " 'motorvehiclecollisionsvehicles2012',\n",
       " 'nhtsa_safety_rating_20241027']"
      ]
     },
     "execution_count": 8,
     "metadata": {},
     "output_type": "execute_result"
    }
   ],
   "execution_count": 8
  },
  {
   "metadata": {
    "ExecuteTime": {
     "end_time": "2025-01-10T11:39:46.284926Z",
     "start_time": "2025-01-10T11:39:46.272789Z"
    }
   },
   "cell_type": "code",
   "source": "do.get_execution_logs()",
   "id": "d328c78935b86bb3",
   "outputs": [
    {
     "name": "stdout",
     "output_type": "stream",
     "text": [
      "Execution Logs:\n",
      "Layer: CSVFormatted, Status: done, Last Execution: 2025-01-10 12:37:39, Error: None\n",
      "Layer: JSONFormatted, Status: done, Last Execution: 2025-01-10 12:38:31, Error: None\n"
     ]
    },
    {
     "data": {
      "text/plain": [
       "[('CSVFormatted', 'done', datetime.datetime(2025, 1, 10, 12, 37, 39), None),\n",
       " ('JSONFormatted', 'done', datetime.datetime(2025, 1, 10, 12, 38, 31), None)]"
      ]
     },
     "execution_count": 9,
     "metadata": {},
     "output_type": "execute_result"
    }
   ],
   "execution_count": 9
  },
  {
   "cell_type": "code",
   "source": [
    "do.execute_stage(stage_name=\"trusted\")"
   ],
   "metadata": {
    "collapsed": false,
    "ExecuteTime": {
     "end_time": "2025-01-10T11:42:51.358800Z",
     "start_time": "2025-01-10T11:40:00.657904Z"
    }
   },
   "id": "32efa47ee57bef24",
   "outputs": [
    {
     "name": "stdout",
     "output_type": "stream",
     "text": [
      "Starting execution of stage: trusted\n",
      "Executing trusted phase...\n",
      "Executing MVCPersonTrusted in trusted phase\n",
      "Table mvc_person created successfully.\n",
      "Executing MVCVehiclesTrusted in trusted phase\n",
      "Table mvc_vehicles created successfully.\n",
      "Executing MVCCrashTrusted in trusted phase\n",
      "Table mvc_crash created successfully.\n",
      "Executing NHTSASafetyRatingTrusted in trusted phase\n",
      "Table nhtsa_safety_rating created successfully.\n",
      "Trusted phase completed.\n",
      "Execution of stage 'trusted' completed.\n"
     ]
    }
   ],
   "execution_count": 10
  },
  {
   "metadata": {
    "ExecuteTime": {
     "end_time": "2025-01-10T11:42:51.452539Z",
     "start_time": "2025-01-10T11:42:51.440856Z"
    }
   },
   "cell_type": "code",
   "source": "do.get_execution_logs()",
   "id": "bfcb94a67e466e57",
   "outputs": [
    {
     "name": "stdout",
     "output_type": "stream",
     "text": [
      "Execution Logs:\n",
      "Layer: CSVFormatted, Status: done, Last Execution: 2025-01-10 12:37:39, Error: None\n",
      "Layer: JSONFormatted, Status: done, Last Execution: 2025-01-10 12:38:31, Error: None\n",
      "Layer: MVCPersonTrusted, Status: done, Last Execution: 2025-01-10 12:40:01, Error: None\n",
      "Layer: MVCVehiclesTrusted, Status: done, Last Execution: 2025-01-10 12:42:20, Error: None\n",
      "Layer: MVCCrashTrusted, Status: done, Last Execution: 2025-01-10 12:42:39, Error: None\n",
      "Layer: NHTSASafetyRatingTrusted, Status: done, Last Execution: 2025-01-10 12:42:51, Error: None\n"
     ]
    },
    {
     "data": {
      "text/plain": [
       "[('CSVFormatted', 'done', datetime.datetime(2025, 1, 10, 12, 37, 39), None),\n",
       " ('JSONFormatted', 'done', datetime.datetime(2025, 1, 10, 12, 38, 31), None),\n",
       " ('MVCPersonTrusted', 'done', datetime.datetime(2025, 1, 10, 12, 40, 1), None),\n",
       " ('MVCVehiclesTrusted',\n",
       "  'done',\n",
       "  datetime.datetime(2025, 1, 10, 12, 42, 20),\n",
       "  None),\n",
       " ('MVCCrashTrusted', 'done', datetime.datetime(2025, 1, 10, 12, 42, 39), None),\n",
       " ('NHTSASafetyRatingTrusted',\n",
       "  'done',\n",
       "  datetime.datetime(2025, 1, 10, 12, 42, 51),\n",
       "  None)]"
      ]
     },
     "execution_count": 11,
     "metadata": {},
     "output_type": "execute_result"
    }
   ],
   "execution_count": 11
  },
  {
   "metadata": {
    "ExecuteTime": {
     "end_time": "2025-01-10T11:42:51.678375Z",
     "start_time": "2025-01-10T11:42:51.590514Z"
    }
   },
   "cell_type": "code",
   "source": "do.pipeline.connectors['trusted_connector'].get_tables()",
   "id": "9868984a2bf86f2d",
   "outputs": [
    {
     "data": {
      "text/plain": [
       "['mvc_crash', 'mvc_person', 'mvc_vehicles', 'nhtsa_safety_rating']"
      ]
     },
     "execution_count": 12,
     "metadata": {},
     "output_type": "execute_result"
    }
   ],
   "execution_count": 12
  },
  {
   "cell_type": "markdown",
   "source": "### EXPLOITATION ZONE",
   "metadata": {
    "collapsed": false
   },
   "id": "292470997355da7b"
  },
  {
   "cell_type": "code",
   "source": [
    "do.execute_stage(stage_name=\"exploitation\")"
   ],
   "metadata": {
    "collapsed": false,
    "ExecuteTime": {
     "end_time": "2025-01-10T12:02:18.653063Z",
     "start_time": "2025-01-10T12:02:17.243850Z"
    }
   },
   "id": "f764e6ea77525a40",
   "outputs": [
    {
     "name": "stdout",
     "output_type": "stream",
     "text": [
      "Starting execution of stage: exploitation\n",
      "Executing exploitation phase...\n",
      "Executing CollisionInformationExploitation in exploitation phase\n",
      "Table safety_rating_by_accidents created successfully.\n",
      "Executing VehicleInformationExploitation in exploitation phase\n",
      "Table mvc_safety_rating_by_brand created successfully.\n",
      "Exploitation phase completed.\n",
      "Execution of stage 'exploitation' completed.\n"
     ]
    }
   ],
   "execution_count": 2
  },
  {
   "cell_type": "code",
   "source": [
    "do.get_execution_logs()"
   ],
   "metadata": {
    "collapsed": false,
    "ExecuteTime": {
     "end_time": "2025-01-10T12:02:23.718020Z",
     "start_time": "2025-01-10T12:02:23.693378Z"
    }
   },
   "id": "90c0ff1230fb5cb4",
   "outputs": [
    {
     "name": "stdout",
     "output_type": "stream",
     "text": [
      "Execution Logs:\n",
      "Layer: CSVFormatted, Status: done, Last Execution: 2025-01-10 12:37:39, Error: None\n",
      "Layer: JSONFormatted, Status: done, Last Execution: 2025-01-10 12:38:31, Error: None\n",
      "Layer: MVCPersonTrusted, Status: done, Last Execution: 2025-01-10 12:40:01, Error: None\n",
      "Layer: MVCVehiclesTrusted, Status: done, Last Execution: 2025-01-10 12:42:20, Error: None\n",
      "Layer: MVCCrashTrusted, Status: done, Last Execution: 2025-01-10 12:42:39, Error: None\n",
      "Layer: NHTSASafetyRatingTrusted, Status: done, Last Execution: 2025-01-10 12:42:51, Error: None\n",
      "Layer: CollisionInformationExploitation, Status: done, Last Execution: 2025-01-10 13:02:17, Error: None\n",
      "Layer: VehicleInformationExploitation, Status: done, Last Execution: 2025-01-10 13:02:18, Error: None\n"
     ]
    },
    {
     "data": {
      "text/plain": [
       "[('CSVFormatted', 'done', datetime.datetime(2025, 1, 10, 12, 37, 39), None),\n",
       " ('JSONFormatted', 'done', datetime.datetime(2025, 1, 10, 12, 38, 31), None),\n",
       " ('MVCPersonTrusted', 'done', datetime.datetime(2025, 1, 10, 12, 40, 1), None),\n",
       " ('MVCVehiclesTrusted',\n",
       "  'done',\n",
       "  datetime.datetime(2025, 1, 10, 12, 42, 20),\n",
       "  None),\n",
       " ('MVCCrashTrusted', 'done', datetime.datetime(2025, 1, 10, 12, 42, 39), None),\n",
       " ('NHTSASafetyRatingTrusted',\n",
       "  'done',\n",
       "  datetime.datetime(2025, 1, 10, 12, 42, 51),\n",
       "  None),\n",
       " ('CollisionInformationExploitation',\n",
       "  'done',\n",
       "  datetime.datetime(2025, 1, 10, 13, 2, 17),\n",
       "  None),\n",
       " ('VehicleInformationExploitation',\n",
       "  'done',\n",
       "  datetime.datetime(2025, 1, 10, 13, 2, 18),\n",
       "  None)]"
      ]
     },
     "execution_count": 3,
     "metadata": {},
     "output_type": "execute_result"
    }
   ],
   "execution_count": 3
  },
  {
   "cell_type": "markdown",
   "source": [
    "### COMPLETE EXECUTION"
   ],
   "metadata": {
    "collapsed": false
   },
   "id": "61eb937af396398f"
  },
  {
   "cell_type": "code",
   "execution_count": null,
   "outputs": [],
   "source": [
    "do.execute_pipeline()"
   ],
   "metadata": {
    "collapsed": false
   },
   "id": "536b159ce705e855"
  },
  {
   "cell_type": "markdown",
   "source": [
    "### TRY DOWNLOADS"
   ],
   "metadata": {
    "collapsed": false
   },
   "id": "b4a63d372b89e03c"
  },
  {
   "cell_type": "code",
   "execution_count": 2,
   "outputs": [
    {
     "name": "stdout",
     "output_type": "stream",
     "text": [
      "Starting download from https://data.cityofnewyork.us/api/views/h9gi-nx95/rows.csv?date=20241030&accessType=DOWNLOAD...\n"
     ]
    },
    {
     "name": "stderr",
     "output_type": "stream",
     "text": [
      "Motor_Vehicle_Collisions_-_Crashes_20241030.csv: 474kB [00:00, 2.98MB/s]"
     ]
    },
    {
     "name": "stdout",
     "output_type": "stream",
     "text": [
      "CPU Usage: 1.2%, Memory Usage: 48.5%\n"
     ]
    },
    {
     "name": "stderr",
     "output_type": "stream",
     "text": [
      "Motor_Vehicle_Collisions_-_Crashes_20241030.csv: 14.9MB [00:06, 2.46MB/s]"
     ]
    },
    {
     "name": "stdout",
     "output_type": "stream",
     "text": [
      "CPU Usage: 0.8%, Memory Usage: 48.5%\n"
     ]
    },
    {
     "name": "stderr",
     "output_type": "stream",
     "text": [
      "Motor_Vehicle_Collisions_-_Crashes_20241030.csv: 28.7MB [00:12, 3.22MB/s]"
     ]
    },
    {
     "name": "stdout",
     "output_type": "stream",
     "text": [
      "CPU Usage: 1.0%, Memory Usage: 48.5%\n"
     ]
    },
    {
     "name": "stderr",
     "output_type": "stream",
     "text": [
      "Motor_Vehicle_Collisions_-_Crashes_20241030.csv: 48.6MB [00:18, 3.86MB/s]"
     ]
    },
    {
     "name": "stdout",
     "output_type": "stream",
     "text": [
      "CPU Usage: 0.2%, Memory Usage: 48.6%\n"
     ]
    },
    {
     "name": "stderr",
     "output_type": "stream",
     "text": [
      "Motor_Vehicle_Collisions_-_Crashes_20241030.csv: 70.0MB [00:24, 3.13MB/s]"
     ]
    },
    {
     "name": "stdout",
     "output_type": "stream",
     "text": [
      "CPU Usage: 1.1%, Memory Usage: 48.7%\n"
     ]
    },
    {
     "name": "stderr",
     "output_type": "stream",
     "text": [
      "Motor_Vehicle_Collisions_-_Crashes_20241030.csv: 93.0MB [00:30, 3.80MB/s]"
     ]
    },
    {
     "name": "stdout",
     "output_type": "stream",
     "text": [
      "CPU Usage: 1.0%, Memory Usage: 48.7%\n"
     ]
    },
    {
     "name": "stderr",
     "output_type": "stream",
     "text": [
      "Motor_Vehicle_Collisions_-_Crashes_20241030.csv: 116MB [00:36, 3.89MB/s] "
     ]
    },
    {
     "name": "stdout",
     "output_type": "stream",
     "text": [
      "CPU Usage: 1.7%, Memory Usage: 48.7%\n"
     ]
    },
    {
     "name": "stderr",
     "output_type": "stream",
     "text": [
      "Motor_Vehicle_Collisions_-_Crashes_20241030.csv: 118MB [00:36, 3.36MB/s]\n",
      "\n",
      "KeyboardInterrupt\n",
      "\n"
     ]
    }
   ],
   "source": [
    "do.download_last_datasources()"
   ],
   "metadata": {
    "collapsed": false,
    "ExecuteTime": {
     "end_time": "2024-10-30T05:47:55.115272900Z",
     "start_time": "2024-10-30T05:47:16.818312500Z"
    }
   },
   "id": "254f8c8d44021c47"
  }
 ],
 "metadata": {
  "kernelspec": {
   "display_name": "Python 3",
   "language": "python",
   "name": "python3"
  },
  "language_info": {
   "codemirror_mode": {
    "name": "ipython",
    "version": 2
   },
   "file_extension": ".py",
   "mimetype": "text/x-python",
   "name": "python",
   "nbconvert_exporter": "python",
   "pygments_lexer": "ipython2",
   "version": "2.7.6"
  }
 },
 "nbformat": 4,
 "nbformat_minor": 5
}
