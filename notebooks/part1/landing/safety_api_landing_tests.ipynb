{
 "cells": [
  {
   "cell_type": "code",
   "id": "initial_id",
   "metadata": {
    "collapsed": true
   },
   "source": [
    "import pandas as pd\n",
    "\n",
    "api_url = \"https://api.nhtsa.gov/SafetyRatings/VehicleId\"\n",
    "headers = {\n",
    "    \"User-Agent\": \"Mozilla/5.0 (Windows NT 10.0; Win64; x64) AppleWebKit/537.36 (KHTML, like Gecko) Chrome/58.0.3029.110 Safari/537.3\",\n",
    "}\n",
    "min_vehicle_id = 25000\n",
    "max_vehicle_id = 35000"
   ],
   "outputs": [],
   "execution_count": null
  },
  {
   "metadata": {},
   "cell_type": "code",
   "source": [
    "import requests\n",
    "\n",
    "\n",
    "def fetch_vehicle_data(vehicle_id: int) -> dict:\n",
    "    try:\n",
    "        response = requests.get(f\"{api_url}/{vehicle_id}\", headers=headers)\n",
    "        response.raise_for_status()\n",
    "        return response.json()\n",
    "    except requests.exceptions.RequestException as e:\n",
    "        print(f\"Failed to retrieve data for vehicle ID {vehicle_id}: {e}\")\n",
    "        return {}"
   ],
   "id": "544ca84224fb68e3",
   "outputs": [],
   "execution_count": null
  },
  {
   "cell_type": "code",
   "source": [
    "result = fetch_vehicle_data(1)\n",
    "\n",
    "print(result)"
   ],
   "metadata": {
    "collapsed": false
   },
   "id": "6fea07d41a56dc80",
   "outputs": [],
   "execution_count": null
  },
  {
   "cell_type": "markdown",
   "source": [
    "We need to program a function to each hour retrieve all database from id 1 to id 25000 in parallel"
   ],
   "metadata": {
    "collapsed": false
   },
   "id": "9ebab164301d94d4"
  },
  {
   "cell_type": "code",
   "source": [
    "import concurrent.futures\n",
    "from tqdm import tqdm\n",
    "\n",
    "\n",
    "def fetch_all_vehicle_data_in_parallel(min_id: int, max_id: int) -> dict[list]:\n",
    "    # with concurrent.futures.ThreadPoolExecutor() as executor:\n",
    "    results = []\n",
    "    for i in tqdm(range(min_id, max_id + 1)):\n",
    "        cdict = fetch_vehicle_data(i)\n",
    "        if cdict != {}:\n",
    "            results.append(cdict)\n",
    "        else:\n",
    "            time.sleep(10)\n",
    "            print(\"Waiting 10 seconds, as we were forbidded at index\" + str(i))\n",
    "    return {\"apiResponse\": results}"
   ],
   "metadata": {
    "collapsed": false
   },
   "id": "559448198e1e9f1d",
   "outputs": [],
   "execution_count": null
  },
  {
   "cell_type": "code",
   "source": [
    "output_folder = \"data/landing/temporal\""
   ],
   "metadata": {
    "collapsed": false
   },
   "id": "4538211754cbc784",
   "outputs": [],
   "execution_count": null
  },
  {
   "cell_type": "code",
   "source": [
    "import os\n",
    "import json\n",
    "\n",
    "\n",
    "def save_vehicle_data(data, filepath):\n",
    "    with open(filepath, \"w\") as f:\n",
    "        json.dump(data, f, indent=4)"
   ],
   "metadata": {
    "collapsed": false
   },
   "id": "3ae37c459d96e270",
   "outputs": [],
   "execution_count": null
  },
  {
   "metadata": {},
   "cell_type": "code",
   "source": [
    "min_vehicle_id, max_vehicle_id"
   ],
   "id": "b7cb61791f52a110",
   "outputs": [],
   "execution_count": null
  },
  {
   "cell_type": "code",
   "source": [
    "all_vehicle_data = fetch_all_vehicle_data_in_parallel(min_vehicle_id, max_vehicle_id)"
   ],
   "metadata": {
    "collapsed": false
   },
   "id": "79c36388490c91ff",
   "outputs": [],
   "execution_count": null
  },
  {
   "cell_type": "code",
   "execution_count": null,
   "outputs": [],
   "source": [
    "print(all_vehicle_data)"
   ],
   "metadata": {
    "collapsed": false
   },
   "id": "1ef255235b907333"
  },
  {
   "cell_type": "code",
   "execution_count": null,
   "outputs": [],
   "source": [
    "import pandas as pd"
   ],
   "metadata": {
    "collapsed": false
   },
   "id": "a2bf379945d5a4f1"
  },
  {
   "cell_type": "code",
   "source": [
    "import time\n",
    "\n",
    "timestamp = time.strftime(\"%Y%m%d\")\n",
    "filepath = f\"{output_folder}/NHTSA_-_Safety_Rating_{timestamp}.json\"\n",
    "save_vehicle_data(all_vehicle_data, filepath)"
   ],
   "metadata": {
    "collapsed": false
   },
   "id": "2ba7f6e0d5b70a0",
   "outputs": [],
   "execution_count": null
  },
  {
   "cell_type": "code",
   "source": [
    "import os\n",
    "\n",
    "root_folder = os.path.join(os.path.abspath(os.getcwd()), \"..\", \"..\")\n",
    "output_folder = os.path.join(root_folder, \"data\", \"landing\", \"temporal\")\n",
    "\n",
    "output_folder"
   ],
   "metadata": {
    "collapsed": false
   },
   "id": "daad3f2edd12b85a",
   "outputs": [],
   "execution_count": null
  },
  {
   "cell_type": "code",
   "source": [
    "import time\n",
    "\n",
    "timestamp = time.strftime(\"%Y%m%d\")\n",
    "filepath = f\"{output_folder}/NHTSA_-_Safety_Rating_{timestamp}.json\"\n",
    "save_vehicle_data(all_vehicle_data, filepath)"
   ],
   "metadata": {
    "collapsed": false
   },
   "id": "74d3386d48caf876",
   "outputs": [],
   "execution_count": null
  },
  {
   "metadata": {},
   "cell_type": "code",
   "source": [
    "save_vehicle_data(all_vehicle_data, \"./20241027.json\")"
   ],
   "id": "f5f70594ba739af6",
   "outputs": [],
   "execution_count": null
  },
  {
   "metadata": {},
   "cell_type": "code",
   "source": [
    "timestamp"
   ],
   "id": "ff7be596c492507f",
   "outputs": [],
   "execution_count": null
  },
  {
   "metadata": {},
   "cell_type": "code",
   "source": [
    "len(all_vehicle_data[\"apiResponse\"])"
   ],
   "id": "cf70081730f37cd4",
   "outputs": [],
   "execution_count": null
  }
 ],
 "metadata": {
  "kernelspec": {
   "display_name": "Python 3",
   "language": "python",
   "name": "python3"
  },
  "language_info": {
   "codemirror_mode": {
    "name": "ipython",
    "version": 2
   },
   "file_extension": ".py",
   "mimetype": "text/x-python",
   "name": "python",
   "nbconvert_exporter": "python",
   "pygments_lexer": "ipython2",
   "version": "2.7.6"
  }
 },
 "nbformat": 4,
 "nbformat_minor": 5
}
