{
 "cells": [
  {
   "cell_type": "code",
   "execution_count": null,
   "outputs": [],
   "source": [
    "# from src.helpers.csv_sampler import CSVSampler\n",
    "#\n",
    "# sampler = CSVSampler(r'C:\\Users\\ferra\\PycharmProjects\\adsdb-project\\data\\landing\\persistent\\motor_vehicle_collisions\\person\\20241027.csv')\n",
    "#\n",
    "# sample_df = sampler.random_sample(sample_size=200, output_file=r'C:\\Users\\ferra\\PycharmProjects\\adsdb-project\\data\\landing\\persistent\\motor_vehicle_collisions\\person\\20241027_sampled.csv')"
   ],
   "metadata": {
    "collapsed": false
   },
   "id": "1f73a11eb9740f82"
  },
  {
   "cell_type": "code",
   "execution_count": 1,
   "id": "initial_id",
   "metadata": {
    "collapsed": true,
    "ExecuteTime": {
     "end_time": "2024-10-27T16:26:37.494483500Z",
     "start_time": "2024-10-27T16:26:35.219739500Z"
    }
   },
   "outputs": [
    {
     "name": "stdout",
     "output_type": "stream",
     "text": [
      "['motorvehiclecollisionsperson20241027', 'data']\n"
     ]
    }
   ],
   "source": [
    "from src.helpers.db_connector import DBConnector\n",
    "\n",
    "formatted_db_connector = DBConnector()\n",
    "trusted_db_connector = DBConnector()\n",
    "\n",
    "from src.storage.formatted import CSVFormatted\n",
    "\n",
    "csv_formatted = CSVFormatted(\n",
    "    persistent_folder=r\"C:\\Users\\ferra\\PycharmProjects\\adsdb-project\\data\\landing\\persistent\",\n",
    "    formatted_db_connector=formatted_db_connector,\n",
    ")\n",
    "\n",
    "csv_formatted.execute()\n",
    "print(formatted_db_connector.get_tables())\n",
    "\n",
    "from src.storage.trusted.mvc_person import MVCPerson\n",
    "\n",
    "trusted = MVCPerson(\n",
    "    formatted_db_connector=formatted_db_connector,\n",
    "    trusted_db_connector=trusted_db_connector,\n",
    ")"
   ]
  },
  {
   "cell_type": "code",
   "execution_count": 2,
   "outputs": [],
   "source": [
    "df = formatted_db_connector.get_table_as_dataframe(\n",
    "    \"motorvehiclecollisionsperson20241027\"\n",
    ")"
   ],
   "metadata": {
    "collapsed": false,
    "ExecuteTime": {
     "end_time": "2024-10-27T16:26:37.502864700Z",
     "start_time": "2024-10-27T16:26:37.492483200Z"
    }
   },
   "id": "625fc87e14d8c478"
  },
  {
   "cell_type": "code",
   "execution_count": 3,
   "outputs": [
    {
     "data": {
      "text/plain": "['motorvehiclecollisionsperson20241027', 'data']"
     },
     "execution_count": 3,
     "metadata": {},
     "output_type": "execute_result"
    }
   ],
   "source": [
    "formatted_db_connector.get_tables()"
   ],
   "metadata": {
    "collapsed": false,
    "ExecuteTime": {
     "end_time": "2024-10-27T16:26:37.507061500Z",
     "start_time": "2024-10-27T16:26:37.497323700Z"
    }
   },
   "id": "d0fd3c63c6b86573"
  },
  {
   "cell_type": "code",
   "execution_count": 4,
   "outputs": [
    {
     "data": {
      "text/plain": "     UNIQUE_ID  COLLISION_ID  CRASH_DATE CRASH_TIME  \\\n0     12793707       4677288  11/04/2023      13:40   \n1     10052629       4184140  08/06/2019      20:30   \n2     11276362       3486366  07/21/2016      12:45   \n3      6356736       3489376  07/18/2016      13:16   \n4      6065628       3603297  01/23/2017      22:40   \n..         ...           ...         ...        ...   \n195   12809082       4681034  11/04/2023      16:35   \n196    6178262       3489677  07/24/2016      18:50   \n197   12651106       4639779  06/22/2023       0:29   \n198    7927949       3790068  11/14/2017      17:55   \n199   10120139       4199756  09/04/2019      18:30   \n\n                                PERSON_ID PERSON_TYPE PERSON_INJURY  \\\n0    b8bded02-39d3-4add-a505-0ca9e6e4ecfd    Occupant   Unspecified   \n1    1e06ba26-4614-46ba-9f22-74478bbf204b    Occupant   Unspecified   \n2                                 1285342    Occupant   Unspecified   \n3                                 1357006    Occupant   Unspecified   \n4    7afaa8c6-6112-4237-bcfe-d3d76d42bfab    Occupant   Unspecified   \n..                                    ...         ...           ...   \n195  99c7fc80-0229-4563-9f0f-eca0848145b9    Occupant   Unspecified   \n196  d6b508a0-3e39-4b6c-976e-f4994751a04f    Occupant   Unspecified   \n197  39cf543b-2828-46b5-83ea-89398e977d41    Occupant   Unspecified   \n198  7475fbb0-c141-45ef-a488-d337fced88f9    Occupant   Unspecified   \n199  947cbb29-0a9d-41b2-b26d-2ecf92452fd1    Occupant   Unspecified   \n\n     VEHICLE_ID  PERSON_AGE     EJECTION  ...   BODILY_INJURY  \\\n0    20545909.0        30.0         None  ...            None   \n1    19042399.0        39.0         None  ...            None   \n2           NaN        33.0  Not Ejected  ...  Does Not Apply   \n3    17233602.0        55.0  Not Ejected  ...  Does Not Apply   \n4    17095672.0         0.0         None  ...            None   \n..          ...         ...          ...  ...             ...   \n195  20554502.0         NaN         None  ...            None   \n196  17150048.0        61.0         None  ...            None   \n197  20464487.0        70.0  Not Ejected  ...  Does Not Apply   \n198  17993367.0        45.0  Not Ejected  ...  Does Not Apply   \n199  19076509.0        21.0  Not Ejected  ...  Does Not Apply   \n\n    POSITION_IN_VEHICLE    SAFETY_EQUIPMENT PED_LOCATION PED_ACTION  \\\n0                  None                None         None       None   \n1                  None                None         None       None   \n2                Driver  Lap Belt & Harness         None       None   \n3                Driver  Lap Belt & Harness         None       None   \n4                  None                None         None       None   \n..                  ...                 ...          ...        ...   \n195                None                None         None       None   \n196                None                None         None       None   \n197              Driver            Lap Belt         None       None   \n198              Driver  Lap Belt & Harness         None       None   \n199              Driver             Unknown         None       None   \n\n          COMPLAINT    PED_ROLE CONTRIBUTING_FACTOR_1 CONTRIBUTING_FACTOR_2  \\\n0              None  Registrant                  None                  None   \n1              None  Registrant                  None                  None   \n2    Does Not Apply      Driver                  None                  None   \n3    Does Not Apply      Driver                  None                  None   \n4              None  Registrant                  None                  None   \n..              ...         ...                   ...                   ...   \n195            None  Registrant                  None                  None   \n196            None  Registrant                  None                  None   \n197  Does Not Apply      Driver                  None                  None   \n198  Does Not Apply      Driver                  None                  None   \n199  Does Not Apply      Driver                  None                  None   \n\n    PERSON_SEX  \n0            M  \n1            M  \n2            M  \n3            M  \n4         None  \n..         ...  \n195          M  \n196          M  \n197          M  \n198          M  \n199          F  \n\n[200 rows x 21 columns]",
      "text/html": "<div>\n<style scoped>\n    .dataframe tbody tr th:only-of-type {\n        vertical-align: middle;\n    }\n\n    .dataframe tbody tr th {\n        vertical-align: top;\n    }\n\n    .dataframe thead th {\n        text-align: right;\n    }\n</style>\n<table border=\"1\" class=\"dataframe\">\n  <thead>\n    <tr style=\"text-align: right;\">\n      <th></th>\n      <th>UNIQUE_ID</th>\n      <th>COLLISION_ID</th>\n      <th>CRASH_DATE</th>\n      <th>CRASH_TIME</th>\n      <th>PERSON_ID</th>\n      <th>PERSON_TYPE</th>\n      <th>PERSON_INJURY</th>\n      <th>VEHICLE_ID</th>\n      <th>PERSON_AGE</th>\n      <th>EJECTION</th>\n      <th>...</th>\n      <th>BODILY_INJURY</th>\n      <th>POSITION_IN_VEHICLE</th>\n      <th>SAFETY_EQUIPMENT</th>\n      <th>PED_LOCATION</th>\n      <th>PED_ACTION</th>\n      <th>COMPLAINT</th>\n      <th>PED_ROLE</th>\n      <th>CONTRIBUTING_FACTOR_1</th>\n      <th>CONTRIBUTING_FACTOR_2</th>\n      <th>PERSON_SEX</th>\n    </tr>\n  </thead>\n  <tbody>\n    <tr>\n      <th>0</th>\n      <td>12793707</td>\n      <td>4677288</td>\n      <td>11/04/2023</td>\n      <td>13:40</td>\n      <td>b8bded02-39d3-4add-a505-0ca9e6e4ecfd</td>\n      <td>Occupant</td>\n      <td>Unspecified</td>\n      <td>20545909.0</td>\n      <td>30.0</td>\n      <td>None</td>\n      <td>...</td>\n      <td>None</td>\n      <td>None</td>\n      <td>None</td>\n      <td>None</td>\n      <td>None</td>\n      <td>None</td>\n      <td>Registrant</td>\n      <td>None</td>\n      <td>None</td>\n      <td>M</td>\n    </tr>\n    <tr>\n      <th>1</th>\n      <td>10052629</td>\n      <td>4184140</td>\n      <td>08/06/2019</td>\n      <td>20:30</td>\n      <td>1e06ba26-4614-46ba-9f22-74478bbf204b</td>\n      <td>Occupant</td>\n      <td>Unspecified</td>\n      <td>19042399.0</td>\n      <td>39.0</td>\n      <td>None</td>\n      <td>...</td>\n      <td>None</td>\n      <td>None</td>\n      <td>None</td>\n      <td>None</td>\n      <td>None</td>\n      <td>None</td>\n      <td>Registrant</td>\n      <td>None</td>\n      <td>None</td>\n      <td>M</td>\n    </tr>\n    <tr>\n      <th>2</th>\n      <td>11276362</td>\n      <td>3486366</td>\n      <td>07/21/2016</td>\n      <td>12:45</td>\n      <td>1285342</td>\n      <td>Occupant</td>\n      <td>Unspecified</td>\n      <td>NaN</td>\n      <td>33.0</td>\n      <td>Not Ejected</td>\n      <td>...</td>\n      <td>Does Not Apply</td>\n      <td>Driver</td>\n      <td>Lap Belt &amp; Harness</td>\n      <td>None</td>\n      <td>None</td>\n      <td>Does Not Apply</td>\n      <td>Driver</td>\n      <td>None</td>\n      <td>None</td>\n      <td>M</td>\n    </tr>\n    <tr>\n      <th>3</th>\n      <td>6356736</td>\n      <td>3489376</td>\n      <td>07/18/2016</td>\n      <td>13:16</td>\n      <td>1357006</td>\n      <td>Occupant</td>\n      <td>Unspecified</td>\n      <td>17233602.0</td>\n      <td>55.0</td>\n      <td>Not Ejected</td>\n      <td>...</td>\n      <td>Does Not Apply</td>\n      <td>Driver</td>\n      <td>Lap Belt &amp; Harness</td>\n      <td>None</td>\n      <td>None</td>\n      <td>Does Not Apply</td>\n      <td>Driver</td>\n      <td>None</td>\n      <td>None</td>\n      <td>M</td>\n    </tr>\n    <tr>\n      <th>4</th>\n      <td>6065628</td>\n      <td>3603297</td>\n      <td>01/23/2017</td>\n      <td>22:40</td>\n      <td>7afaa8c6-6112-4237-bcfe-d3d76d42bfab</td>\n      <td>Occupant</td>\n      <td>Unspecified</td>\n      <td>17095672.0</td>\n      <td>0.0</td>\n      <td>None</td>\n      <td>...</td>\n      <td>None</td>\n      <td>None</td>\n      <td>None</td>\n      <td>None</td>\n      <td>None</td>\n      <td>None</td>\n      <td>Registrant</td>\n      <td>None</td>\n      <td>None</td>\n      <td>None</td>\n    </tr>\n    <tr>\n      <th>...</th>\n      <td>...</td>\n      <td>...</td>\n      <td>...</td>\n      <td>...</td>\n      <td>...</td>\n      <td>...</td>\n      <td>...</td>\n      <td>...</td>\n      <td>...</td>\n      <td>...</td>\n      <td>...</td>\n      <td>...</td>\n      <td>...</td>\n      <td>...</td>\n      <td>...</td>\n      <td>...</td>\n      <td>...</td>\n      <td>...</td>\n      <td>...</td>\n      <td>...</td>\n      <td>...</td>\n    </tr>\n    <tr>\n      <th>195</th>\n      <td>12809082</td>\n      <td>4681034</td>\n      <td>11/04/2023</td>\n      <td>16:35</td>\n      <td>99c7fc80-0229-4563-9f0f-eca0848145b9</td>\n      <td>Occupant</td>\n      <td>Unspecified</td>\n      <td>20554502.0</td>\n      <td>NaN</td>\n      <td>None</td>\n      <td>...</td>\n      <td>None</td>\n      <td>None</td>\n      <td>None</td>\n      <td>None</td>\n      <td>None</td>\n      <td>None</td>\n      <td>Registrant</td>\n      <td>None</td>\n      <td>None</td>\n      <td>M</td>\n    </tr>\n    <tr>\n      <th>196</th>\n      <td>6178262</td>\n      <td>3489677</td>\n      <td>07/24/2016</td>\n      <td>18:50</td>\n      <td>d6b508a0-3e39-4b6c-976e-f4994751a04f</td>\n      <td>Occupant</td>\n      <td>Unspecified</td>\n      <td>17150048.0</td>\n      <td>61.0</td>\n      <td>None</td>\n      <td>...</td>\n      <td>None</td>\n      <td>None</td>\n      <td>None</td>\n      <td>None</td>\n      <td>None</td>\n      <td>None</td>\n      <td>Registrant</td>\n      <td>None</td>\n      <td>None</td>\n      <td>M</td>\n    </tr>\n    <tr>\n      <th>197</th>\n      <td>12651106</td>\n      <td>4639779</td>\n      <td>06/22/2023</td>\n      <td>0:29</td>\n      <td>39cf543b-2828-46b5-83ea-89398e977d41</td>\n      <td>Occupant</td>\n      <td>Unspecified</td>\n      <td>20464487.0</td>\n      <td>70.0</td>\n      <td>Not Ejected</td>\n      <td>...</td>\n      <td>Does Not Apply</td>\n      <td>Driver</td>\n      <td>Lap Belt</td>\n      <td>None</td>\n      <td>None</td>\n      <td>Does Not Apply</td>\n      <td>Driver</td>\n      <td>None</td>\n      <td>None</td>\n      <td>M</td>\n    </tr>\n    <tr>\n      <th>198</th>\n      <td>7927949</td>\n      <td>3790068</td>\n      <td>11/14/2017</td>\n      <td>17:55</td>\n      <td>7475fbb0-c141-45ef-a488-d337fced88f9</td>\n      <td>Occupant</td>\n      <td>Unspecified</td>\n      <td>17993367.0</td>\n      <td>45.0</td>\n      <td>Not Ejected</td>\n      <td>...</td>\n      <td>Does Not Apply</td>\n      <td>Driver</td>\n      <td>Lap Belt &amp; Harness</td>\n      <td>None</td>\n      <td>None</td>\n      <td>Does Not Apply</td>\n      <td>Driver</td>\n      <td>None</td>\n      <td>None</td>\n      <td>M</td>\n    </tr>\n    <tr>\n      <th>199</th>\n      <td>10120139</td>\n      <td>4199756</td>\n      <td>09/04/2019</td>\n      <td>18:30</td>\n      <td>947cbb29-0a9d-41b2-b26d-2ecf92452fd1</td>\n      <td>Occupant</td>\n      <td>Unspecified</td>\n      <td>19076509.0</td>\n      <td>21.0</td>\n      <td>Not Ejected</td>\n      <td>...</td>\n      <td>Does Not Apply</td>\n      <td>Driver</td>\n      <td>Unknown</td>\n      <td>None</td>\n      <td>None</td>\n      <td>Does Not Apply</td>\n      <td>Driver</td>\n      <td>None</td>\n      <td>None</td>\n      <td>F</td>\n    </tr>\n  </tbody>\n</table>\n<p>200 rows × 21 columns</p>\n</div>"
     },
     "execution_count": 4,
     "metadata": {},
     "output_type": "execute_result"
    }
   ],
   "source": [
    "df"
   ],
   "metadata": {
    "collapsed": false,
    "ExecuteTime": {
     "end_time": "2024-10-27T16:26:37.520954400Z",
     "start_time": "2024-10-27T16:26:37.505060900Z"
    }
   },
   "id": "5c19ac54df7a7f36"
  },
  {
   "cell_type": "code",
   "execution_count": 5,
   "outputs": [],
   "source": [
    "trusted.execute()"
   ],
   "metadata": {
    "collapsed": false,
    "ExecuteTime": {
     "end_time": "2024-10-27T16:26:37.561906300Z",
     "start_time": "2024-10-27T16:26:37.518447400Z"
    }
   },
   "id": "eab98e26142c8bd0"
  },
  {
   "cell_type": "code",
   "execution_count": 6,
   "outputs": [
    {
     "data": {
      "text/plain": "['mvc_person', 'data']"
     },
     "execution_count": 6,
     "metadata": {},
     "output_type": "execute_result"
    }
   ],
   "source": [
    "trusted_db_connector.get_tables()"
   ],
   "metadata": {
    "collapsed": false,
    "ExecuteTime": {
     "end_time": "2024-10-27T16:26:37.602883400Z",
     "start_time": "2024-10-27T16:26:37.549730600Z"
    }
   },
   "id": "7a57430eff5f53de"
  },
  {
   "cell_type": "code",
   "execution_count": 7,
   "outputs": [],
   "source": [
    "df_trusted = trusted_db_connector.get_table_as_dataframe(\"mvc_person\")"
   ],
   "metadata": {
    "collapsed": false,
    "ExecuteTime": {
     "end_time": "2024-10-27T16:26:37.603880900Z",
     "start_time": "2024-10-27T16:26:37.570922400Z"
    }
   },
   "id": "1a519e08e99b2699"
  },
  {
   "cell_type": "code",
   "execution_count": 8,
   "outputs": [
    {
     "data": {
      "text/plain": "     unique_id  collision_id                             person_id  \\\n0     12793707       4677288  b8bded02-39d3-4add-a505-0ca9e6e4ecfd   \n1     10052629       4184140  1e06ba26-4614-46ba-9f22-74478bbf204b   \n2     11276362       3486366                               1285342   \n3      6356736       3489376                               1357006   \n4      6065628       3603297  7afaa8c6-6112-4237-bcfe-d3d76d42bfab   \n..         ...           ...                                   ...   \n195   12809082       4681034  99c7fc80-0229-4563-9f0f-eca0848145b9   \n196    6178262       3489677  d6b508a0-3e39-4b6c-976e-f4994751a04f   \n197   12651106       4639779  39cf543b-2828-46b5-83ea-89398e977d41   \n198    7927949       3790068  7475fbb0-c141-45ef-a488-d337fced88f9   \n199   10120139       4199756  947cbb29-0a9d-41b2-b26d-2ecf92452fd1   \n\n     vehicle_id  person_age person_sex  \\\n0    20545909.0          30          M   \n1    19042399.0          39          M   \n2           NaN          33          M   \n3    17233602.0          55          M   \n4    17095672.0           0       None   \n..          ...         ...        ...   \n195  20554502.0          36          M   \n196  17150048.0          61          M   \n197  20464487.0          70          M   \n198  17993367.0          45          M   \n199  19076509.0          21          F   \n\n     factor_pedestrian_bicyclist_other_pedestrian_error_confusion  \\\n0                                                    0              \n1                                                    0              \n2                                                    0              \n3                                                    0              \n4                                                    0              \n..                                                 ...              \n195                                                  0              \n196                                                  0              \n197                                                  0              \n198                                                  0              \n199                                                  0              \n\n     factor_view_obstructed_limited  person_type_bicyclist  \\\n0                                 0                  False   \n1                                 0                  False   \n2                                 0                  False   \n3                                 0                  False   \n4                                 0                  False   \n..                              ...                    ...   \n195                               0                  False   \n196                               0                  False   \n197                               0                  False   \n198                               0                  False   \n199                               0                  False   \n\n     person_type_occupant  person_type_pedestrian  person_injured  \n0                    True                   False               0  \n1                    True                   False               0  \n2                    True                   False               0  \n3                    True                   False               0  \n4                    True                   False               0  \n..                    ...                     ...             ...  \n195                  True                   False               0  \n196                  True                   False               0  \n197                  True                   False               0  \n198                  True                   False               0  \n199                  True                   False               0  \n\n[200 rows x 12 columns]",
      "text/html": "<div>\n<style scoped>\n    .dataframe tbody tr th:only-of-type {\n        vertical-align: middle;\n    }\n\n    .dataframe tbody tr th {\n        vertical-align: top;\n    }\n\n    .dataframe thead th {\n        text-align: right;\n    }\n</style>\n<table border=\"1\" class=\"dataframe\">\n  <thead>\n    <tr style=\"text-align: right;\">\n      <th></th>\n      <th>unique_id</th>\n      <th>collision_id</th>\n      <th>person_id</th>\n      <th>vehicle_id</th>\n      <th>person_age</th>\n      <th>person_sex</th>\n      <th>factor_pedestrian_bicyclist_other_pedestrian_error_confusion</th>\n      <th>factor_view_obstructed_limited</th>\n      <th>person_type_bicyclist</th>\n      <th>person_type_occupant</th>\n      <th>person_type_pedestrian</th>\n      <th>person_injured</th>\n    </tr>\n  </thead>\n  <tbody>\n    <tr>\n      <th>0</th>\n      <td>12793707</td>\n      <td>4677288</td>\n      <td>b8bded02-39d3-4add-a505-0ca9e6e4ecfd</td>\n      <td>20545909.0</td>\n      <td>30</td>\n      <td>M</td>\n      <td>0</td>\n      <td>0</td>\n      <td>False</td>\n      <td>True</td>\n      <td>False</td>\n      <td>0</td>\n    </tr>\n    <tr>\n      <th>1</th>\n      <td>10052629</td>\n      <td>4184140</td>\n      <td>1e06ba26-4614-46ba-9f22-74478bbf204b</td>\n      <td>19042399.0</td>\n      <td>39</td>\n      <td>M</td>\n      <td>0</td>\n      <td>0</td>\n      <td>False</td>\n      <td>True</td>\n      <td>False</td>\n      <td>0</td>\n    </tr>\n    <tr>\n      <th>2</th>\n      <td>11276362</td>\n      <td>3486366</td>\n      <td>1285342</td>\n      <td>NaN</td>\n      <td>33</td>\n      <td>M</td>\n      <td>0</td>\n      <td>0</td>\n      <td>False</td>\n      <td>True</td>\n      <td>False</td>\n      <td>0</td>\n    </tr>\n    <tr>\n      <th>3</th>\n      <td>6356736</td>\n      <td>3489376</td>\n      <td>1357006</td>\n      <td>17233602.0</td>\n      <td>55</td>\n      <td>M</td>\n      <td>0</td>\n      <td>0</td>\n      <td>False</td>\n      <td>True</td>\n      <td>False</td>\n      <td>0</td>\n    </tr>\n    <tr>\n      <th>4</th>\n      <td>6065628</td>\n      <td>3603297</td>\n      <td>7afaa8c6-6112-4237-bcfe-d3d76d42bfab</td>\n      <td>17095672.0</td>\n      <td>0</td>\n      <td>None</td>\n      <td>0</td>\n      <td>0</td>\n      <td>False</td>\n      <td>True</td>\n      <td>False</td>\n      <td>0</td>\n    </tr>\n    <tr>\n      <th>...</th>\n      <td>...</td>\n      <td>...</td>\n      <td>...</td>\n      <td>...</td>\n      <td>...</td>\n      <td>...</td>\n      <td>...</td>\n      <td>...</td>\n      <td>...</td>\n      <td>...</td>\n      <td>...</td>\n      <td>...</td>\n    </tr>\n    <tr>\n      <th>195</th>\n      <td>12809082</td>\n      <td>4681034</td>\n      <td>99c7fc80-0229-4563-9f0f-eca0848145b9</td>\n      <td>20554502.0</td>\n      <td>36</td>\n      <td>M</td>\n      <td>0</td>\n      <td>0</td>\n      <td>False</td>\n      <td>True</td>\n      <td>False</td>\n      <td>0</td>\n    </tr>\n    <tr>\n      <th>196</th>\n      <td>6178262</td>\n      <td>3489677</td>\n      <td>d6b508a0-3e39-4b6c-976e-f4994751a04f</td>\n      <td>17150048.0</td>\n      <td>61</td>\n      <td>M</td>\n      <td>0</td>\n      <td>0</td>\n      <td>False</td>\n      <td>True</td>\n      <td>False</td>\n      <td>0</td>\n    </tr>\n    <tr>\n      <th>197</th>\n      <td>12651106</td>\n      <td>4639779</td>\n      <td>39cf543b-2828-46b5-83ea-89398e977d41</td>\n      <td>20464487.0</td>\n      <td>70</td>\n      <td>M</td>\n      <td>0</td>\n      <td>0</td>\n      <td>False</td>\n      <td>True</td>\n      <td>False</td>\n      <td>0</td>\n    </tr>\n    <tr>\n      <th>198</th>\n      <td>7927949</td>\n      <td>3790068</td>\n      <td>7475fbb0-c141-45ef-a488-d337fced88f9</td>\n      <td>17993367.0</td>\n      <td>45</td>\n      <td>M</td>\n      <td>0</td>\n      <td>0</td>\n      <td>False</td>\n      <td>True</td>\n      <td>False</td>\n      <td>0</td>\n    </tr>\n    <tr>\n      <th>199</th>\n      <td>10120139</td>\n      <td>4199756</td>\n      <td>947cbb29-0a9d-41b2-b26d-2ecf92452fd1</td>\n      <td>19076509.0</td>\n      <td>21</td>\n      <td>F</td>\n      <td>0</td>\n      <td>0</td>\n      <td>False</td>\n      <td>True</td>\n      <td>False</td>\n      <td>0</td>\n    </tr>\n  </tbody>\n</table>\n<p>200 rows × 12 columns</p>\n</div>"
     },
     "execution_count": 8,
     "metadata": {},
     "output_type": "execute_result"
    }
   ],
   "source": [
    "df_trusted"
   ],
   "metadata": {
    "collapsed": false,
    "ExecuteTime": {
     "end_time": "2024-10-27T16:26:37.603880900Z",
     "start_time": "2024-10-27T16:26:37.579066800Z"
    }
   },
   "id": "30b3fa0e4dcb145e"
  },
  {
   "cell_type": "code",
   "execution_count": null,
   "outputs": [],
   "source": [
    "unique_values = df_trusted[\"person_type\"].unique()\n",
    "unique_values"
   ],
   "metadata": {
    "collapsed": false
   },
   "id": "4f4043c79c0e2e45"
  },
  {
   "cell_type": "code",
   "execution_count": null,
   "outputs": [],
   "source": [],
   "metadata": {
    "collapsed": false
   },
   "id": "a436a7fb9cb08d77"
  }
 ],
 "metadata": {
  "kernelspec": {
   "display_name": "Python 3",
   "language": "python",
   "name": "python3"
  },
  "language_info": {
   "codemirror_mode": {
    "name": "ipython",
    "version": 2
   },
   "file_extension": ".py",
   "mimetype": "text/x-python",
   "name": "python",
   "nbconvert_exporter": "python",
   "pygments_lexer": "ipython2",
   "version": "2.7.6"
  }
 },
 "nbformat": 4,
 "nbformat_minor": 5
}
