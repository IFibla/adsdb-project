{
 "cells": [
  {
   "cell_type": "code",
   "id": "initial_id",
   "metadata": {
    "collapsed": true
   },
   "source": [
    "from src.helpers.db_connector import DBConnector\n",
    "from ydata_profiling import ProfileReport\n",
    "import pandas as pd\n",
    "import os\n",
    "import re"
   ],
   "outputs": [],
   "execution_count": null
  },
  {
   "metadata": {},
   "cell_type": "code",
   "source": [
    "PERSISTENT_FOLDER = (\n",
    "    \"/Users/ignasi/Documents/_03_MDS_/_01_ADSDB_/data/landing/persistent/\"\n",
    ")\n",
    "DB_CONNECTOR = DBConnector(\n",
    "    \"/Users/ignasi/Documents/_03_MDS_/_01_ADSDB_/data/formatted.duckdb\"\n",
    ")"
   ],
   "id": "faf1196582bb9dd7",
   "outputs": [],
   "execution_count": null
  },
  {
   "metadata": {},
   "cell_type": "code",
   "source": [
    "def _list_files(persistent_folder) -> list[str]:\n",
    "    file_paths = []\n",
    "    for root, _, files in os.walk(persistent_folder):\n",
    "        for file in files:\n",
    "            absolute_path = os.path.join(root, file)\n",
    "            file_paths.append(absolute_path)\n",
    "    return list(filter(lambda x: x.endswith(\".csv\"), file_paths))"
   ],
   "id": "3062dde7dcf75cef",
   "outputs": [],
   "execution_count": null
  },
  {
   "metadata": {},
   "cell_type": "code",
   "source": [
    "def compute_table_name(filename: str) -> str:\n",
    "    return re.sub(\n",
    "        pattern=\"[^a-zA-Z\\d\\s:]\", repl=\"\", string=filename[:-4].split(\"/\")[-1].lower()\n",
    "    )"
   ],
   "id": "453c814ef9e15f23",
   "outputs": [],
   "execution_count": null
  },
  {
   "metadata": {},
   "cell_type": "code",
   "source": [
    "for f in _list_files(PERSISTENT_FOLDER):\n",
    "    formatted_table_name = compute_table_name(f)\n",
    "\n",
    "    if not DB_CONNECTOR.exists_table(formatted_table_name):\n",
    "        df = pd.read_csv(f).iloc[0:100]\n",
    "        DB_CONNECTOR.insert_data(formatted_table_name, df)"
   ],
   "id": "c1a6bcaa0d5faddf",
   "outputs": [],
   "execution_count": null
  },
  {
   "metadata": {},
   "cell_type": "code",
   "source": [
    "df = DB_CONNECTOR.get_table_as_dataframe(\"motorvehiclecollisionscrashes20241026\")"
   ],
   "id": "b89c6bf61db610b9",
   "outputs": [],
   "execution_count": null
  },
  {
   "metadata": {},
   "cell_type": "code",
   "source": "df",
   "id": "6442960b1a1cd657",
   "outputs": [],
   "execution_count": null
  },
  {
   "metadata": {},
   "cell_type": "code",
   "source": "",
   "id": "1a4673fbf96a16ee",
   "outputs": [],
   "execution_count": null
  }
 ],
 "metadata": {
  "kernelspec": {
   "display_name": "Python 3",
   "language": "python",
   "name": "python3"
  },
  "language_info": {
   "codemirror_mode": {
    "name": "ipython",
    "version": 2
   },
   "file_extension": ".py",
   "mimetype": "text/x-python",
   "name": "python",
   "nbconvert_exporter": "python",
   "pygments_lexer": "ipython2",
   "version": "2.7.6"
  }
 },
 "nbformat": 4,
 "nbformat_minor": 5
}
