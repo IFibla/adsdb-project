{
 "cells": [
  {
   "metadata": {},
   "cell_type": "raw",
   "source": "## Generate Explotation Connector to DB",
   "id": "d1c65157881dc3d3"
  },
  {
   "metadata": {
    "ExecuteTime": {
     "end_time": "2025-01-10T15:53:28.035828Z",
     "start_time": "2025-01-10T15:53:28.029080Z"
    }
   },
   "cell_type": "code",
   "source": [
    "from src.helpers import DBConnector\n",
    "\n",
    "exploitation_connector = DBConnector(\n",
    "    db_path=r\"..\\..\\data\\exploitation.duckdb\"\n",
    ")"
   ],
   "id": "44ed1f4bebb1aaa1",
   "outputs": [],
   "execution_count": 54
  },
  {
   "metadata": {
    "ExecuteTime": {
     "end_time": "2025-01-10T15:53:28.113007Z",
     "start_time": "2025-01-10T15:53:28.090899Z"
    }
   },
   "cell_type": "code",
   "source": "exploitation_connector.get_tables()\n",
   "id": "f606cab14c0e97c5",
   "outputs": [
    {
     "data": {
      "text/plain": [
       "['mvc_safety_rating_by_brand', 'safety_rating_by_accidents']"
      ]
     },
     "execution_count": 55,
     "metadata": {},
     "output_type": "execute_result"
    }
   ],
   "execution_count": 55
  },
  {
   "metadata": {
    "ExecuteTime": {
     "end_time": "2025-01-10T15:53:28.162595Z",
     "start_time": "2025-01-10T15:53:28.155449Z"
    }
   },
   "cell_type": "code",
   "source": "df = exploitation_connector.get_table_as_dataframe('safety_rating_by_accidents')",
   "id": "a0475a198f755505",
   "outputs": [],
   "execution_count": 56
  },
  {
   "metadata": {},
   "cell_type": "markdown",
   "source": "## Feature Generation",
   "id": "3f948c9ed355098b"
  },
  {
   "metadata": {
    "ExecuteTime": {
     "end_time": "2025-01-10T15:53:28.191313Z",
     "start_time": "2025-01-10T15:53:28.177898Z"
    }
   },
   "cell_type": "code",
   "source": "df",
   "id": "5703e1ceb5c8c113",
   "outputs": [
    {
     "data": {
      "text/plain": [
       "                               person_id  person_age person_sex vehicle_make  \\\n",
       "0   3a275fa3-3bb0-4b46-9165-9d7299392139          22          M         ford   \n",
       "1   b0f66b0d-20fe-4cc6-9546-bf7472ead66f          16          F        honda   \n",
       "2   d9f1876c-d18c-4f2d-90e9-e3a35541b2fc           0       None         ford   \n",
       "3                                2987355           0          U        dodge   \n",
       "4   fe54b7ce-25ef-4e05-9e49-a47e44ea1bf7          36          M         ford   \n",
       "..                                   ...         ...        ...          ...   \n",
       "90  31676640-aeed-4492-bba6-0c4f85f0f872          31          M         ford   \n",
       "91  966979bb-5ecd-467e-97af-c61b28c85cf9          22       None         ford   \n",
       "92  ebf73ff5-f35d-4951-a0af-9cbc027c2b69           0          U        honda   \n",
       "93  160c4aa9-537e-40bb-a9b3-076dfb70d3cd          19          F        honda   \n",
       "94  120ccd53-9366-493c-94c6-472cb86366b2          37          M         ford   \n",
       "\n",
       "    vehicle_year  overall_rating  \n",
       "0         2015.0        4.246416  \n",
       "1         2016.0        4.000000  \n",
       "2         2016.0        3.000000  \n",
       "3         2016.0        4.000000  \n",
       "4         2016.0        3.000000  \n",
       "..           ...             ...  \n",
       "90        2015.0        4.246416  \n",
       "91        2015.0        4.000000  \n",
       "92        2016.0        4.000000  \n",
       "93        2017.0        5.000000  \n",
       "94        2016.0        4.246416  \n",
       "\n",
       "[95 rows x 6 columns]"
      ],
      "text/html": [
       "<div>\n",
       "<style scoped>\n",
       "    .dataframe tbody tr th:only-of-type {\n",
       "        vertical-align: middle;\n",
       "    }\n",
       "\n",
       "    .dataframe tbody tr th {\n",
       "        vertical-align: top;\n",
       "    }\n",
       "\n",
       "    .dataframe thead th {\n",
       "        text-align: right;\n",
       "    }\n",
       "</style>\n",
       "<table border=\"1\" class=\"dataframe\">\n",
       "  <thead>\n",
       "    <tr style=\"text-align: right;\">\n",
       "      <th></th>\n",
       "      <th>person_id</th>\n",
       "      <th>person_age</th>\n",
       "      <th>person_sex</th>\n",
       "      <th>vehicle_make</th>\n",
       "      <th>vehicle_year</th>\n",
       "      <th>overall_rating</th>\n",
       "    </tr>\n",
       "  </thead>\n",
       "  <tbody>\n",
       "    <tr>\n",
       "      <th>0</th>\n",
       "      <td>3a275fa3-3bb0-4b46-9165-9d7299392139</td>\n",
       "      <td>22</td>\n",
       "      <td>M</td>\n",
       "      <td>ford</td>\n",
       "      <td>2015.0</td>\n",
       "      <td>4.246416</td>\n",
       "    </tr>\n",
       "    <tr>\n",
       "      <th>1</th>\n",
       "      <td>b0f66b0d-20fe-4cc6-9546-bf7472ead66f</td>\n",
       "      <td>16</td>\n",
       "      <td>F</td>\n",
       "      <td>honda</td>\n",
       "      <td>2016.0</td>\n",
       "      <td>4.000000</td>\n",
       "    </tr>\n",
       "    <tr>\n",
       "      <th>2</th>\n",
       "      <td>d9f1876c-d18c-4f2d-90e9-e3a35541b2fc</td>\n",
       "      <td>0</td>\n",
       "      <td>None</td>\n",
       "      <td>ford</td>\n",
       "      <td>2016.0</td>\n",
       "      <td>3.000000</td>\n",
       "    </tr>\n",
       "    <tr>\n",
       "      <th>3</th>\n",
       "      <td>2987355</td>\n",
       "      <td>0</td>\n",
       "      <td>U</td>\n",
       "      <td>dodge</td>\n",
       "      <td>2016.0</td>\n",
       "      <td>4.000000</td>\n",
       "    </tr>\n",
       "    <tr>\n",
       "      <th>4</th>\n",
       "      <td>fe54b7ce-25ef-4e05-9e49-a47e44ea1bf7</td>\n",
       "      <td>36</td>\n",
       "      <td>M</td>\n",
       "      <td>ford</td>\n",
       "      <td>2016.0</td>\n",
       "      <td>3.000000</td>\n",
       "    </tr>\n",
       "    <tr>\n",
       "      <th>...</th>\n",
       "      <td>...</td>\n",
       "      <td>...</td>\n",
       "      <td>...</td>\n",
       "      <td>...</td>\n",
       "      <td>...</td>\n",
       "      <td>...</td>\n",
       "    </tr>\n",
       "    <tr>\n",
       "      <th>90</th>\n",
       "      <td>31676640-aeed-4492-bba6-0c4f85f0f872</td>\n",
       "      <td>31</td>\n",
       "      <td>M</td>\n",
       "      <td>ford</td>\n",
       "      <td>2015.0</td>\n",
       "      <td>4.246416</td>\n",
       "    </tr>\n",
       "    <tr>\n",
       "      <th>91</th>\n",
       "      <td>966979bb-5ecd-467e-97af-c61b28c85cf9</td>\n",
       "      <td>22</td>\n",
       "      <td>None</td>\n",
       "      <td>ford</td>\n",
       "      <td>2015.0</td>\n",
       "      <td>4.000000</td>\n",
       "    </tr>\n",
       "    <tr>\n",
       "      <th>92</th>\n",
       "      <td>ebf73ff5-f35d-4951-a0af-9cbc027c2b69</td>\n",
       "      <td>0</td>\n",
       "      <td>U</td>\n",
       "      <td>honda</td>\n",
       "      <td>2016.0</td>\n",
       "      <td>4.000000</td>\n",
       "    </tr>\n",
       "    <tr>\n",
       "      <th>93</th>\n",
       "      <td>160c4aa9-537e-40bb-a9b3-076dfb70d3cd</td>\n",
       "      <td>19</td>\n",
       "      <td>F</td>\n",
       "      <td>honda</td>\n",
       "      <td>2017.0</td>\n",
       "      <td>5.000000</td>\n",
       "    </tr>\n",
       "    <tr>\n",
       "      <th>94</th>\n",
       "      <td>120ccd53-9366-493c-94c6-472cb86366b2</td>\n",
       "      <td>37</td>\n",
       "      <td>M</td>\n",
       "      <td>ford</td>\n",
       "      <td>2016.0</td>\n",
       "      <td>4.246416</td>\n",
       "    </tr>\n",
       "  </tbody>\n",
       "</table>\n",
       "<p>95 rows × 6 columns</p>\n",
       "</div>"
      ]
     },
     "execution_count": 57,
     "metadata": {},
     "output_type": "execute_result"
    }
   ],
   "execution_count": 57
  },
  {
   "metadata": {
    "ExecuteTime": {
     "end_time": "2025-01-10T15:53:28.253487Z",
     "start_time": "2025-01-10T15:53:28.239839Z"
    }
   },
   "cell_type": "code",
   "source": [
    "# Add column vehicle_age to the dataframe\n",
    "df['vehicle_age'] = 2024 - df['vehicle_year']\n",
    "\n",
    "df.head()"
   ],
   "id": "c8ef614752d2e4c6",
   "outputs": [
    {
     "data": {
      "text/plain": [
       "                              person_id  person_age person_sex vehicle_make  \\\n",
       "0  3a275fa3-3bb0-4b46-9165-9d7299392139          22          M         ford   \n",
       "1  b0f66b0d-20fe-4cc6-9546-bf7472ead66f          16          F        honda   \n",
       "2  d9f1876c-d18c-4f2d-90e9-e3a35541b2fc           0       None         ford   \n",
       "3                               2987355           0          U        dodge   \n",
       "4  fe54b7ce-25ef-4e05-9e49-a47e44ea1bf7          36          M         ford   \n",
       "\n",
       "   vehicle_year  overall_rating  vehicle_age  \n",
       "0        2015.0        4.246416          9.0  \n",
       "1        2016.0        4.000000          8.0  \n",
       "2        2016.0        3.000000          8.0  \n",
       "3        2016.0        4.000000          8.0  \n",
       "4        2016.0        3.000000          8.0  "
      ],
      "text/html": [
       "<div>\n",
       "<style scoped>\n",
       "    .dataframe tbody tr th:only-of-type {\n",
       "        vertical-align: middle;\n",
       "    }\n",
       "\n",
       "    .dataframe tbody tr th {\n",
       "        vertical-align: top;\n",
       "    }\n",
       "\n",
       "    .dataframe thead th {\n",
       "        text-align: right;\n",
       "    }\n",
       "</style>\n",
       "<table border=\"1\" class=\"dataframe\">\n",
       "  <thead>\n",
       "    <tr style=\"text-align: right;\">\n",
       "      <th></th>\n",
       "      <th>person_id</th>\n",
       "      <th>person_age</th>\n",
       "      <th>person_sex</th>\n",
       "      <th>vehicle_make</th>\n",
       "      <th>vehicle_year</th>\n",
       "      <th>overall_rating</th>\n",
       "      <th>vehicle_age</th>\n",
       "    </tr>\n",
       "  </thead>\n",
       "  <tbody>\n",
       "    <tr>\n",
       "      <th>0</th>\n",
       "      <td>3a275fa3-3bb0-4b46-9165-9d7299392139</td>\n",
       "      <td>22</td>\n",
       "      <td>M</td>\n",
       "      <td>ford</td>\n",
       "      <td>2015.0</td>\n",
       "      <td>4.246416</td>\n",
       "      <td>9.0</td>\n",
       "    </tr>\n",
       "    <tr>\n",
       "      <th>1</th>\n",
       "      <td>b0f66b0d-20fe-4cc6-9546-bf7472ead66f</td>\n",
       "      <td>16</td>\n",
       "      <td>F</td>\n",
       "      <td>honda</td>\n",
       "      <td>2016.0</td>\n",
       "      <td>4.000000</td>\n",
       "      <td>8.0</td>\n",
       "    </tr>\n",
       "    <tr>\n",
       "      <th>2</th>\n",
       "      <td>d9f1876c-d18c-4f2d-90e9-e3a35541b2fc</td>\n",
       "      <td>0</td>\n",
       "      <td>None</td>\n",
       "      <td>ford</td>\n",
       "      <td>2016.0</td>\n",
       "      <td>3.000000</td>\n",
       "      <td>8.0</td>\n",
       "    </tr>\n",
       "    <tr>\n",
       "      <th>3</th>\n",
       "      <td>2987355</td>\n",
       "      <td>0</td>\n",
       "      <td>U</td>\n",
       "      <td>dodge</td>\n",
       "      <td>2016.0</td>\n",
       "      <td>4.000000</td>\n",
       "      <td>8.0</td>\n",
       "    </tr>\n",
       "    <tr>\n",
       "      <th>4</th>\n",
       "      <td>fe54b7ce-25ef-4e05-9e49-a47e44ea1bf7</td>\n",
       "      <td>36</td>\n",
       "      <td>M</td>\n",
       "      <td>ford</td>\n",
       "      <td>2016.0</td>\n",
       "      <td>3.000000</td>\n",
       "      <td>8.0</td>\n",
       "    </tr>\n",
       "  </tbody>\n",
       "</table>\n",
       "</div>"
      ]
     },
     "execution_count": 58,
     "metadata": {},
     "output_type": "execute_result"
    }
   ],
   "execution_count": 58
  },
  {
   "metadata": {
    "ExecuteTime": {
     "end_time": "2025-01-10T15:53:28.375056Z",
     "start_time": "2025-01-10T15:53:28.369969Z"
    }
   },
   "cell_type": "code",
   "source": [
    "# Drop vehicle year\n",
    "df.drop(columns=['vehicle_year'], inplace=True)"
   ],
   "id": "74a9bf2a0b02415e",
   "outputs": [],
   "execution_count": 59
  },
  {
   "metadata": {
    "ExecuteTime": {
     "end_time": "2025-01-10T15:53:28.501688Z",
     "start_time": "2025-01-10T15:53:28.489719Z"
    }
   },
   "cell_type": "code",
   "source": "df.head()",
   "id": "7fdc229842985a5f",
   "outputs": [
    {
     "data": {
      "text/plain": [
       "                              person_id  person_age person_sex vehicle_make  \\\n",
       "0  3a275fa3-3bb0-4b46-9165-9d7299392139          22          M         ford   \n",
       "1  b0f66b0d-20fe-4cc6-9546-bf7472ead66f          16          F        honda   \n",
       "2  d9f1876c-d18c-4f2d-90e9-e3a35541b2fc           0       None         ford   \n",
       "3                               2987355           0          U        dodge   \n",
       "4  fe54b7ce-25ef-4e05-9e49-a47e44ea1bf7          36          M         ford   \n",
       "\n",
       "   overall_rating  vehicle_age  \n",
       "0        4.246416          9.0  \n",
       "1        4.000000          8.0  \n",
       "2        3.000000          8.0  \n",
       "3        4.000000          8.0  \n",
       "4        3.000000          8.0  "
      ],
      "text/html": [
       "<div>\n",
       "<style scoped>\n",
       "    .dataframe tbody tr th:only-of-type {\n",
       "        vertical-align: middle;\n",
       "    }\n",
       "\n",
       "    .dataframe tbody tr th {\n",
       "        vertical-align: top;\n",
       "    }\n",
       "\n",
       "    .dataframe thead th {\n",
       "        text-align: right;\n",
       "    }\n",
       "</style>\n",
       "<table border=\"1\" class=\"dataframe\">\n",
       "  <thead>\n",
       "    <tr style=\"text-align: right;\">\n",
       "      <th></th>\n",
       "      <th>person_id</th>\n",
       "      <th>person_age</th>\n",
       "      <th>person_sex</th>\n",
       "      <th>vehicle_make</th>\n",
       "      <th>overall_rating</th>\n",
       "      <th>vehicle_age</th>\n",
       "    </tr>\n",
       "  </thead>\n",
       "  <tbody>\n",
       "    <tr>\n",
       "      <th>0</th>\n",
       "      <td>3a275fa3-3bb0-4b46-9165-9d7299392139</td>\n",
       "      <td>22</td>\n",
       "      <td>M</td>\n",
       "      <td>ford</td>\n",
       "      <td>4.246416</td>\n",
       "      <td>9.0</td>\n",
       "    </tr>\n",
       "    <tr>\n",
       "      <th>1</th>\n",
       "      <td>b0f66b0d-20fe-4cc6-9546-bf7472ead66f</td>\n",
       "      <td>16</td>\n",
       "      <td>F</td>\n",
       "      <td>honda</td>\n",
       "      <td>4.000000</td>\n",
       "      <td>8.0</td>\n",
       "    </tr>\n",
       "    <tr>\n",
       "      <th>2</th>\n",
       "      <td>d9f1876c-d18c-4f2d-90e9-e3a35541b2fc</td>\n",
       "      <td>0</td>\n",
       "      <td>None</td>\n",
       "      <td>ford</td>\n",
       "      <td>3.000000</td>\n",
       "      <td>8.0</td>\n",
       "    </tr>\n",
       "    <tr>\n",
       "      <th>3</th>\n",
       "      <td>2987355</td>\n",
       "      <td>0</td>\n",
       "      <td>U</td>\n",
       "      <td>dodge</td>\n",
       "      <td>4.000000</td>\n",
       "      <td>8.0</td>\n",
       "    </tr>\n",
       "    <tr>\n",
       "      <th>4</th>\n",
       "      <td>fe54b7ce-25ef-4e05-9e49-a47e44ea1bf7</td>\n",
       "      <td>36</td>\n",
       "      <td>M</td>\n",
       "      <td>ford</td>\n",
       "      <td>3.000000</td>\n",
       "      <td>8.0</td>\n",
       "    </tr>\n",
       "  </tbody>\n",
       "</table>\n",
       "</div>"
      ]
     },
     "execution_count": 60,
     "metadata": {},
     "output_type": "execute_result"
    }
   ],
   "execution_count": 60
  },
  {
   "metadata": {},
   "cell_type": "markdown",
   "source": "## Data Preparation",
   "id": "a15d8c7ab4800199"
  },
  {
   "metadata": {
    "ExecuteTime": {
     "end_time": "2025-01-10T15:53:28.770989Z",
     "start_time": "2025-01-10T15:53:28.765785Z"
    }
   },
   "cell_type": "code",
   "source": "df.drop(columns=['person_id'], inplace=True)",
   "id": "93f878ba4afb6d14",
   "outputs": [],
   "execution_count": 61
  },
  {
   "metadata": {
    "ExecuteTime": {
     "end_time": "2025-01-10T15:53:28.932751Z",
     "start_time": "2025-01-10T15:53:28.922580Z"
    }
   },
   "cell_type": "code",
   "source": "df.head()",
   "id": "9f6ed89dcf9bd4de",
   "outputs": [
    {
     "data": {
      "text/plain": [
       "   person_age person_sex vehicle_make  overall_rating  vehicle_age\n",
       "0          22          M         ford        4.246416          9.0\n",
       "1          16          F        honda        4.000000          8.0\n",
       "2           0       None         ford        3.000000          8.0\n",
       "3           0          U        dodge        4.000000          8.0\n",
       "4          36          M         ford        3.000000          8.0"
      ],
      "text/html": [
       "<div>\n",
       "<style scoped>\n",
       "    .dataframe tbody tr th:only-of-type {\n",
       "        vertical-align: middle;\n",
       "    }\n",
       "\n",
       "    .dataframe tbody tr th {\n",
       "        vertical-align: top;\n",
       "    }\n",
       "\n",
       "    .dataframe thead th {\n",
       "        text-align: right;\n",
       "    }\n",
       "</style>\n",
       "<table border=\"1\" class=\"dataframe\">\n",
       "  <thead>\n",
       "    <tr style=\"text-align: right;\">\n",
       "      <th></th>\n",
       "      <th>person_age</th>\n",
       "      <th>person_sex</th>\n",
       "      <th>vehicle_make</th>\n",
       "      <th>overall_rating</th>\n",
       "      <th>vehicle_age</th>\n",
       "    </tr>\n",
       "  </thead>\n",
       "  <tbody>\n",
       "    <tr>\n",
       "      <th>0</th>\n",
       "      <td>22</td>\n",
       "      <td>M</td>\n",
       "      <td>ford</td>\n",
       "      <td>4.246416</td>\n",
       "      <td>9.0</td>\n",
       "    </tr>\n",
       "    <tr>\n",
       "      <th>1</th>\n",
       "      <td>16</td>\n",
       "      <td>F</td>\n",
       "      <td>honda</td>\n",
       "      <td>4.000000</td>\n",
       "      <td>8.0</td>\n",
       "    </tr>\n",
       "    <tr>\n",
       "      <th>2</th>\n",
       "      <td>0</td>\n",
       "      <td>None</td>\n",
       "      <td>ford</td>\n",
       "      <td>3.000000</td>\n",
       "      <td>8.0</td>\n",
       "    </tr>\n",
       "    <tr>\n",
       "      <th>3</th>\n",
       "      <td>0</td>\n",
       "      <td>U</td>\n",
       "      <td>dodge</td>\n",
       "      <td>4.000000</td>\n",
       "      <td>8.0</td>\n",
       "    </tr>\n",
       "    <tr>\n",
       "      <th>4</th>\n",
       "      <td>36</td>\n",
       "      <td>M</td>\n",
       "      <td>ford</td>\n",
       "      <td>3.000000</td>\n",
       "      <td>8.0</td>\n",
       "    </tr>\n",
       "  </tbody>\n",
       "</table>\n",
       "</div>"
      ]
     },
     "execution_count": 62,
     "metadata": {},
     "output_type": "execute_result"
    }
   ],
   "execution_count": 62
  },
  {
   "metadata": {},
   "cell_type": "markdown",
   "source": "### Age Column\n",
   "id": "689b545bcd4de1fc"
  },
  {
   "metadata": {
    "ExecuteTime": {
     "end_time": "2025-01-10T15:53:29.211275Z",
     "start_time": "2025-01-10T15:53:29.081106Z"
    }
   },
   "cell_type": "code",
   "source": [
    "# Check distribution of age\n",
    "df['person_age'].hist()"
   ],
   "id": "53ac087551eab532",
   "outputs": [
    {
     "data": {
      "text/plain": [
       "<Axes: >"
      ]
     },
     "execution_count": 63,
     "metadata": {},
     "output_type": "execute_result"
    },
    {
     "data": {
      "text/plain": [
       "<Figure size 640x480 with 1 Axes>"
      ],
      "image/png": "[encoded data removed]"
     },
     "metadata": {},
     "output_type": "display_data"
    }
   ],
   "execution_count": 63
  },
  {
   "metadata": {
    "ExecuteTime": {
     "end_time": "2025-01-10T15:53:29.296028Z",
     "start_time": "2025-01-10T15:53:29.292120Z"
    }
   },
   "cell_type": "code",
   "source": [
    "# Set age of 0 to NA\n",
    "import numpy as np\n",
    "\n",
    "df['person_age'] = df['person_age'].replace(0, np.nan)"
   ],
   "id": "7d0d40dd09e41ee4",
   "outputs": [],
   "execution_count": 64
  },
  {
   "metadata": {
    "ExecuteTime": {
     "end_time": "2025-01-10T15:53:29.394648Z",
     "start_time": "2025-01-10T15:53:29.391556Z"
    }
   },
   "cell_type": "code",
   "source": "",
   "id": "e0edd706d71129f7",
   "outputs": [],
   "execution_count": null
  },
  {
   "metadata": {
    "ExecuteTime": {
     "end_time": "2025-01-10T15:53:29.513116Z",
     "start_time": "2025-01-10T15:53:29.508709Z"
    }
   },
   "cell_type": "code",
   "source": "### Sex Column",
   "id": "4131262851cfd652",
   "outputs": [],
   "execution_count": 65
  },
  {
   "metadata": {
    "ExecuteTime": {
     "end_time": "2025-01-10T15:53:29.667252Z",
     "start_time": "2025-01-10T15:53:29.568281Z"
    }
   },
   "cell_type": "code",
   "source": [
    "# Plot groups and frequency of sex column\n",
    "df['person_sex'].value_counts().plot(kind='bar')"
   ],
   "id": "feb5425b0d75fd9b",
   "outputs": [
    {
     "data": {
      "text/plain": [
       "<Axes: xlabel='person_sex'>"
      ]
     },
     "execution_count": 66,
     "metadata": {},
     "output_type": "execute_result"
    },
    {
     "data": {
      "text/plain": [
       "<Figure size 640x480 with 1 Axes>"
      ],
      "image/png": "[encoded data removed]"
     },
     "metadata": {},
     "output_type": "display_data"
    }
   ],
   "execution_count": 66
  },
  {
   "metadata": {
    "ExecuteTime": {
     "end_time": "2025-01-10T15:53:29.711511Z",
     "start_time": "2025-01-10T15:53:29.704699Z"
    }
   },
   "cell_type": "code",
   "source": [
    "# Check NA values\n",
    "df['person_sex'].isna().sum()"
   ],
   "id": "cf7e0991f9b2012f",
   "outputs": [
    {
     "data": {
      "text/plain": [
       "20"
      ]
     },
     "execution_count": 67,
     "metadata": {},
     "output_type": "execute_result"
    }
   ],
   "execution_count": 67
  },
  {
   "metadata": {},
   "cell_type": "markdown",
   "source": "Car column",
   "id": "ce1482c940a8db0d"
  },
  {
   "metadata": {
    "ExecuteTime": {
     "end_time": "2025-01-10T15:53:29.780111Z",
     "start_time": "2025-01-10T15:53:29.771112Z"
    }
   },
   "cell_type": "code",
   "source": [
    "import os\n",
    "from src.embeddings.car_make import CarMakeEmbedding\n",
    "\n",
    "cme = CarMakeEmbedding(\n",
    "    label_encoder=r\"..\\..\\..\\data\\models\\encoder.pkl\",\n",
    "    pkl_path=r\"..\\..\\..\\data\\models\\embedding.pkl\",\n",
    ")\n"
   ],
   "id": "fa9533fec686a82d",
   "outputs": [
    {
     "name": "stderr",
     "output_type": "stream",
     "text": [
      "C:\\Users\\ferra\\PycharmProjects\\adsdb-project\\src\\embeddings\\car_make.py:20: FutureWarning: You are using `torch.load` with `weights_only=False` (the current default value), which uses the default pickle module implicitly. It is possible to construct malicious pickle data which will execute arbitrary code during unpickling (See https://github.com/pytorch/pytorch/blob/main/SECURITY.md#untrusted-models for more details). In a future release, the default value for `weights_only` will be flipped to `True`. This limits the functions that could be executed during unpickling. Arbitrary objects will no longer be allowed to be loaded via this mode unless they are explicitly allowlisted by the user via `torch.serialization.add_safe_globals`. We recommend you start setting `weights_only=True` for any use case where you don't have full control of the loaded file. Please open an issue on GitHub for any issues related to this experimental feature.\n",
      "  self.embedding.load_state_dict(torch.load(pkl_path))\n"
     ]
    }
   ],
   "execution_count": 68
  },
  {
   "metadata": {
    "ExecuteTime": {
     "end_time": "2025-01-10T15:53:29.870021Z",
     "start_time": "2025-01-10T15:53:29.837678Z"
    }
   },
   "cell_type": "code",
   "source": [
    "import pandas as pd\n",
    "\n",
    "df[\"vehicle_make_embedding\"] = df[\"vehicle_make\"].apply(lambda x: cme.execute(x)[0])\n",
    "make_df = pd.DataFrame(\n",
    "    df[\"vehicle_make_embedding\"].tolist(),\n",
    "    columns=[f\"make_{i}\" for i in range(len(df[\"vehicle_make_embedding\"][0]))],\n",
    ")\n",
    "df = pd.concat([df.drop(columns=[\"vehicle_make_embedding\"]), make_df], axis=1)\n",
    "df.dropna(inplace=True)"
   ],
   "id": "121e64531b6893fe",
   "outputs": [],
   "execution_count": 69
  },
  {
   "metadata": {
    "ExecuteTime": {
     "end_time": "2025-01-10T15:53:29.917363Z",
     "start_time": "2025-01-10T15:53:29.901853Z"
    }
   },
   "cell_type": "code",
   "source": "df.head()",
   "id": "326e5b7adc7afb7e",
   "outputs": [
    {
     "data": {
      "text/plain": [
       "   person_age person_sex vehicle_make  overall_rating  vehicle_age    make_0  \\\n",
       "0        22.0          M         ford        4.246416          9.0  1.271948   \n",
       "1        16.0          F        honda        4.000000          8.0  1.079697   \n",
       "4        36.0          M         ford        3.000000          8.0  1.271948   \n",
       "6         7.0          F        honda        4.000000          8.0  1.079697   \n",
       "7        31.0          M         ford        4.500000          9.0  1.271948   \n",
       "\n",
       "     make_1    make_2    make_3    make_4    make_5    make_6    make_7  \\\n",
       "0 -1.854546  0.256751  1.405547 -0.127058 -0.490746 -0.513944 -0.049678   \n",
       "1  1.275756 -2.120022  0.443211 -0.032822 -1.873419  0.642528  1.523962   \n",
       "4 -1.854546  0.256751  1.405547 -0.127058 -0.490746 -0.513944 -0.049678   \n",
       "6  1.275756 -2.120022  0.443211 -0.032822 -1.873419  0.642528  1.523962   \n",
       "7 -1.854546  0.256751  1.405547 -0.127058 -0.490746 -0.513944 -0.049678   \n",
       "\n",
       "     make_8    make_9  \n",
       "0  0.977539  0.895555  \n",
       "1  1.413312  0.522230  \n",
       "4  0.977539  0.895555  \n",
       "6  1.413312  0.522230  \n",
       "7  0.977539  0.895555  "
      ],
      "text/html": [
       "<div>\n",
       "<style scoped>\n",
       "    .dataframe tbody tr th:only-of-type {\n",
       "        vertical-align: middle;\n",
       "    }\n",
       "\n",
       "    .dataframe tbody tr th {\n",
       "        vertical-align: top;\n",
       "    }\n",
       "\n",
       "    .dataframe thead th {\n",
       "        text-align: right;\n",
       "    }\n",
       "</style>\n",
       "<table border=\"1\" class=\"dataframe\">\n",
       "  <thead>\n",
       "    <tr style=\"text-align: right;\">\n",
       "      <th></th>\n",
       "      <th>person_age</th>\n",
       "      <th>person_sex</th>\n",
       "      <th>vehicle_make</th>\n",
       "      <th>overall_rating</th>\n",
       "      <th>vehicle_age</th>\n",
       "      <th>make_0</th>\n",
       "      <th>make_1</th>\n",
       "      <th>make_2</th>\n",
       "      <th>make_3</th>\n",
       "      <th>make_4</th>\n",
       "      <th>make_5</th>\n",
       "      <th>make_6</th>\n",
       "      <th>make_7</th>\n",
       "      <th>make_8</th>\n",
       "      <th>make_9</th>\n",
       "    </tr>\n",
       "  </thead>\n",
       "  <tbody>\n",
       "    <tr>\n",
       "      <th>0</th>\n",
       "      <td>22.0</td>\n",
       "      <td>M</td>\n",
       "      <td>ford</td>\n",
       "      <td>4.246416</td>\n",
       "      <td>9.0</td>\n",
       "      <td>1.271948</td>\n",
       "      <td>-1.854546</td>\n",
       "      <td>0.256751</td>\n",
       "      <td>1.405547</td>\n",
       "      <td>-0.127058</td>\n",
       "      <td>-0.490746</td>\n",
       "      <td>-0.513944</td>\n",
       "      <td>-0.049678</td>\n",
       "      <td>0.977539</td>\n",
       "      <td>0.895555</td>\n",
       "    </tr>\n",
       "    <tr>\n",
       "      <th>1</th>\n",
       "      <td>16.0</td>\n",
       "      <td>F</td>\n",
       "      <td>honda</td>\n",
       "      <td>4.000000</td>\n",
       "      <td>8.0</td>\n",
       "      <td>1.079697</td>\n",
       "      <td>1.275756</td>\n",
       "      <td>-2.120022</td>\n",
       "      <td>0.443211</td>\n",
       "      <td>-0.032822</td>\n",
       "      <td>-1.873419</td>\n",
       "      <td>0.642528</td>\n",
       "      <td>1.523962</td>\n",
       "      <td>1.413312</td>\n",
       "      <td>0.522230</td>\n",
       "    </tr>\n",
       "    <tr>\n",
       "      <th>4</th>\n",
       "      <td>36.0</td>\n",
       "      <td>M</td>\n",
       "      <td>ford</td>\n",
       "      <td>3.000000</td>\n",
       "      <td>8.0</td>\n",
       "      <td>1.271948</td>\n",
       "      <td>-1.854546</td>\n",
       "      <td>0.256751</td>\n",
       "      <td>1.405547</td>\n",
       "      <td>-0.127058</td>\n",
       "      <td>-0.490746</td>\n",
       "      <td>-0.513944</td>\n",
       "      <td>-0.049678</td>\n",
       "      <td>0.977539</td>\n",
       "      <td>0.895555</td>\n",
       "    </tr>\n",
       "    <tr>\n",
       "      <th>6</th>\n",
       "      <td>7.0</td>\n",
       "      <td>F</td>\n",
       "      <td>honda</td>\n",
       "      <td>4.000000</td>\n",
       "      <td>8.0</td>\n",
       "      <td>1.079697</td>\n",
       "      <td>1.275756</td>\n",
       "      <td>-2.120022</td>\n",
       "      <td>0.443211</td>\n",
       "      <td>-0.032822</td>\n",
       "      <td>-1.873419</td>\n",
       "      <td>0.642528</td>\n",
       "      <td>1.523962</td>\n",
       "      <td>1.413312</td>\n",
       "      <td>0.522230</td>\n",
       "    </tr>\n",
       "    <tr>\n",
       "      <th>7</th>\n",
       "      <td>31.0</td>\n",
       "      <td>M</td>\n",
       "      <td>ford</td>\n",
       "      <td>4.500000</td>\n",
       "      <td>9.0</td>\n",
       "      <td>1.271948</td>\n",
       "      <td>-1.854546</td>\n",
       "      <td>0.256751</td>\n",
       "      <td>1.405547</td>\n",
       "      <td>-0.127058</td>\n",
       "      <td>-0.490746</td>\n",
       "      <td>-0.513944</td>\n",
       "      <td>-0.049678</td>\n",
       "      <td>0.977539</td>\n",
       "      <td>0.895555</td>\n",
       "    </tr>\n",
       "  </tbody>\n",
       "</table>\n",
       "</div>"
      ]
     },
     "execution_count": 70,
     "metadata": {},
     "output_type": "execute_result"
    }
   ],
   "execution_count": 70
  },
  {
   "metadata": {
    "ExecuteTime": {
     "end_time": "2025-01-10T15:53:33.216523Z",
     "start_time": "2025-01-10T15:53:33.211731Z"
    }
   },
   "cell_type": "code",
   "source": "df.drop(columns=['vehicle_make'], inplace=True)",
   "id": "d2f02baecd1bc830",
   "outputs": [],
   "execution_count": 71
  },
  {
   "metadata": {},
   "cell_type": "markdown",
   "source": [
    "### Vehicle rating\n",
    "\n"
   ],
   "id": "9753bd395c062926"
  },
  {
   "metadata": {
    "ExecuteTime": {
     "end_time": "2025-01-10T15:54:36.090852Z",
     "start_time": "2025-01-10T15:54:35.951279Z"
    }
   },
   "cell_type": "code",
   "source": "df['overall_rating'].hist()",
   "id": "67693927a6461b0e",
   "outputs": [
    {
     "data": {
      "text/plain": [
       "<Axes: >"
      ]
     },
     "execution_count": 73,
     "metadata": {},
     "output_type": "execute_result"
    },
    {
     "data": {
      "text/plain": [
       "<Figure size 640x480 with 1 Axes>"
      ],
      "image/png": "[encoded data removed]"
     },
     "metadata": {},
     "output_type": "display_data"
    }
   ],
   "execution_count": 73
  },
  {
   "metadata": {
    "ExecuteTime": {
     "end_time": "2025-01-10T15:55:11.966701Z",
     "start_time": "2025-01-10T15:55:11.958437Z"
    }
   },
   "cell_type": "code",
   "source": [
    "df['overall_rating'] = df['overall_rating'].clip(lower=0, upper=5)\n",
    "df['overall_rating'] = np.round(df['overall_rating'] * 2) / 2"
   ],
   "id": "1fcfa2d5884bb5b4",
   "outputs": [],
   "execution_count": 74
  },
  {
   "metadata": {
    "ExecuteTime": {
     "end_time": "2025-01-10T15:55:20.727552Z",
     "start_time": "2025-01-10T15:55:20.606621Z"
    }
   },
   "cell_type": "code",
   "source": "df['overall_rating'].value_counts().plot(kind='bar')",
   "id": "926ae0a1f5002808",
   "outputs": [
    {
     "data": {
      "text/plain": [
       "<Axes: xlabel='overall_rating'>"
      ]
     },
     "execution_count": 76,
     "metadata": {},
     "output_type": "execute_result"
    },
    {
     "data": {
      "text/plain": [
       "<Figure size 640x480 with 1 Axes>"
      ],
      "image/png": "[encoded data removed]"
     },
     "metadata": {},
     "output_type": "display_data"
    }
   ],
   "execution_count": 76
  },
  {
   "metadata": {
    "ExecuteTime": {
     "end_time": "2025-01-10T15:55:38.339480Z",
     "start_time": "2025-01-10T15:55:38.322573Z"
    }
   },
   "cell_type": "code",
   "source": "df.head()",
   "id": "b155595ec92346a7",
   "outputs": [
    {
     "data": {
      "text/plain": [
       "   person_age person_sex  overall_rating  vehicle_age    make_0    make_1  \\\n",
       "0        22.0          M             4.0          9.0  1.271948 -1.854546   \n",
       "1        16.0          F             4.0          8.0  1.079697  1.275756   \n",
       "4        36.0          M             3.0          8.0  1.271948 -1.854546   \n",
       "6         7.0          F             4.0          8.0  1.079697  1.275756   \n",
       "7        31.0          M             4.5          9.0  1.271948 -1.854546   \n",
       "\n",
       "     make_2    make_3    make_4    make_5    make_6    make_7    make_8  \\\n",
       "0  0.256751  1.405547 -0.127058 -0.490746 -0.513944 -0.049678  0.977539   \n",
       "1 -2.120022  0.443211 -0.032822 -1.873419  0.642528  1.523962  1.413312   \n",
       "4  0.256751  1.405547 -0.127058 -0.490746 -0.513944 -0.049678  0.977539   \n",
       "6 -2.120022  0.443211 -0.032822 -1.873419  0.642528  1.523962  1.413312   \n",
       "7  0.256751  1.405547 -0.127058 -0.490746 -0.513944 -0.049678  0.977539   \n",
       "\n",
       "     make_9  \n",
       "0  0.895555  \n",
       "1  0.522230  \n",
       "4  0.895555  \n",
       "6  0.522230  \n",
       "7  0.895555  "
      ],
      "text/html": [
       "<div>\n",
       "<style scoped>\n",
       "    .dataframe tbody tr th:only-of-type {\n",
       "        vertical-align: middle;\n",
       "    }\n",
       "\n",
       "    .dataframe tbody tr th {\n",
       "        vertical-align: top;\n",
       "    }\n",
       "\n",
       "    .dataframe thead th {\n",
       "        text-align: right;\n",
       "    }\n",
       "</style>\n",
       "<table border=\"1\" class=\"dataframe\">\n",
       "  <thead>\n",
       "    <tr style=\"text-align: right;\">\n",
       "      <th></th>\n",
       "      <th>person_age</th>\n",
       "      <th>person_sex</th>\n",
       "      <th>overall_rating</th>\n",
       "      <th>vehicle_age</th>\n",
       "      <th>make_0</th>\n",
       "      <th>make_1</th>\n",
       "      <th>make_2</th>\n",
       "      <th>make_3</th>\n",
       "      <th>make_4</th>\n",
       "      <th>make_5</th>\n",
       "      <th>make_6</th>\n",
       "      <th>make_7</th>\n",
       "      <th>make_8</th>\n",
       "      <th>make_9</th>\n",
       "    </tr>\n",
       "  </thead>\n",
       "  <tbody>\n",
       "    <tr>\n",
       "      <th>0</th>\n",
       "      <td>22.0</td>\n",
       "      <td>M</td>\n",
       "      <td>4.0</td>\n",
       "      <td>9.0</td>\n",
       "      <td>1.271948</td>\n",
       "      <td>-1.854546</td>\n",
       "      <td>0.256751</td>\n",
       "      <td>1.405547</td>\n",
       "      <td>-0.127058</td>\n",
       "      <td>-0.490746</td>\n",
       "      <td>-0.513944</td>\n",
       "      <td>-0.049678</td>\n",
       "      <td>0.977539</td>\n",
       "      <td>0.895555</td>\n",
       "    </tr>\n",
       "    <tr>\n",
       "      <th>1</th>\n",
       "      <td>16.0</td>\n",
       "      <td>F</td>\n",
       "      <td>4.0</td>\n",
       "      <td>8.0</td>\n",
       "      <td>1.079697</td>\n",
       "      <td>1.275756</td>\n",
       "      <td>-2.120022</td>\n",
       "      <td>0.443211</td>\n",
       "      <td>-0.032822</td>\n",
       "      <td>-1.873419</td>\n",
       "      <td>0.642528</td>\n",
       "      <td>1.523962</td>\n",
       "      <td>1.413312</td>\n",
       "      <td>0.522230</td>\n",
       "    </tr>\n",
       "    <tr>\n",
       "      <th>4</th>\n",
       "      <td>36.0</td>\n",
       "      <td>M</td>\n",
       "      <td>3.0</td>\n",
       "      <td>8.0</td>\n",
       "      <td>1.271948</td>\n",
       "      <td>-1.854546</td>\n",
       "      <td>0.256751</td>\n",
       "      <td>1.405547</td>\n",
       "      <td>-0.127058</td>\n",
       "      <td>-0.490746</td>\n",
       "      <td>-0.513944</td>\n",
       "      <td>-0.049678</td>\n",
       "      <td>0.977539</td>\n",
       "      <td>0.895555</td>\n",
       "    </tr>\n",
       "    <tr>\n",
       "      <th>6</th>\n",
       "      <td>7.0</td>\n",
       "      <td>F</td>\n",
       "      <td>4.0</td>\n",
       "      <td>8.0</td>\n",
       "      <td>1.079697</td>\n",
       "      <td>1.275756</td>\n",
       "      <td>-2.120022</td>\n",
       "      <td>0.443211</td>\n",
       "      <td>-0.032822</td>\n",
       "      <td>-1.873419</td>\n",
       "      <td>0.642528</td>\n",
       "      <td>1.523962</td>\n",
       "      <td>1.413312</td>\n",
       "      <td>0.522230</td>\n",
       "    </tr>\n",
       "    <tr>\n",
       "      <th>7</th>\n",
       "      <td>31.0</td>\n",
       "      <td>M</td>\n",
       "      <td>4.5</td>\n",
       "      <td>9.0</td>\n",
       "      <td>1.271948</td>\n",
       "      <td>-1.854546</td>\n",
       "      <td>0.256751</td>\n",
       "      <td>1.405547</td>\n",
       "      <td>-0.127058</td>\n",
       "      <td>-0.490746</td>\n",
       "      <td>-0.513944</td>\n",
       "      <td>-0.049678</td>\n",
       "      <td>0.977539</td>\n",
       "      <td>0.895555</td>\n",
       "    </tr>\n",
       "  </tbody>\n",
       "</table>\n",
       "</div>"
      ]
     },
     "execution_count": 77,
     "metadata": {},
     "output_type": "execute_result"
    }
   ],
   "execution_count": 77
  }
 ],
 "metadata": {
  "kernelspec": {
   "display_name": "Python 3",
   "language": "python",
   "name": "python3"
  },
  "language_info": {
   "codemirror_mode": {
    "name": "ipython",
    "version": 2
   },
   "file_extension": ".py",
   "mimetype": "text/x-python",
   "name": "python",
   "nbconvert_exporter": "python",
   "pygments_lexer": "ipython2",
   "version": "2.7.6"
  }
 },
 "nbformat": 4,
 "nbformat_minor": 5
}
