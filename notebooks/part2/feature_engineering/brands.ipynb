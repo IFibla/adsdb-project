{
 "cells": [
  {
   "cell_type": "code",
   "id": "initial_id",
   "metadata": {
    "collapsed": true
   },
   "source": [
    "from src.analytics.models.car_make import CarMakeEmbedding\n",
    "from sklearn.preprocessing import OneHotEncoder\n",
    "from datetime import date\n",
    "import pandas as pd"
   ],
   "outputs": [],
   "execution_count": null
  },
  {
   "metadata": {},
   "cell_type": "code",
   "source": [
    "cme = CarMakeEmbedding(\n",
    "        label_encoder='/Users/ignasi/Documents/_03_MDS_/_01_ADSDB_/src/embeddings/encoder.pkl',\n",
    "        pkl_path='/data/models/car_make_embedding/embedding.pkl',\n",
    "    )"
   ],
   "id": "8525fc0548a580ad",
   "outputs": [],
   "execution_count": null
  },
  {
   "metadata": {},
   "cell_type": "markdown",
   "source": [
    "## Analytical sandbox\n",
    "\n",
    "We read the dataset with the following columns:\n",
    "'person_id', 'person_age', 'person_sex', 'vehicle_make', 'vehicle_year', 'overall_rating'\n",
    "From these columns and as we want to analyze the vehicle safety rating, we will delete the information related to the driver, so we will delete 'person_id', 'person_age', 'person_sex'. More specifically, we will try to find a relation between makes + years ~ safety. Looking for a pattern in this variables and computing clustering or regressions. "
   ],
   "id": "c7ddddb5065c4c3e"
  },
  {
   "metadata": {
    "ExecuteTime": {
     "end_time": "2025-01-10T15:07:21.095345Z",
     "start_time": "2025-01-10T15:07:21.086642Z"
    }
   },
   "cell_type": "code",
   "source": [
    "df = pd.read_csv(\n",
    "    \"/Users/ignasi/Documents/_03_MDS_/_01_ADSDB_/ui/sample_tables/mvc_safety_rating_by_accidents.csv\"\n",
    ")\n",
    "df = df[[\"vehicle_make\", \"vehicle_year\", \"overall_rating\"]]"
   ],
   "id": "b3f0c41ea1b9c0e5",
   "outputs": [],
   "execution_count": 18
  },
  {
   "metadata": {
    "ExecuteTime": {
     "end_time": "2025-01-10T15:07:21.546301Z",
     "start_time": "2025-01-10T15:07:21.541668Z"
    }
   },
   "cell_type": "code",
   "source": "df['vehicle_year'].max()",
   "id": "9e3198ed7a4aa558",
   "outputs": [
    {
     "data": {
      "text/plain": [
       "2024.0"
      ]
     },
     "execution_count": 19,
     "metadata": {},
     "output_type": "execute_result"
    }
   ],
   "execution_count": 19
  },
  {
   "metadata": {},
   "cell_type": "markdown",
   "source": "## Feature engineering",
   "id": "c349d23b5a9b6617"
  },
  {
   "metadata": {
    "ExecuteTime": {
     "end_time": "2025-01-10T15:07:24.339944Z",
     "start_time": "2025-01-10T15:07:24.337480Z"
    }
   },
   "cell_type": "code",
   "source": "df[\"vehicle_age\"] = date.today().year - df[\"vehicle_year\"]",
   "id": "ee70b75acbcf15d8",
   "outputs": [],
   "execution_count": 20
  },
  {
   "metadata": {
    "ExecuteTime": {
     "end_time": "2025-01-10T15:07:25.710536Z",
     "start_time": "2025-01-10T15:07:25.236867Z"
    }
   },
   "cell_type": "code",
   "source": [
    "df[\"vehicle_make_embedding\"] = df[\"vehicle_make\"].apply(lambda x: cme.execute(x)[0])\n",
    "make_df = pd.DataFrame(\n",
    "    df[\"vehicle_make_embedding\"].tolist(),\n",
    "    columns=[f\"make_{i}\" for i in range(len(df[\"vehicle_make_embedding\"][0]))],\n",
    ")\n",
    "df = pd.concat([df.drop(columns=[\"vehicle_make_embedding\"]), make_df], axis=1)\n",
    "df.dropna(inplace=True)"
   ],
   "id": "dc2bd70a3ae273a9",
   "outputs": [],
   "execution_count": 21
  },
  {
   "metadata": {
    "ExecuteTime": {
     "end_time": "2025-01-10T15:07:29.446235Z",
     "start_time": "2025-01-10T15:07:29.441344Z"
    }
   },
   "cell_type": "code",
   "source": "df = df[[f\"make_{i}\" for i in range(10)] + [\"vehicle_age\", \"overall_rating\"]]",
   "id": "8e904671cd7c5b3",
   "outputs": [],
   "execution_count": 22
  },
  {
   "metadata": {
    "ExecuteTime": {
     "end_time": "2025-01-10T15:11:40.888666Z",
     "start_time": "2025-01-10T15:11:40.884959Z"
    }
   },
   "cell_type": "code",
   "source": "df['overall_rating'] = df[\"overall_rating\"].astype(int)",
   "id": "faf49f8e9cccd9f4",
   "outputs": [],
   "execution_count": 27
  },
  {
   "metadata": {
    "ExecuteTime": {
     "end_time": "2025-01-10T15:11:41.426193Z",
     "start_time": "2025-01-10T15:11:41.391628Z"
    }
   },
   "cell_type": "code",
   "source": "df.to_csv('brands.csv', index=False)",
   "id": "d3ab40710650f9b3",
   "outputs": [],
   "execution_count": 28
  },
  {
   "metadata": {},
   "cell_type": "code",
   "outputs": [],
   "execution_count": null,
   "source": "",
   "id": "dc0369501ba747fa"
  }
 ],
 "metadata": {
  "kernelspec": {
   "display_name": "Python 3",
   "language": "python",
   "name": "python3"
  },
  "language_info": {
   "codemirror_mode": {
    "name": "ipython",
    "version": 2
   },
   "file_extension": ".py",
   "mimetype": "text/x-python",
   "name": "python",
   "nbconvert_exporter": "python",
   "pygments_lexer": "ipython2",
   "version": "2.7.6"
  }
 },
 "nbformat": 4,
 "nbformat_minor": 5
}
