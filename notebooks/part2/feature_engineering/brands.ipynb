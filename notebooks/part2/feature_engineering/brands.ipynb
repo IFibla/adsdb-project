{
 "cells": [
  {
   "cell_type": "code",
   "id": "initial_id",
   "metadata": {
    "collapsed": true,
    "ExecuteTime": {
     "end_time": "2025-01-10T11:43:02.002132Z",
     "start_time": "2025-01-10T11:42:59.840995Z"
    }
   },
   "source": [
    "from src.embeddings.car_make import CarMakeEmbedding\n",
    "from sklearn.preprocessing import OneHotEncoder\n",
    "from datetime import date\n",
    "import pandas as pd"
   ],
   "outputs": [],
   "execution_count": 3
  },
  {
   "metadata": {
    "ExecuteTime": {
     "end_time": "2025-01-10T11:02:35.514853Z",
     "start_time": "2025-01-10T11:02:35.499495Z"
    }
   },
   "cell_type": "code",
   "source": [
    "cme = CarMakeEmbedding(\n",
    "        label_encoder='/Users/ignasi/Documents/_03_MDS_/_01_ADSDB_/src/embeddings/encoder.pkl',\n",
    "        pkl_path='/Users/ignasi/Documents/_03_MDS_/_01_ADSDB_/src/embeddings/embedding.pkl',\n",
    "    )"
   ],
   "id": "b4e4128b9b2562c4",
   "outputs": [],
   "execution_count": 2
  },
  {
   "metadata": {
    "ExecuteTime": {
     "end_time": "2025-01-10T11:35:42.224909Z",
     "start_time": "2025-01-10T11:35:41.969047Z"
    }
   },
   "cell_type": "code",
   "source": "X.columns",
   "id": "8a6e186d95690bf4",
   "outputs": [
    {
     "ename": "NameError",
     "evalue": "name 'X' is not defined",
     "output_type": "error",
     "traceback": [
      "\u001B[0;31m---------------------------------------------------------------------------\u001B[0m",
      "\u001B[0;31mNameError\u001B[0m                                 Traceback (most recent call last)",
      "Cell \u001B[0;32mIn[1], line 1\u001B[0m\n\u001B[0;32m----> 1\u001B[0m X\u001B[38;5;241m.\u001B[39mcolumns\n",
      "\u001B[0;31mNameError\u001B[0m: name 'X' is not defined"
     ]
    }
   ],
   "execution_count": 1
  },
  {
   "metadata": {},
   "cell_type": "markdown",
   "source": [
    "## Analytical sandbox\n",
    "\n",
    "We read the dataset with the following columns:\n",
    "'person_id', 'person_age', 'person_sex', 'vehicle_make', 'vehicle_year', 'overall_rating'\n",
    "From these columns and as we want to analyze the vehicle safety rating, we will delete the information related to the driver, so we will delete 'person_id', 'person_age', 'person_sex'. More specifically, we will try to find a relation between makes + years ~ safety. Looking for a pattern in this variables and computing clustering or regressions. "
   ],
   "id": "b4549e0e31bae7d2"
  },
  {
   "metadata": {
    "ExecuteTime": {
     "end_time": "2025-01-10T11:43:03.357653Z",
     "start_time": "2025-01-10T11:43:03.342033Z"
    }
   },
   "cell_type": "code",
   "source": [
    "df = pd.read_csv(\n",
    "    \"/Users/ignasi/Documents/_03_MDS_/_01_ADSDB_/ui/sample_tables/mvc_safety_rating_by_accidents.csv\"\n",
    ")\n",
    "df = df[[\"vehicle_make\", \"vehicle_year\", \"overall_rating\"]]"
   ],
   "id": "9a02cac56154a8fa",
   "outputs": [],
   "execution_count": 4
  },
  {
   "metadata": {
    "ExecuteTime": {
     "end_time": "2025-01-10T11:04:13.269786Z",
     "start_time": "2025-01-10T11:04:13.266369Z"
    }
   },
   "cell_type": "code",
   "source": "df['vehicle_year'].max()",
   "id": "9e3198ed7a4aa558",
   "outputs": [
    {
     "data": {
      "text/plain": [
       "2024.0"
      ]
     },
     "execution_count": 7,
     "metadata": {},
     "output_type": "execute_result"
    }
   ],
   "execution_count": 7
  },
  {
   "metadata": {},
   "cell_type": "markdown",
   "source": "## Feature engineering",
   "id": "c349d23b5a9b6617"
  },
  {
   "metadata": {
    "ExecuteTime": {
     "end_time": "2025-01-10T11:05:35.794730Z",
     "start_time": "2025-01-10T11:05:35.790246Z"
    }
   },
   "cell_type": "code",
   "source": [
    "df[\"vehicle_age\"] = date.today().year - df[\"vehicle_year\"]\n",
    "df[\"norm_overall_rating\"] = df[\"overall_rating\"] / 5"
   ],
   "id": "8220dc82ea454df8",
   "outputs": [],
   "execution_count": 8
  },
  {
   "metadata": {
    "ExecuteTime": {
     "end_time": "2025-01-10T11:05:36.596059Z",
     "start_time": "2025-01-10T11:05:36.127992Z"
    }
   },
   "cell_type": "code",
   "source": [
    "df[\"vehicle_make_embedding\"] = df[\"vehicle_make\"].apply(lambda x: cme.execute(x)[0])\n",
    "make_df = pd.DataFrame(\n",
    "    df[\"vehicle_make_embedding\"].tolist(),\n",
    "    columns=[f\"make_{i}\" for i in range(len(df[\"vehicle_make_embedding\"][0]))],\n",
    ")\n",
    "df = pd.concat([df.drop(columns=[\"vehicle_make_embedding\"]), make_df], axis=1)\n",
    "df.dropna(inplace=True)"
   ],
   "id": "6a65560daee7ac57",
   "outputs": [],
   "execution_count": 9
  },
  {
   "metadata": {
    "ExecuteTime": {
     "end_time": "2025-01-10T11:05:36.602501Z",
     "start_time": "2025-01-10T11:05:36.599946Z"
    }
   },
   "cell_type": "code",
   "source": [
    "df = df[[f\"make_{i}\" for i in range(10)] + [\"vehicle_age\", \"overall_rating\"]]"
   ],
   "id": "462cdff557f43e8d",
   "outputs": [],
   "execution_count": 10
  },
  {
   "metadata": {
    "ExecuteTime": {
     "end_time": "2025-01-10T11:05:36.812928Z",
     "start_time": "2025-01-10T11:05:36.809214Z"
    }
   },
   "cell_type": "code",
   "source": [
    "X, y = df[[f\"make_{i}\" for i in range(10)] + [\"vehicle_age\"]], df[\"overall_rating\"]"
   ],
   "id": "bcd4029705381d0d",
   "outputs": [],
   "execution_count": 11
  },
  {
   "metadata": {
    "ExecuteTime": {
     "end_time": "2025-01-10T11:05:37.170452Z",
     "start_time": "2025-01-10T11:05:37.162719Z"
    }
   },
   "cell_type": "code",
   "source": "y_onehot = OneHotEncoder().fit_transform(list(map(lambda x: [round(x, 0)], y))).toarray()",
   "id": "4d7da272a1bbd834",
   "outputs": [],
   "execution_count": 12
  },
  {
   "metadata": {
    "ExecuteTime": {
     "end_time": "2025-01-10T11:05:37.562089Z",
     "start_time": "2025-01-10T11:05:37.558427Z"
    }
   },
   "cell_type": "code",
   "source": "y_class = list(map(lambda x: round(x, 0), y))",
   "id": "afc3f4927b54b1a",
   "outputs": [],
   "execution_count": 13
  },
  {
   "metadata": {},
   "cell_type": "markdown",
   "source": "## Modeling",
   "id": "df54c33c6d59704b"
  },
  {
   "metadata": {
    "ExecuteTime": {
     "end_time": "2025-01-10T11:05:38.413097Z",
     "start_time": "2025-01-10T11:05:38.362534Z"
    }
   },
   "cell_type": "code",
   "source": [
    "import numpy as np\n",
    "from sklearn.linear_model import LinearRegression\n",
    "\n",
    "reg = LinearRegression().fit(X, y)\n",
    "reg.score(X, y)"
   ],
   "id": "e0b41d6b1b92301a",
   "outputs": [
    {
     "data": {
      "text/plain": [
       "0.14106601670008756"
      ]
     },
     "execution_count": 14,
     "metadata": {},
     "output_type": "execute_result"
    }
   ],
   "execution_count": 14
  },
  {
   "metadata": {
    "ExecuteTime": {
     "end_time": "2025-01-10T11:05:39.019805Z",
     "start_time": "2025-01-10T11:05:38.984175Z"
    }
   },
   "cell_type": "code",
   "source": [
    "from sklearn.linear_model import Ridge\n",
    "import numpy as np\n",
    "\n",
    "clf = Ridge(alpha=1.0)\n",
    "clf.fit(X, y)\n",
    "clf.score(X, y)"
   ],
   "id": "56b86310db67100b",
   "outputs": [
    {
     "data": {
      "text/plain": [
       "0.14105732492932876"
      ]
     },
     "execution_count": 15,
     "metadata": {},
     "output_type": "execute_result"
    }
   ],
   "execution_count": 15
  },
  {
   "metadata": {
    "ExecuteTime": {
     "end_time": "2025-01-10T11:05:39.330051Z",
     "start_time": "2025-01-10T11:05:39.289001Z"
    }
   },
   "cell_type": "code",
   "source": [
    "from sklearn import linear_model\n",
    "\n",
    "clf = linear_model.Lasso(alpha=0.1)\n",
    "clf.fit(X, y)\n",
    "clf.score(X, y)"
   ],
   "id": "c496b4e3516c38ab",
   "outputs": [
    {
     "data": {
      "text/plain": [
       "0.07102075624098958"
      ]
     },
     "execution_count": 16,
     "metadata": {},
     "output_type": "execute_result"
    }
   ],
   "execution_count": 16
  },
  {
   "metadata": {
    "ExecuteTime": {
     "end_time": "2025-01-10T11:05:40.014727Z",
     "start_time": "2025-01-10T11:05:39.709142Z"
    }
   },
   "cell_type": "code",
   "source": [
    "from sklearn.ensemble import RandomForestRegressor\n",
    "\n",
    "regr = RandomForestRegressor()\n",
    "regr.fit(X, y)\n",
    "regr.score(X, y)"
   ],
   "id": "7cdf2b899bf782a7",
   "outputs": [
    {
     "data": {
      "text/plain": [
       "0.21405112201610055"
      ]
     },
     "execution_count": 17,
     "metadata": {},
     "output_type": "execute_result"
    }
   ],
   "execution_count": 17
  },
  {
   "metadata": {
    "ExecuteTime": {
     "end_time": "2025-01-10T11:05:40.101618Z",
     "start_time": "2025-01-10T11:05:40.099195Z"
    }
   },
   "cell_type": "code",
   "source": [
    "from sklearn.model_selection import train_test_split, GridSearchCV\n",
    "from sklearn.ensemble import RandomForestClassifier\n",
    "from sklearn.svm import SVC\n",
    "from sklearn.neighbors import KNeighborsClassifier"
   ],
   "id": "33411f6c3b02dca7",
   "outputs": [],
   "execution_count": 18
  },
  {
   "metadata": {
    "ExecuteTime": {
     "end_time": "2025-01-10T11:06:07.837138Z",
     "start_time": "2025-01-10T11:05:43.580783Z"
    }
   },
   "cell_type": "code",
   "source": [
    "models = {\n",
    "    'RandomForest': {\n",
    "        'model': RandomForestClassifier(),\n",
    "        'param_grid': {\n",
    "            'n_estimators': [50, 100, 200],\n",
    "            'max_depth': [None, 5, 10],\n",
    "            'min_samples_split': [2, 5, 10]\n",
    "        }\n",
    "    },\n",
    "    'KNN': {\n",
    "        'model': KNeighborsClassifier(),\n",
    "        'param_grid': {\n",
    "            'n_neighbors': [3, 5, 7, 9],\n",
    "            'weights': ['uniform', 'distance']\n",
    "        }\n",
    "    }\n",
    "}\n",
    "\n",
    "# Loop through the models and perform grid search\n",
    "for model_name, model_data in models.items():\n",
    "    print(f\"Tuning {model_name}...\")\n",
    "\n",
    "    # Create a GridSearchCV object\n",
    "    grid_search = GridSearchCV(estimator=model_data['model'],\n",
    "                               param_grid=model_data['param_grid'],\n",
    "                               cv=5)\n",
    "\n",
    "    # Fit the grid search to the training data\n",
    "    grid_search.fit(X, y_class)\n",
    "\n",
    "    # Print the best parameters and best score\n",
    "    print(f\"Best parameters found for {model_name}: \", grid_search.best_params_)\n",
    "    print(f\"Best cross-validation score for {model_name}: \", grid_search.best_score_)\n",
    "\n",
    "    # Evaluate the model on the test set\n",
    "    score = grid_search.score(X, y_class)\n",
    "    print(f\"Test set score for {model_name}: \", score)\n",
    "    print(\"-\" * 50)\n"
   ],
   "id": "167771c98c04d820",
   "outputs": [
    {
     "name": "stdout",
     "output_type": "stream",
     "text": [
      "Tuning RandomForest...\n"
     ]
    },
    {
     "name": "stderr",
     "output_type": "stream",
     "text": [
      "/Users/ignasi/anaconda3/lib/python3.11/site-packages/sklearn/model_selection/_split.py:776: UserWarning: The least populated class in y has only 4 members, which is less than n_splits=5.\n",
      "  warnings.warn(\n"
     ]
    },
    {
     "name": "stdout",
     "output_type": "stream",
     "text": [
      "Best parameters found for RandomForest:  {'max_depth': 10, 'min_samples_split': 10, 'n_estimators': 200}\n",
      "Best cross-validation score for RandomForest:  0.567896994042421\n",
      "Test set score for RandomForest:  0.5898410504492052\n",
      "--------------------------------------------------\n",
      "Tuning KNN...\n"
     ]
    },
    {
     "name": "stderr",
     "output_type": "stream",
     "text": [
      "/Users/ignasi/anaconda3/lib/python3.11/site-packages/sklearn/model_selection/_split.py:776: UserWarning: The least populated class in y has only 4 members, which is less than n_splits=5.\n",
      "  warnings.warn(\n"
     ]
    },
    {
     "name": "stdout",
     "output_type": "stream",
     "text": [
      "Best parameters found for KNN:  {'n_neighbors': 7, 'weights': 'uniform'}\n",
      "Best cross-validation score for KNN:  0.5585684793171548\n",
      "Test set score for KNN:  0.5345542501727713\n",
      "--------------------------------------------------\n"
     ]
    }
   ],
   "execution_count": 19
  },
  {
   "metadata": {
    "ExecuteTime": {
     "end_time": "2025-01-10T11:06:46.797118Z",
     "start_time": "2025-01-10T11:06:46.603292Z"
    }
   },
   "cell_type": "code",
   "source": [
    "rf = RandomForestClassifier()\n",
    "rf.fit(X, y_class)\n",
    "rf.score(X, y_class)"
   ],
   "id": "88f9801a568efd20",
   "outputs": [
    {
     "data": {
      "text/plain": [
       "0.5898410504492052"
      ]
     },
     "execution_count": 20,
     "metadata": {},
     "output_type": "execute_result"
    }
   ],
   "execution_count": 20
  },
  {
   "metadata": {
    "ExecuteTime": {
     "end_time": "2025-01-10T11:07:33.045711Z",
     "start_time": "2025-01-10T11:07:33.040871Z"
    }
   },
   "cell_type": "code",
   "source": [
    "import pickle\n",
    "\n",
    "filename = 'rf_rands.pkl'\n",
    "with open(filename, 'wb') as file:\n",
    "    pickle.dump(rf, file)"
   ],
   "id": "ab7eff58e63a2d4d",
   "outputs": [],
   "execution_count": 21
  },
  {
   "metadata": {
    "ExecuteTime": {
     "end_time": "2025-01-10T11:13:11.810474Z",
     "start_time": "2025-01-10T11:13:11.807955Z"
    }
   },
   "cell_type": "code",
   "source": "df['vehicle_age'].max()",
   "id": "b48064716ff881be",
   "outputs": [
    {
     "data": {
      "text/plain": [
       "28.0"
      ]
     },
     "execution_count": 28,
     "metadata": {},
     "output_type": "execute_result"
    }
   ],
   "execution_count": 28
  },
  {
   "metadata": {
    "ExecuteTime": {
     "end_time": "2025-01-10T11:43:10.839568Z",
     "start_time": "2025-01-10T11:43:10.831956Z"
    }
   },
   "cell_type": "code",
   "source": "df",
   "id": "5f98a185e3dc0a19",
   "outputs": [
    {
     "data": {
      "text/plain": [
       "     vehicle_make  vehicle_year  overall_rating\n",
       "0           honda        2003.0        4.166667\n",
       "1           honda        2003.0        4.000000\n",
       "2           honda        2003.0        4.333333\n",
       "3           honda        2003.0        4.200000\n",
       "4           honda        2003.0        4.166667\n",
       "...           ...           ...             ...\n",
       "6561        honda        2002.0        4.400000\n",
       "6562        honda        2002.0        4.800000\n",
       "6563        dodge        2013.0        4.000000\n",
       "6564         jeep        2016.0        5.000000\n",
       "6565         jeep        2016.0        5.000000\n",
       "\n",
       "[6566 rows x 3 columns]"
      ],
      "text/html": [
       "<div>\n",
       "<style scoped>\n",
       "    .dataframe tbody tr th:only-of-type {\n",
       "        vertical-align: middle;\n",
       "    }\n",
       "\n",
       "    .dataframe tbody tr th {\n",
       "        vertical-align: top;\n",
       "    }\n",
       "\n",
       "    .dataframe thead th {\n",
       "        text-align: right;\n",
       "    }\n",
       "</style>\n",
       "<table border=\"1\" class=\"dataframe\">\n",
       "  <thead>\n",
       "    <tr style=\"text-align: right;\">\n",
       "      <th></th>\n",
       "      <th>vehicle_make</th>\n",
       "      <th>vehicle_year</th>\n",
       "      <th>overall_rating</th>\n",
       "    </tr>\n",
       "  </thead>\n",
       "  <tbody>\n",
       "    <tr>\n",
       "      <th>0</th>\n",
       "      <td>honda</td>\n",
       "      <td>2003.0</td>\n",
       "      <td>4.166667</td>\n",
       "    </tr>\n",
       "    <tr>\n",
       "      <th>1</th>\n",
       "      <td>honda</td>\n",
       "      <td>2003.0</td>\n",
       "      <td>4.000000</td>\n",
       "    </tr>\n",
       "    <tr>\n",
       "      <th>2</th>\n",
       "      <td>honda</td>\n",
       "      <td>2003.0</td>\n",
       "      <td>4.333333</td>\n",
       "    </tr>\n",
       "    <tr>\n",
       "      <th>3</th>\n",
       "      <td>honda</td>\n",
       "      <td>2003.0</td>\n",
       "      <td>4.200000</td>\n",
       "    </tr>\n",
       "    <tr>\n",
       "      <th>4</th>\n",
       "      <td>honda</td>\n",
       "      <td>2003.0</td>\n",
       "      <td>4.166667</td>\n",
       "    </tr>\n",
       "    <tr>\n",
       "      <th>...</th>\n",
       "      <td>...</td>\n",
       "      <td>...</td>\n",
       "      <td>...</td>\n",
       "    </tr>\n",
       "    <tr>\n",
       "      <th>6561</th>\n",
       "      <td>honda</td>\n",
       "      <td>2002.0</td>\n",
       "      <td>4.400000</td>\n",
       "    </tr>\n",
       "    <tr>\n",
       "      <th>6562</th>\n",
       "      <td>honda</td>\n",
       "      <td>2002.0</td>\n",
       "      <td>4.800000</td>\n",
       "    </tr>\n",
       "    <tr>\n",
       "      <th>6563</th>\n",
       "      <td>dodge</td>\n",
       "      <td>2013.0</td>\n",
       "      <td>4.000000</td>\n",
       "    </tr>\n",
       "    <tr>\n",
       "      <th>6564</th>\n",
       "      <td>jeep</td>\n",
       "      <td>2016.0</td>\n",
       "      <td>5.000000</td>\n",
       "    </tr>\n",
       "    <tr>\n",
       "      <th>6565</th>\n",
       "      <td>jeep</td>\n",
       "      <td>2016.0</td>\n",
       "      <td>5.000000</td>\n",
       "    </tr>\n",
       "  </tbody>\n",
       "</table>\n",
       "<p>6566 rows × 3 columns</p>\n",
       "</div>"
      ]
     },
     "execution_count": 5,
     "metadata": {},
     "output_type": "execute_result"
    }
   ],
   "execution_count": 5
  },
  {
   "metadata": {},
   "cell_type": "code",
   "outputs": [],
   "execution_count": null,
   "source": "",
   "id": "a612c4a2d9a1deac"
  }
 ],
 "metadata": {
  "kernelspec": {
   "display_name": "Python 3",
   "language": "python",
   "name": "python3"
  },
  "language_info": {
   "codemirror_mode": {
    "name": "ipython",
    "version": 2
   },
   "file_extension": ".py",
   "mimetype": "text/x-python",
   "name": "python",
   "nbconvert_exporter": "python",
   "pygments_lexer": "ipython2",
   "version": "2.7.6"
  }
 },
 "nbformat": 4,
 "nbformat_minor": 5
}
