{
 "cells": [
  {
   "cell_type": "code",
   "id": "initial_id",
   "metadata": {
    "collapsed": true,
    "ExecuteTime": {
     "end_time": "2024-12-07T17:34:29.132383Z",
     "start_time": "2024-12-07T17:34:24.800469Z"
    }
   },
   "source": [
    "from torch.utils.data import DataLoader, TensorDataset\n",
    "from src.embeddings.car_make import CarMakeEmbedding\n",
    "from sklearn.preprocessing import StandardScaler, MinMaxScaler\n",
    "import matplotlib.pyplot as plt\n",
    "from datetime import datetime\n",
    "import torch.optim as optim\n",
    "import torch.nn as nn\n",
    "from tqdm import tqdm\n",
    "import pandas as pd\n",
    "import torch"
   ],
   "outputs": [],
   "execution_count": 2
  },
  {
   "metadata": {
    "ExecuteTime": {
     "end_time": "2024-12-07T17:34:29.173535Z",
     "start_time": "2024-12-07T17:34:29.138244Z"
    }
   },
   "cell_type": "code",
   "source": [
    "cme = CarMakeEmbedding(\n",
    "    \"/Users/ignasi/Documents/_03_MDS_/_01_ADSDB_/data/Car_Model_List.csv\",\n",
    "    embedding_size=10,\n",
    ")\n",
    "cme.save(\n",
    "    \"/Users/ignasi/Documents/_03_MDS_/_01_ADSDB_/src/embeddings/encoder.pkl\",\n",
    "    \"/Users/ignasi/Documents/_03_MDS_/_01_ADSDB_/src/embeddings/embedding.pkl\",\n",
    ")"
   ],
   "id": "6a47fb8288748368",
   "outputs": [],
   "execution_count": 3
  },
  {
   "metadata": {
    "ExecuteTime": {
     "end_time": "2024-12-01T18:32:44.774272Z",
     "start_time": "2024-12-01T18:32:44.303013Z"
    }
   },
   "cell_type": "code",
   "source": [
    "df = pd.read_csv(\n",
    "    \"/Users/ignasi/Documents/_03_MDS_/_01_ADSDB_/ui/sample_tables/mvc_safety_rating_by_accidents.csv\",\n",
    "    index_col=0,\n",
    ")\n",
    "df[\"make\"] = df[\"vehicle_make\"].apply(lambda x: cme.execute(x)[0])\n",
    "df[\"age\"] = df[\"vehicle_year\"].apply(lambda x: datetime.now().year - x)\n",
    "df[\"sex\"] = df[\"person_sex\"].apply(lambda x: int(x == \"F\"))\n",
    "df = df[[\"person_age\", \"sex\", \"overall_rating\", \"make\", \"age\"]]\n",
    "make_df = pd.DataFrame(\n",
    "    df[\"make\"].tolist(), columns=[f\"make_{i}\" for i in range(len(df[\"make\"][0]))]\n",
    ")\n",
    "df = pd.concat([df.drop(columns=[\"make\"]), make_df], axis=1)\n",
    "df = df.dropna()\n",
    "df.head()"
   ],
   "id": "1b6298e87dc35d6f",
   "outputs": [
    {
     "data": {
      "text/plain": [
       "   person_age  sex  overall_rating   age    make_0    make_1    make_2  \\\n",
       "0          53    1        4.166667  21.0  0.379497 -0.571041 -0.531895   \n",
       "1          53    1        4.000000  21.0  0.379497 -0.571041 -0.531895   \n",
       "2          24    0        4.333333  21.0  0.379497 -0.571041 -0.531895   \n",
       "3          24    0        4.200000  21.0  0.379497 -0.571041 -0.531895   \n",
       "4          24    0        4.166667  21.0  0.379497 -0.571041 -0.531895   \n",
       "\n",
       "     make_3    make_4    make_5    make_6    make_7    make_8    make_9  \n",
       "0 -1.433014  0.831354 -0.560324 -1.735861  0.432421  0.064999 -0.356456  \n",
       "1 -1.433014  0.831354 -0.560324 -1.735861  0.432421  0.064999 -0.356456  \n",
       "2 -1.433014  0.831354 -0.560324 -1.735861  0.432421  0.064999 -0.356456  \n",
       "3 -1.433014  0.831354 -0.560324 -1.735861  0.432421  0.064999 -0.356456  \n",
       "4 -1.433014  0.831354 -0.560324 -1.735861  0.432421  0.064999 -0.356456  "
      ],
      "text/html": [
       "<div>\n",
       "<style scoped>\n",
       "    .dataframe tbody tr th:only-of-type {\n",
       "        vertical-align: middle;\n",
       "    }\n",
       "\n",
       "    .dataframe tbody tr th {\n",
       "        vertical-align: top;\n",
       "    }\n",
       "\n",
       "    .dataframe thead th {\n",
       "        text-align: right;\n",
       "    }\n",
       "</style>\n",
       "<table border=\"1\" class=\"dataframe\">\n",
       "  <thead>\n",
       "    <tr style=\"text-align: right;\">\n",
       "      <th></th>\n",
       "      <th>person_age</th>\n",
       "      <th>sex</th>\n",
       "      <th>overall_rating</th>\n",
       "      <th>age</th>\n",
       "      <th>make_0</th>\n",
       "      <th>make_1</th>\n",
       "      <th>make_2</th>\n",
       "      <th>make_3</th>\n",
       "      <th>make_4</th>\n",
       "      <th>make_5</th>\n",
       "      <th>make_6</th>\n",
       "      <th>make_7</th>\n",
       "      <th>make_8</th>\n",
       "      <th>make_9</th>\n",
       "    </tr>\n",
       "  </thead>\n",
       "  <tbody>\n",
       "    <tr>\n",
       "      <th>0</th>\n",
       "      <td>53</td>\n",
       "      <td>1</td>\n",
       "      <td>4.166667</td>\n",
       "      <td>21.0</td>\n",
       "      <td>0.379497</td>\n",
       "      <td>-0.571041</td>\n",
       "      <td>-0.531895</td>\n",
       "      <td>-1.433014</td>\n",
       "      <td>0.831354</td>\n",
       "      <td>-0.560324</td>\n",
       "      <td>-1.735861</td>\n",
       "      <td>0.432421</td>\n",
       "      <td>0.064999</td>\n",
       "      <td>-0.356456</td>\n",
       "    </tr>\n",
       "    <tr>\n",
       "      <th>1</th>\n",
       "      <td>53</td>\n",
       "      <td>1</td>\n",
       "      <td>4.000000</td>\n",
       "      <td>21.0</td>\n",
       "      <td>0.379497</td>\n",
       "      <td>-0.571041</td>\n",
       "      <td>-0.531895</td>\n",
       "      <td>-1.433014</td>\n",
       "      <td>0.831354</td>\n",
       "      <td>-0.560324</td>\n",
       "      <td>-1.735861</td>\n",
       "      <td>0.432421</td>\n",
       "      <td>0.064999</td>\n",
       "      <td>-0.356456</td>\n",
       "    </tr>\n",
       "    <tr>\n",
       "      <th>2</th>\n",
       "      <td>24</td>\n",
       "      <td>0</td>\n",
       "      <td>4.333333</td>\n",
       "      <td>21.0</td>\n",
       "      <td>0.379497</td>\n",
       "      <td>-0.571041</td>\n",
       "      <td>-0.531895</td>\n",
       "      <td>-1.433014</td>\n",
       "      <td>0.831354</td>\n",
       "      <td>-0.560324</td>\n",
       "      <td>-1.735861</td>\n",
       "      <td>0.432421</td>\n",
       "      <td>0.064999</td>\n",
       "      <td>-0.356456</td>\n",
       "    </tr>\n",
       "    <tr>\n",
       "      <th>3</th>\n",
       "      <td>24</td>\n",
       "      <td>0</td>\n",
       "      <td>4.200000</td>\n",
       "      <td>21.0</td>\n",
       "      <td>0.379497</td>\n",
       "      <td>-0.571041</td>\n",
       "      <td>-0.531895</td>\n",
       "      <td>-1.433014</td>\n",
       "      <td>0.831354</td>\n",
       "      <td>-0.560324</td>\n",
       "      <td>-1.735861</td>\n",
       "      <td>0.432421</td>\n",
       "      <td>0.064999</td>\n",
       "      <td>-0.356456</td>\n",
       "    </tr>\n",
       "    <tr>\n",
       "      <th>4</th>\n",
       "      <td>24</td>\n",
       "      <td>0</td>\n",
       "      <td>4.166667</td>\n",
       "      <td>21.0</td>\n",
       "      <td>0.379497</td>\n",
       "      <td>-0.571041</td>\n",
       "      <td>-0.531895</td>\n",
       "      <td>-1.433014</td>\n",
       "      <td>0.831354</td>\n",
       "      <td>-0.560324</td>\n",
       "      <td>-1.735861</td>\n",
       "      <td>0.432421</td>\n",
       "      <td>0.064999</td>\n",
       "      <td>-0.356456</td>\n",
       "    </tr>\n",
       "  </tbody>\n",
       "</table>\n",
       "</div>"
      ]
     },
     "execution_count": 31,
     "metadata": {},
     "output_type": "execute_result"
    }
   ],
   "execution_count": 31
  },
  {
   "metadata": {
    "ExecuteTime": {
     "end_time": "2024-12-01T18:32:44.799042Z",
     "start_time": "2024-12-01T18:32:44.796159Z"
    }
   },
   "cell_type": "code",
   "source": [
    "scaler = MinMaxScaler()\n",
    "features = df.to_numpy()\n",
    "features = scaler.fit_transform(features)"
   ],
   "id": "ea5c8630daf79c93",
   "outputs": [],
   "execution_count": 32
  },
  {
   "metadata": {
    "ExecuteTime": {
     "end_time": "2024-12-01T18:32:44.835686Z",
     "start_time": "2024-12-01T18:32:44.831433Z"
    }
   },
   "cell_type": "code",
   "source": [
    "class VAE(nn.Module):\n",
    "    def __init__(self, input_dim, hidden_dim, latent_dim):\n",
    "        super(VAE, self).__init__()\n",
    "        self.encoder = nn.Sequential(nn.Linear(input_dim, hidden_dim), nn.ReLU())\n",
    "        self.fc_mu = nn.Linear(hidden_dim, latent_dim)\n",
    "        self.fc_logvar = nn.Linear(hidden_dim, latent_dim)\n",
    "\n",
    "        self.decoder = nn.Sequential(\n",
    "            nn.Linear(latent_dim, hidden_dim),\n",
    "            nn.ReLU(),\n",
    "            nn.Linear(hidden_dim, input_dim),\n",
    "            nn.Sigmoid(),\n",
    "        )\n",
    "\n",
    "    def encode(self, x):\n",
    "        hidden = self.encoder(x)\n",
    "        mu = self.fc_mu(hidden)\n",
    "        logvar = self.fc_logvar(hidden)\n",
    "        return mu, logvar\n",
    "\n",
    "    def reparameterize(self, mu, logvar):\n",
    "        logvar = torch.clamp(logvar, min=-10, max=10)  # Limit logvar range\n",
    "        std = torch.exp(0.5 * logvar)\n",
    "        eps = torch.randn_like(std)\n",
    "        return mu + eps * std\n",
    "\n",
    "    def decode(self, z):\n",
    "        return self.decoder(z)\n",
    "\n",
    "    def forward(self, x):\n",
    "        mu, logvar = self.encode(x)\n",
    "        z = self.reparameterize(mu, logvar)\n",
    "        recon = self.decode(z)\n",
    "        return recon, mu, logvar"
   ],
   "id": "f080e05d6fd209f5",
   "outputs": [],
   "execution_count": 33
  },
  {
   "metadata": {
    "ExecuteTime": {
     "end_time": "2024-12-01T18:32:45.456018Z",
     "start_time": "2024-12-01T18:32:45.453032Z"
    }
   },
   "cell_type": "code",
   "source": [
    "def vae_loss(recon_x, x, mu, logvar, beta=0.1):\n",
    "    recon_loss = nn.MSELoss(reduction=\"sum\")(recon_x, x)\n",
    "    kl_loss = -0.5 * torch.sum(1 + logvar - mu.pow(2) - logvar.exp())\n",
    "    return recon_loss + beta * kl_loss"
   ],
   "id": "afcde1dc7027e956",
   "outputs": [],
   "execution_count": 34
  },
  {
   "metadata": {
    "ExecuteTime": {
     "end_time": "2024-12-01T18:32:46.006041Z",
     "start_time": "2024-12-01T18:32:46.002143Z"
    }
   },
   "cell_type": "code",
   "source": [
    "input_dim = len(df.columns)\n",
    "hidden_dim = 32\n",
    "latent_dim = 5\n",
    "learning_rate = 1e-5\n",
    "batch_size = 64\n",
    "num_epochs = 1000\n",
    "\n",
    "dataset = TensorDataset(torch.tensor(features, dtype=torch.float32))\n",
    "dataloader = DataLoader(dataset, batch_size=batch_size, shuffle=True)\n",
    "\n",
    "vae = VAE(input_dim, hidden_dim, latent_dim)\n",
    "optimizer = optim.Adam(vae.parameters(), lr=learning_rate)"
   ],
   "id": "fa6fa7ffd8ee28ba",
   "outputs": [],
   "execution_count": 35
  },
  {
   "metadata": {
    "ExecuteTime": {
     "end_time": "2024-12-01T18:33:50.636067Z",
     "start_time": "2024-12-01T18:32:47.250884Z"
    }
   },
   "cell_type": "code",
   "source": [
    "loss_history = []\n",
    "vae.train()\n",
    "for epoch in tqdm(range(num_epochs)):\n",
    "    total_loss = 0\n",
    "    for batch in dataloader:\n",
    "        x = batch[0]\n",
    "        optimizer.zero_grad()\n",
    "        recon_x, mu, logvar = vae(x)\n",
    "        loss = vae_loss(recon_x, x, mu, logvar, beta=0.1)\n",
    "        loss.backward()\n",
    "        torch.nn.utils.clip_grad_norm_(vae.parameters(), max_norm=1.0)\n",
    "        optimizer.step()\n",
    "        total_loss += loss.item()\n",
    "    loss_history.append(total_loss)"
   ],
   "id": "2ed06e9d255c417f",
   "outputs": [
    {
     "name": "stderr",
     "output_type": "stream",
     "text": [
      "100%|██████████| 1000/1000 [01:03<00:00, 15.78it/s]\n"
     ]
    }
   ],
   "execution_count": 36
  },
  {
   "metadata": {
    "ExecuteTime": {
     "end_time": "2024-12-01T18:33:50.708044Z",
     "start_time": "2024-12-01T18:33:50.643394Z"
    }
   },
   "cell_type": "code",
   "source": "plt.plot(loss_history)",
   "id": "5d053e5fe4096fe3",
   "outputs": [
    {
     "data": {
      "text/plain": [
       "[<matplotlib.lines.Line2D at 0x31aaf3310>]"
      ]
     },
     "execution_count": 37,
     "metadata": {},
     "output_type": "execute_result"
    },
    {
     "data": {
      "text/plain": [
       "<Figure size 640x480 with 1 Axes>"
      ],
      "image/png": "[encoded data removed]"
     },
     "metadata": {},
     "output_type": "display_data"
    }
   ],
   "execution_count": 37
  },
  {
   "metadata": {
    "ExecuteTime": {
     "end_time": "2024-12-01T18:34:46.160381Z",
     "start_time": "2024-12-01T18:34:45.099176Z"
    }
   },
   "cell_type": "code",
   "source": [
    "correct = 0\n",
    "for i in range(len(features)):\n",
    "    reconstruction = vae(torch.tensor(features[i], dtype=torch.float32))[0]\n",
    "    rec = cme.reverse_execute(reconstruction.detach().cpu().numpy()[-10:])\n",
    "    default = cme.reverse_execute(features[i][-10:])\n",
    "    correct += default == rec"
   ],
   "id": "e094e64f3db5665f",
   "outputs": [],
   "execution_count": 41
  },
  {
   "metadata": {
    "ExecuteTime": {
     "end_time": "2024-12-01T18:34:53.475764Z",
     "start_time": "2024-12-01T18:34:53.473191Z"
    }
   },
   "cell_type": "code",
   "source": "correct, len(features)",
   "id": "ad8ac1d96dc4c814",
   "outputs": [
    {
     "data": {
      "text/plain": [
       "(5003, 5788)"
      ]
     },
     "execution_count": 43,
     "metadata": {},
     "output_type": "execute_result"
    }
   ],
   "execution_count": 43
  },
  {
   "metadata": {},
   "cell_type": "code",
   "outputs": [],
   "execution_count": null,
   "source": "",
   "id": "a44d64a06f5351be"
  }
 ],
 "metadata": {
  "kernelspec": {
   "display_name": "Python 3",
   "language": "python",
   "name": "python3"
  },
  "language_info": {
   "codemirror_mode": {
    "name": "ipython",
    "version": 2
   },
   "file_extension": ".py",
   "mimetype": "text/x-python",
   "name": "python",
   "nbconvert_exporter": "python",
   "pygments_lexer": "ipython2",
   "version": "2.7.6"
  }
 },
 "nbformat": 4,
 "nbformat_minor": 5
}
