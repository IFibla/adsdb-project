{
 "cells": [
  {
   "cell_type": "code",
   "execution_count": null,
   "id": "initial_id",
   "metadata": {
    "collapsed": true
   },
   "outputs": [],
   "source": [
    "def execute(self):\n",
    "    tables_names = self._list_tables()\n",
    "    df = self._join_all_versions(tables_names)\n",
    "    df = self._transform_column_names_to_snake_case(df)\n",
    "    df = self._drop_insignificant_columns(df)\n",
    "    df = self._clean_duplicates(df)\n",
    "    df = self._correct_misspellings(df)\n",
    "    df = self._format_data(df)\n",
    "    df = self._handle_missing_values(df)\n",
    "    self.trusted_db_connector.insert_data(self._get_trusted_table_name(), df)"
   ]
  },
  {
   "cell_type": "code",
   "execution_count": null,
   "outputs": [],
   "source": [
    "from src.helpers.db_connector import DBConnector\n",
    "\n",
    "formatted_db_connector = DBConnector()\n",
    "trusted_db_connector = DBConnector()"
   ],
   "metadata": {
    "collapsed": false
   },
   "id": "140940bae5dc2d3c"
  },
  {
   "cell_type": "code",
   "execution_count": null,
   "outputs": [],
   "source": [
    "from src.formatted.json import JSONFormatted\n",
    "\n",
    "json_formatted = JSONFormatted(\n",
    "    persistent_folder=r\"C:\\Users\\ferra\\PycharmProjects\\adsdb-project\\data\\landing\\persistent\",\n",
    "    formatted_db_connector=formatted_db_connector,\n",
    ")\n",
    "\n",
    "json_formatted.execute()"
   ],
   "metadata": {
    "collapsed": false
   },
   "id": "8e68c1a9171f444b"
  },
  {
   "cell_type": "code",
   "execution_count": null,
   "outputs": [],
   "source": [
    "print(formatted_db_connector.get_tables())"
   ],
   "metadata": {
    "collapsed": false
   },
   "id": "d16a9be6801f130e"
  },
  {
   "cell_type": "code",
   "execution_count": null,
   "outputs": [],
   "source": [
    "from src.trusted.nhtsa_safety_rating import NHTSASafetyRating\n",
    "\n",
    "trusted = NHTSASafetyRating(\n",
    "    formatted_db_connector=formatted_db_connector,\n",
    "    trusted_db_connector=trusted_db_connector,\n",
    ")"
   ],
   "metadata": {
    "collapsed": false
   },
   "id": "e92186c1d380a9af"
  },
  {
   "cell_type": "code",
   "execution_count": null,
   "outputs": [],
   "source": [
    "print(\n",
    "    formatted_db_connector.execute_query(\n",
    "        \"\"\"SELECT * from nhtsa_safety_rating_20241026\"\"\"\n",
    "    )\n",
    ")"
   ],
   "metadata": {
    "collapsed": false
   },
   "id": "8093bba32012f4fd"
  },
  {
   "cell_type": "code",
   "execution_count": null,
   "outputs": [],
   "source": [
    "df = formatted_db_connector.get_table_as_dataframe(\n",
    "    table_name=\"nhtsa_safety_rating_20241026\"\n",
    ")\n",
    "\n",
    "df"
   ],
   "metadata": {
    "collapsed": false
   },
   "id": "941be1a6fd154466"
  },
  {
   "cell_type": "code",
   "execution_count": null,
   "outputs": [],
   "source": [
    "formatted_db_connector.get_tables()"
   ],
   "metadata": {
    "collapsed": false
   },
   "id": "d03d4127cf84fe43"
  },
  {
   "cell_type": "code",
   "execution_count": null,
   "outputs": [],
   "source": [
    "trusted.execute()\n",
    "\n",
    "print(trusted_db_connector.get_tables())"
   ],
   "metadata": {
    "collapsed": false
   },
   "id": "3b518dfadd07de42"
  },
  {
   "cell_type": "code",
   "execution_count": null,
   "outputs": [],
   "source": [
    "print(df.columns)"
   ],
   "metadata": {
    "collapsed": false
   },
   "id": "4cd50a291c95be6d"
  },
  {
   "cell_type": "code",
   "execution_count": null,
   "outputs": [],
   "source": [
    "import re\n",
    "import pandas as pd\n",
    "\n",
    "\n",
    "def _transform_column_names_to_snake_case(df: pd.DataFrame) -> pd.DataFrame:\n",
    "    df.columns = [\n",
    "        re.sub(r\"(?<!^)(?=[A-Z])\", \"_\", col.replace(\"NHTSA\", \"nhtsa\"))\n",
    "        .replace(\"-\", \"_\")\n",
    "        .lower()\n",
    "        for col in df.columns\n",
    "    ]\n",
    "    return df"
   ],
   "metadata": {
    "collapsed": false
   },
   "id": "322f88ad19d3ff58"
  },
  {
   "cell_type": "code",
   "execution_count": null,
   "outputs": [],
   "source": [
    "df = _transform_column_names_to_snake_case(df)\n",
    "\n",
    "df"
   ],
   "metadata": {
    "collapsed": false
   },
   "id": "fc042f84a81097d6"
  },
  {
   "cell_type": "markdown",
   "source": [
    "### TEST FOR WHOLE EXECUTION"
   ],
   "metadata": {
    "collapsed": false
   },
   "id": "8170f191f0a205c4"
  },
  {
   "cell_type": "code",
   "execution_count": 1,
   "outputs": [
    {
     "name": "stdout",
     "output_type": "stream",
     "text": [
      "[('nhtsa_safety_rating_20241026',), ('nhtsa_safety_rating_20241027',), ('data',)]\n"
     ]
    }
   ],
   "source": [
    "from src.helpers.db_connector import DBConnector\n",
    "\n",
    "formatted_db_connector = DBConnector()\n",
    "trusted_db_connector = DBConnector()\n",
    "\n",
    "from src.formatted.json import JSONFormatted\n",
    "\n",
    "json_formatted = JSONFormatted(\n",
    "    persistent_folder=r\"C:\\Users\\ferra\\PycharmProjects\\adsdb-project\\data\\landing\\persistent\",\n",
    "    formatted_db_connector=formatted_db_connector,\n",
    ")\n",
    "\n",
    "json_formatted.execute()\n",
    "print(formatted_db_connector.get_tables())\n",
    "from src.trusted.nhtsa_safety_rating import NHTSASafetyRating\n",
    "\n",
    "trusted = NHTSASafetyRating(\n",
    "    formatted_db_connector=formatted_db_connector,\n",
    "    trusted_db_connector=trusted_db_connector,\n",
    ")"
   ],
   "metadata": {
    "collapsed": false,
    "ExecuteTime": {
     "end_time": "2024-10-27T10:37:11.146716400Z",
     "start_time": "2024-10-27T10:37:10.656900500Z"
    }
   },
   "id": "d4ae54c1fb6eb8d7"
  },
  {
   "cell_type": "code",
   "execution_count": 4,
   "outputs": [
    {
     "ename": "KeyboardInterrupt",
     "evalue": "",
     "output_type": "error",
     "traceback": [
      "\u001B[1;31m---------------------------------------------------------------------------\u001B[0m",
      "\u001B[1;31mKeyboardInterrupt\u001B[0m                         Traceback (most recent call last)",
      "Cell \u001B[1;32mIn[4], line 1\u001B[0m\n\u001B[1;32m----> 1\u001B[0m trusted\u001B[38;5;241m.\u001B[39mexecute()\n",
      "File \u001B[1;32m~\\PycharmProjects\\adsdb-project\\models\\storage\\layers\\trusted.py:61\u001B[0m, in \u001B[0;36mTrusted.execute\u001B[1;34m(self)\u001B[0m\n\u001B[0;32m     59\u001B[0m df \u001B[38;5;241m=\u001B[39m \u001B[38;5;28mself\u001B[39m\u001B[38;5;241m.\u001B[39m_correct_misspellings(df)\n\u001B[0;32m     60\u001B[0m df \u001B[38;5;241m=\u001B[39m \u001B[38;5;28mself\u001B[39m\u001B[38;5;241m.\u001B[39m_format_data(df)\n\u001B[1;32m---> 61\u001B[0m df \u001B[38;5;241m=\u001B[39m \u001B[38;5;28mself\u001B[39m\u001B[38;5;241m.\u001B[39m_handle_missing_values(df)\n\u001B[0;32m     62\u001B[0m \u001B[38;5;28mself\u001B[39m\u001B[38;5;241m.\u001B[39mtrusted_db_connector\u001B[38;5;241m.\u001B[39minsert_data(\u001B[38;5;28mself\u001B[39m\u001B[38;5;241m.\u001B[39m_get_trusted_table_name(), df)\n",
      "File \u001B[1;32m~\\PycharmProjects\\adsdb-project\\src\\trusted\\nhtsa_safety_rating.py:65\u001B[0m, in \u001B[0;36mNHTSASafetyRating._handle_missing_values\u001B[1;34m(self, df)\u001B[0m\n\u001B[0;32m     57\u001B[0m df[\u001B[38;5;124m\"\u001B[39m\u001B[38;5;124moverall_rating\u001B[39m\u001B[38;5;124m\"\u001B[39m] \u001B[38;5;241m=\u001B[39m df\u001B[38;5;241m.\u001B[39mgroupby([\u001B[38;5;124m\"\u001B[39m\u001B[38;5;124mmake\u001B[39m\u001B[38;5;124m\"\u001B[39m, \u001B[38;5;124m\"\u001B[39m\u001B[38;5;124mmodel\u001B[39m\u001B[38;5;124m\"\u001B[39m])[\n\u001B[0;32m     58\u001B[0m     \u001B[38;5;124m\"\u001B[39m\u001B[38;5;124moverall_rating\u001B[39m\u001B[38;5;124m\"\u001B[39m\n\u001B[0;32m     59\u001B[0m ]\u001B[38;5;241m.\u001B[39mtransform(\u001B[38;5;28;01mlambda\u001B[39;00m x: x\u001B[38;5;241m.\u001B[39mfillna(x\u001B[38;5;241m.\u001B[39mmean()))\n\u001B[0;32m     61\u001B[0m df[\u001B[38;5;124m\"\u001B[39m\u001B[38;5;124moverall_rating\u001B[39m\u001B[38;5;124m\"\u001B[39m] \u001B[38;5;241m=\u001B[39m df\u001B[38;5;241m.\u001B[39mgroupby(\u001B[38;5;124m\"\u001B[39m\u001B[38;5;124mmake\u001B[39m\u001B[38;5;124m\"\u001B[39m)[\u001B[38;5;124m\"\u001B[39m\u001B[38;5;124moverall_rating\u001B[39m\u001B[38;5;124m\"\u001B[39m]\u001B[38;5;241m.\u001B[39mtransform(\n\u001B[0;32m     62\u001B[0m     \u001B[38;5;28;01mlambda\u001B[39;00m x: x\u001B[38;5;241m.\u001B[39mfillna(x\u001B[38;5;241m.\u001B[39mmean())\n\u001B[0;32m     63\u001B[0m )\n\u001B[1;32m---> 65\u001B[0m \u001B[38;5;28;01mreturn\u001B[39;00m \u001B[38;5;28mself\u001B[39m\u001B[38;5;241m.\u001B[39m_remove_additional_ratings(df)\n",
      "File \u001B[1;32m~\\PycharmProjects\\adsdb-project\\src\\trusted\\nhtsa_safety_rating.py:37\u001B[0m, in \u001B[0;36mNHTSASafetyRating._remove_additional_ratings\u001B[1;34m(self, df)\u001B[0m\n\u001B[0;32m     36\u001B[0m \u001B[38;5;28;01mdef\u001B[39;00m \u001B[38;5;21m_remove_additional_ratings\u001B[39m(\u001B[38;5;28mself\u001B[39m, df: pd\u001B[38;5;241m.\u001B[39mDataFrame) \u001B[38;5;241m-\u001B[39m\u001B[38;5;241m>\u001B[39m pd\u001B[38;5;241m.\u001B[39mDataFrame:\n\u001B[1;32m---> 37\u001B[0m     \u001B[38;5;28;01mreturn\u001B[39;00m df[[\u001B[38;5;124m\"\u001B[39m\u001B[38;5;124mvehicle_id\u001B[39m\u001B[38;5;124m\"\u001B[39m, \u001B[38;5;124m\"\u001B[39m\u001B[38;5;124mmake\u001B[39m\u001B[38;5;124m\"\u001B[39m, \u001B[38;5;124m\"\u001B[39m\u001B[38;5;124mmodel\u001B[39m\u001B[38;5;124m\"\u001B[39m, \u001B[38;5;124m\"\u001B[39m\u001B[38;5;124mmodel_year\u001B[39m\u001B[38;5;124m\"\u001B[39m, \u001B[38;5;124m\"\u001B[39m\u001B[38;5;124moverall_rating\u001B[39m\u001B[38;5;124m\"\u001B[39m]]\n",
      "File \u001B[1;32m_pydevd_bundle\\\\pydevd_cython_win32_312_64.pyx:1179\u001B[0m, in \u001B[0;36m_pydevd_bundle.pydevd_cython_win32_312_64.SafeCallWrapper.__call__\u001B[1;34m()\u001B[0m\n",
      "File \u001B[1;32m_pydevd_bundle\\\\pydevd_cython_win32_312_64.pyx:620\u001B[0m, in \u001B[0;36m_pydevd_bundle.pydevd_cython_win32_312_64.PyDBFrame.trace_dispatch\u001B[1;34m()\u001B[0m\n",
      "File \u001B[1;32m_pydevd_bundle\\\\pydevd_cython_win32_312_64.pyx:1095\u001B[0m, in \u001B[0;36m_pydevd_bundle.pydevd_cython_win32_312_64.PyDBFrame.trace_dispatch\u001B[1;34m()\u001B[0m\n",
      "File \u001B[1;32m_pydevd_bundle\\\\pydevd_cython_win32_312_64.pyx:1057\u001B[0m, in \u001B[0;36m_pydevd_bundle.pydevd_cython_win32_312_64.PyDBFrame.trace_dispatch\u001B[1;34m()\u001B[0m\n",
      "File \u001B[1;32m_pydevd_bundle\\\\pydevd_cython_win32_312_64.pyx:317\u001B[0m, in \u001B[0;36m_pydevd_bundle.pydevd_cython_win32_312_64.PyDBFrame.do_wait_suspend\u001B[1;34m()\u001B[0m\n",
      "File \u001B[1;32m~\\AppData\\Local\\Programs\\PyCharm Professional\\plugins\\python\\helpers\\pydev\\pydevd.py:1160\u001B[0m, in \u001B[0;36mPyDB.do_wait_suspend\u001B[1;34m(self, thread, frame, event, arg, send_suspend_message, is_unhandled_exception)\u001B[0m\n\u001B[0;32m   1157\u001B[0m         from_this_thread\u001B[38;5;241m.\u001B[39mappend(frame_id)\n\u001B[0;32m   1159\u001B[0m \u001B[38;5;28;01mwith\u001B[39;00m \u001B[38;5;28mself\u001B[39m\u001B[38;5;241m.\u001B[39m_threads_suspended_single_notification\u001B[38;5;241m.\u001B[39mnotify_thread_suspended(thread_id, stop_reason):\n\u001B[1;32m-> 1160\u001B[0m     \u001B[38;5;28mself\u001B[39m\u001B[38;5;241m.\u001B[39m_do_wait_suspend(thread, frame, event, arg, suspend_type, from_this_thread)\n",
      "File \u001B[1;32m~\\AppData\\Local\\Programs\\PyCharm Professional\\plugins\\python\\helpers\\pydev\\pydevd.py:1175\u001B[0m, in \u001B[0;36mPyDB._do_wait_suspend\u001B[1;34m(self, thread, frame, event, arg, suspend_type, from_this_thread)\u001B[0m\n\u001B[0;32m   1172\u001B[0m             \u001B[38;5;28mself\u001B[39m\u001B[38;5;241m.\u001B[39m_call_mpl_hook()\n\u001B[0;32m   1174\u001B[0m         \u001B[38;5;28mself\u001B[39m\u001B[38;5;241m.\u001B[39mprocess_internal_commands()\n\u001B[1;32m-> 1175\u001B[0m         time\u001B[38;5;241m.\u001B[39msleep(\u001B[38;5;241m0.01\u001B[39m)\n\u001B[0;32m   1177\u001B[0m \u001B[38;5;28mself\u001B[39m\u001B[38;5;241m.\u001B[39mcancel_async_evaluation(get_current_thread_id(thread), \u001B[38;5;28mstr\u001B[39m(\u001B[38;5;28mid\u001B[39m(frame)))\n\u001B[0;32m   1179\u001B[0m \u001B[38;5;66;03m# process any stepping instructions\u001B[39;00m\n",
      "\u001B[1;31mKeyboardInterrupt\u001B[0m: "
     ]
    }
   ],
   "source": [
    "trusted.execute()"
   ],
   "metadata": {
    "collapsed": false,
    "ExecuteTime": {
     "end_time": "2024-10-27T10:39:58.455956300Z",
     "start_time": "2024-10-27T10:37:52.696102300Z"
    }
   },
   "id": "fe2eefbd03419758"
  },
  {
   "cell_type": "code",
   "execution_count": null,
   "outputs": [],
   "source": [
    "df_trusted = trusted_db_connector.get_table_as_dataframe(\"nhtsa_safety_rating\")"
   ],
   "metadata": {
    "collapsed": false
   },
   "id": "73eef3456cccb6ca"
  },
  {
   "cell_type": "code",
   "execution_count": null,
   "outputs": [],
   "source": [
    "df_trusted"
   ],
   "metadata": {
    "collapsed": false
   },
   "id": "f484690c8c6a5f7d"
  }
 ],
 "metadata": {
  "kernelspec": {
   "display_name": "Python 3",
   "language": "python",
   "name": "python3"
  },
  "language_info": {
   "codemirror_mode": {
    "name": "ipython",
    "version": 2
   },
   "file_extension": ".py",
   "mimetype": "text/x-python",
   "name": "python",
   "nbconvert_exporter": "python",
   "pygments_lexer": "ipython2",
   "version": "2.7.6"
  }
 },
 "nbformat": 4,
 "nbformat_minor": 5
}
