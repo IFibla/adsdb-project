{
 "cells": [
  {
   "cell_type": "code",
   "execution_count": null,
   "id": "initial_id",
   "metadata": {
    "collapsed": true
   },
   "outputs": [],
   "source": [
    "def execute(self):\n",
    "    tables_names = self._list_tables()\n",
    "    df = self._join_all_versions(tables_names)\n",
    "    df = self._transform_column_names_to_snake_case(df)\n",
    "    df = self._drop_insignificant_columns(df)\n",
    "    df = self._clean_duplicates(df)\n",
    "    df = self._correct_misspellings(df)\n",
    "    df = self._format_data(df)\n",
    "    df = self._handle_missing_values(df)\n",
    "    self.trusted_db_connector.insert_data(self._get_trusted_table_name(), df)"
   ]
  },
  {
   "cell_type": "code",
   "execution_count": null,
   "outputs": [],
   "source": [
    "from src.helpers.db_connector import DBConnector\n",
    "\n",
    "formatted_db_connector = DBConnector()\n",
    "trusted_db_connector = DBConnector()"
   ],
   "metadata": {
    "collapsed": false
   },
   "id": "140940bae5dc2d3c"
  },
  {
   "cell_type": "code",
   "execution_count": null,
   "outputs": [],
   "source": [
    "from src.formatted.json import JSONFormatted\n",
    "\n",
    "json_formatted = JSONFormatted(\n",
    "    persistent_folder=r\"C:\\Users\\ferra\\PycharmProjects\\adsdb-project\\data\\landing\\persistent\",\n",
    "    formatted_db_connector=formatted_db_connector,\n",
    ")\n",
    "\n",
    "json_formatted.execute()"
   ],
   "metadata": {
    "collapsed": false
   },
   "id": "8e68c1a9171f444b"
  },
  {
   "cell_type": "code",
   "execution_count": null,
   "outputs": [],
   "source": [
    "print(formatted_db_connector.get_tables())"
   ],
   "metadata": {
    "collapsed": false
   },
   "id": "d16a9be6801f130e"
  },
  {
   "cell_type": "code",
   "execution_count": null,
   "outputs": [],
   "source": [
    "from src.trusted.nhtsa_safety_rating import NHTSASafetyRating\n",
    "\n",
    "trusted = NHTSASafetyRating(\n",
    "    formatted_db_connector=formatted_db_connector,\n",
    "    trusted_db_connector=trusted_db_connector,\n",
    ")"
   ],
   "metadata": {
    "collapsed": false
   },
   "id": "e92186c1d380a9af"
  },
  {
   "cell_type": "code",
   "execution_count": null,
   "outputs": [],
   "source": [
    "print(\n",
    "    formatted_db_connector.execute_query(\n",
    "        \"\"\"SELECT * from nhtsa_safety_rating_20241026\"\"\"\n",
    "    )\n",
    ")"
   ],
   "metadata": {
    "collapsed": false
   },
   "id": "8093bba32012f4fd"
  },
  {
   "cell_type": "code",
   "execution_count": null,
   "outputs": [],
   "source": [
    "df = formatted_db_connector.get_table_as_dataframe(\n",
    "    table_name=\"nhtsa_safety_rating_20241026\"\n",
    ")\n",
    "\n",
    "df"
   ],
   "metadata": {
    "collapsed": false
   },
   "id": "941be1a6fd154466"
  },
  {
   "cell_type": "code",
   "execution_count": null,
   "outputs": [],
   "source": [
    "formatted_db_connector.get_tables()"
   ],
   "metadata": {
    "collapsed": false
   },
   "id": "d03d4127cf84fe43"
  },
  {
   "cell_type": "code",
   "execution_count": null,
   "outputs": [],
   "source": [
    "trusted.execute()\n",
    "\n",
    "print(trusted_db_connector.get_tables())"
   ],
   "metadata": {
    "collapsed": false
   },
   "id": "3b518dfadd07de42"
  },
  {
   "cell_type": "code",
   "execution_count": null,
   "outputs": [],
   "source": [
    "print(df.columns)"
   ],
   "metadata": {
    "collapsed": false
   },
   "id": "4cd50a291c95be6d"
  },
  {
   "cell_type": "code",
   "execution_count": null,
   "outputs": [],
   "source": [
    "import re\n",
    "import pandas as pd\n",
    "\n",
    "\n",
    "def _transform_column_names_to_snake_case(df: pd.DataFrame) -> pd.DataFrame:\n",
    "    df.columns = [\n",
    "        re.sub(r\"(?<!^)(?=[A-Z])\", \"_\", col.replace(\"NHTSA\", \"nhtsa\"))\n",
    "        .replace(\"-\", \"_\")\n",
    "        .lower()\n",
    "        for col in df.columns\n",
    "    ]\n",
    "    return df"
   ],
   "metadata": {
    "collapsed": false
   },
   "id": "322f88ad19d3ff58"
  },
  {
   "cell_type": "code",
   "execution_count": null,
   "outputs": [],
   "source": [
    "df = _transform_column_names_to_snake_case(df)\n",
    "\n",
    "df"
   ],
   "metadata": {
    "collapsed": false
   },
   "id": "fc042f84a81097d6"
  },
  {
   "cell_type": "markdown",
   "source": [
    "### TEST FOR WHOLE EXECUTION"
   ],
   "metadata": {
    "collapsed": false
   },
   "id": "8170f191f0a205c4"
  },
  {
   "cell_type": "code",
   "execution_count": 1,
   "outputs": [
    {
     "name": "stdout",
     "output_type": "stream",
     "text": [
      "[('nhtsa_safety_rating_20241026',), ('nhtsa_safety_rating_20241027',), ('data',)]\n"
     ]
    }
   ],
   "source": [
    "from src.helpers.db_connector import DBConnector\n",
    "\n",
    "formatted_db_connector = DBConnector()\n",
    "trusted_db_connector = DBConnector()\n",
    "\n",
    "from src.formatted.json import JSONFormatted\n",
    "\n",
    "json_formatted = JSONFormatted(\n",
    "    persistent_folder=r\"C:\\Users\\ferra\\PycharmProjects\\adsdb-project\\data\\landing\\persistent\",\n",
    "    formatted_db_connector=formatted_db_connector,\n",
    ")\n",
    "\n",
    "json_formatted.execute()\n",
    "print(formatted_db_connector.get_tables())\n",
    "from src.trusted.nhtsa_safety_rating import NHTSASafetyRating\n",
    "\n",
    "trusted = NHTSASafetyRating(\n",
    "    formatted_db_connector=formatted_db_connector,\n",
    "    trusted_db_connector=trusted_db_connector,\n",
    ")"
   ],
   "metadata": {
    "collapsed": false,
    "ExecuteTime": {
     "end_time": "2024-10-27T14:11:14.545159200Z",
     "start_time": "2024-10-27T14:11:13.987400800Z"
    }
   },
   "id": "d4ae54c1fb6eb8d7"
  },
  {
   "cell_type": "code",
   "execution_count": 2,
   "outputs": [],
   "source": [
    "trusted.execute()"
   ],
   "metadata": {
    "collapsed": false,
    "ExecuteTime": {
     "end_time": "2024-10-27T14:11:15.009032500Z",
     "start_time": "2024-10-27T14:11:14.984986500Z"
    }
   },
   "id": "fe2eefbd03419758"
  },
  {
   "cell_type": "code",
   "execution_count": 3,
   "outputs": [],
   "source": [
    "df_trusted = trusted_db_connector.get_table_as_dataframe(\"nhtsa_safety_rating\")"
   ],
   "metadata": {
    "collapsed": false,
    "ExecuteTime": {
     "end_time": "2024-10-27T14:11:16.540301800Z",
     "start_time": "2024-10-27T14:11:16.538484Z"
    }
   },
   "id": "73eef3456cccb6ca"
  },
  {
   "cell_type": "code",
   "execution_count": 4,
   "outputs": [
    {
     "data": {
      "text/plain": "       make                    model  model_year  overall_rating\n0      AUDI                       A3        2011            4.00\n1      AUDI                       A4        2011            4.00\n2      AUDI                 A4 AVANT        2011            4.00\n3      AUDI                 S4 AVANT        2011            4.00\n4      AUDI             A5 CABRIOLET        2011            4.00\n5      AUDI             S5 CABRIOLET        2011            4.00\n6      AUDI                 A5 COUPE        2011            4.00\n7      AUDI                 S5 COUPE        2011            4.00\n8      AUDI                       A6        2011            4.00\n9      AUDI                 A6 AVANT        2011            4.00\n10     AUDI                 S6 AVANT        2011            4.00\n11     AUDI                       A8        2011            4.00\n12     AUDI                       Q5        2011            4.00\n13     AUDI                       Q7        2011            4.00\n14     AUDI                 R8 COUPE        2011            4.00\n15     AUDI                R8 SPYDER        2011            4.00\n16     AUDI                 TT COUPE        2011            4.00\n17     AUDI              TT ROADSTER        2011            4.00\n18  BENTLEY  CONTINENTAL FLYING SPUR        2011             NaN\n19  BENTLEY           CONTINENTAL GT        2011             NaN\n20  BENTLEY          CONTINENTAL GTC        2011             NaN\n21  BENTLEY  CONTINENTAL SUPERSPORTS        2011             NaN\n22  BENTLEY                 MULSANNE        2011             NaN\n23  BENTLEY  SUPERSPORTS CONVERTIBLE        2011             NaN\n24      BMW           535I XDRIVE GT        2011            5.00\n25      BMW              535I XDRIVE        2011            5.00\n26      BMW           550I XDRIVE GT        2011            5.00\n27      BMW              550I XDRIVE        2011            5.00\n28      BMW             X3 XDRIVE28I        2011            4.75\n29      BMW             X3 XDRIVE35I        2011            4.75\n30      BMW                     128I        2011            4.75\n31      BMW                     128I        2011            4.75\n32      BMW                     135I        2011            4.75\n33      BMW                     135I        2011            4.75\n34      BMW                     328I        2011            5.00\n35      BMW                     328I        2011            5.00\n36      BMW                     328I        2011            4.00\n37      BMW                     328I        2011            4.00",
      "text/html": "<div>\n<style scoped>\n    .dataframe tbody tr th:only-of-type {\n        vertical-align: middle;\n    }\n\n    .dataframe tbody tr th {\n        vertical-align: top;\n    }\n\n    .dataframe thead th {\n        text-align: right;\n    }\n</style>\n<table border=\"1\" class=\"dataframe\">\n  <thead>\n    <tr style=\"text-align: right;\">\n      <th></th>\n      <th>make</th>\n      <th>model</th>\n      <th>model_year</th>\n      <th>overall_rating</th>\n    </tr>\n  </thead>\n  <tbody>\n    <tr>\n      <th>0</th>\n      <td>AUDI</td>\n      <td>A3</td>\n      <td>2011</td>\n      <td>4.00</td>\n    </tr>\n    <tr>\n      <th>1</th>\n      <td>AUDI</td>\n      <td>A4</td>\n      <td>2011</td>\n      <td>4.00</td>\n    </tr>\n    <tr>\n      <th>2</th>\n      <td>AUDI</td>\n      <td>A4 AVANT</td>\n      <td>2011</td>\n      <td>4.00</td>\n    </tr>\n    <tr>\n      <th>3</th>\n      <td>AUDI</td>\n      <td>S4 AVANT</td>\n      <td>2011</td>\n      <td>4.00</td>\n    </tr>\n    <tr>\n      <th>4</th>\n      <td>AUDI</td>\n      <td>A5 CABRIOLET</td>\n      <td>2011</td>\n      <td>4.00</td>\n    </tr>\n    <tr>\n      <th>5</th>\n      <td>AUDI</td>\n      <td>S5 CABRIOLET</td>\n      <td>2011</td>\n      <td>4.00</td>\n    </tr>\n    <tr>\n      <th>6</th>\n      <td>AUDI</td>\n      <td>A5 COUPE</td>\n      <td>2011</td>\n      <td>4.00</td>\n    </tr>\n    <tr>\n      <th>7</th>\n      <td>AUDI</td>\n      <td>S5 COUPE</td>\n      <td>2011</td>\n      <td>4.00</td>\n    </tr>\n    <tr>\n      <th>8</th>\n      <td>AUDI</td>\n      <td>A6</td>\n      <td>2011</td>\n      <td>4.00</td>\n    </tr>\n    <tr>\n      <th>9</th>\n      <td>AUDI</td>\n      <td>A6 AVANT</td>\n      <td>2011</td>\n      <td>4.00</td>\n    </tr>\n    <tr>\n      <th>10</th>\n      <td>AUDI</td>\n      <td>S6 AVANT</td>\n      <td>2011</td>\n      <td>4.00</td>\n    </tr>\n    <tr>\n      <th>11</th>\n      <td>AUDI</td>\n      <td>A8</td>\n      <td>2011</td>\n      <td>4.00</td>\n    </tr>\n    <tr>\n      <th>12</th>\n      <td>AUDI</td>\n      <td>Q5</td>\n      <td>2011</td>\n      <td>4.00</td>\n    </tr>\n    <tr>\n      <th>13</th>\n      <td>AUDI</td>\n      <td>Q7</td>\n      <td>2011</td>\n      <td>4.00</td>\n    </tr>\n    <tr>\n      <th>14</th>\n      <td>AUDI</td>\n      <td>R8 COUPE</td>\n      <td>2011</td>\n      <td>4.00</td>\n    </tr>\n    <tr>\n      <th>15</th>\n      <td>AUDI</td>\n      <td>R8 SPYDER</td>\n      <td>2011</td>\n      <td>4.00</td>\n    </tr>\n    <tr>\n      <th>16</th>\n      <td>AUDI</td>\n      <td>TT COUPE</td>\n      <td>2011</td>\n      <td>4.00</td>\n    </tr>\n    <tr>\n      <th>17</th>\n      <td>AUDI</td>\n      <td>TT ROADSTER</td>\n      <td>2011</td>\n      <td>4.00</td>\n    </tr>\n    <tr>\n      <th>18</th>\n      <td>BENTLEY</td>\n      <td>CONTINENTAL FLYING SPUR</td>\n      <td>2011</td>\n      <td>NaN</td>\n    </tr>\n    <tr>\n      <th>19</th>\n      <td>BENTLEY</td>\n      <td>CONTINENTAL GT</td>\n      <td>2011</td>\n      <td>NaN</td>\n    </tr>\n    <tr>\n      <th>20</th>\n      <td>BENTLEY</td>\n      <td>CONTINENTAL GTC</td>\n      <td>2011</td>\n      <td>NaN</td>\n    </tr>\n    <tr>\n      <th>21</th>\n      <td>BENTLEY</td>\n      <td>CONTINENTAL SUPERSPORTS</td>\n      <td>2011</td>\n      <td>NaN</td>\n    </tr>\n    <tr>\n      <th>22</th>\n      <td>BENTLEY</td>\n      <td>MULSANNE</td>\n      <td>2011</td>\n      <td>NaN</td>\n    </tr>\n    <tr>\n      <th>23</th>\n      <td>BENTLEY</td>\n      <td>SUPERSPORTS CONVERTIBLE</td>\n      <td>2011</td>\n      <td>NaN</td>\n    </tr>\n    <tr>\n      <th>24</th>\n      <td>BMW</td>\n      <td>535I XDRIVE GT</td>\n      <td>2011</td>\n      <td>5.00</td>\n    </tr>\n    <tr>\n      <th>25</th>\n      <td>BMW</td>\n      <td>535I XDRIVE</td>\n      <td>2011</td>\n      <td>5.00</td>\n    </tr>\n    <tr>\n      <th>26</th>\n      <td>BMW</td>\n      <td>550I XDRIVE GT</td>\n      <td>2011</td>\n      <td>5.00</td>\n    </tr>\n    <tr>\n      <th>27</th>\n      <td>BMW</td>\n      <td>550I XDRIVE</td>\n      <td>2011</td>\n      <td>5.00</td>\n    </tr>\n    <tr>\n      <th>28</th>\n      <td>BMW</td>\n      <td>X3 XDRIVE28I</td>\n      <td>2011</td>\n      <td>4.75</td>\n    </tr>\n    <tr>\n      <th>29</th>\n      <td>BMW</td>\n      <td>X3 XDRIVE35I</td>\n      <td>2011</td>\n      <td>4.75</td>\n    </tr>\n    <tr>\n      <th>30</th>\n      <td>BMW</td>\n      <td>128I</td>\n      <td>2011</td>\n      <td>4.75</td>\n    </tr>\n    <tr>\n      <th>31</th>\n      <td>BMW</td>\n      <td>128I</td>\n      <td>2011</td>\n      <td>4.75</td>\n    </tr>\n    <tr>\n      <th>32</th>\n      <td>BMW</td>\n      <td>135I</td>\n      <td>2011</td>\n      <td>4.75</td>\n    </tr>\n    <tr>\n      <th>33</th>\n      <td>BMW</td>\n      <td>135I</td>\n      <td>2011</td>\n      <td>4.75</td>\n    </tr>\n    <tr>\n      <th>34</th>\n      <td>BMW</td>\n      <td>328I</td>\n      <td>2011</td>\n      <td>5.00</td>\n    </tr>\n    <tr>\n      <th>35</th>\n      <td>BMW</td>\n      <td>328I</td>\n      <td>2011</td>\n      <td>5.00</td>\n    </tr>\n    <tr>\n      <th>36</th>\n      <td>BMW</td>\n      <td>328I</td>\n      <td>2011</td>\n      <td>4.00</td>\n    </tr>\n    <tr>\n      <th>37</th>\n      <td>BMW</td>\n      <td>328I</td>\n      <td>2011</td>\n      <td>4.00</td>\n    </tr>\n  </tbody>\n</table>\n</div>"
     },
     "execution_count": 4,
     "metadata": {},
     "output_type": "execute_result"
    }
   ],
   "source": [
    "df_trusted"
   ],
   "metadata": {
    "collapsed": false,
    "ExecuteTime": {
     "end_time": "2024-10-27T14:11:17.152566700Z",
     "start_time": "2024-10-27T14:11:17.109953400Z"
    }
   },
   "id": "f484690c8c6a5f7d"
  }
 ],
 "metadata": {
  "kernelspec": {
   "display_name": "Python 3",
   "language": "python",
   "name": "python3"
  },
  "language_info": {
   "codemirror_mode": {
    "name": "ipython",
    "version": 2
   },
   "file_extension": ".py",
   "mimetype": "text/x-python",
   "name": "python",
   "nbconvert_exporter": "python",
   "pygments_lexer": "ipython2",
   "version": "2.7.6"
  }
 },
 "nbformat": 4,
 "nbformat_minor": 5
}
