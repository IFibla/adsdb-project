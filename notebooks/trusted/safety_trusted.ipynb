{
 "cells": [
  {
   "cell_type": "code",
   "execution_count": null,
   "id": "initial_id",
   "metadata": {
    "collapsed": true
   },
   "outputs": [],
   "source": [
    "def execute(self):\n",
    "    tables_names = self._list_tables()\n",
    "    df = self._join_all_versions(tables_names)\n",
    "    df = self._transform_column_names_to_snake_case(df)\n",
    "    df = self._drop_insignificant_columns(df)\n",
    "    df = self._clean_duplicates(df)\n",
    "    df = self._correct_misspellings(df)\n",
    "    df = self._format_data(df)\n",
    "    df = self._handle_missing_values(df)\n",
    "    self.trusted_db_connector.insert_data(self._get_trusted_table_name(), df)"
   ]
  },
  {
   "cell_type": "code",
   "execution_count": null,
   "outputs": [],
   "source": [
    "from src.helpers.db_connector import DBConnector\n",
    "\n",
    "formatted_db_connector = DBConnector()\n",
    "trusted_db_connector = DBConnector()"
   ],
   "metadata": {
    "collapsed": false
   },
   "id": "140940bae5dc2d3c"
  },
  {
   "cell_type": "code",
   "execution_count": null,
   "outputs": [],
   "source": [
    "from src.formatted.json import JSONFormatted\n",
    "\n",
    "json_formatted = JSONFormatted(\n",
    "    persistent_folder=r\"C:\\Users\\ferra\\PycharmProjects\\adsdb-project\\data\\landing\\persistent\",\n",
    "    formatted_db_connector=formatted_db_connector,\n",
    ")\n",
    "\n",
    "json_formatted.execute()"
   ],
   "metadata": {
    "collapsed": false
   },
   "id": "8e68c1a9171f444b"
  },
  {
   "cell_type": "code",
   "execution_count": null,
   "outputs": [],
   "source": [
    "print(formatted_db_connector.get_tables())"
   ],
   "metadata": {
    "collapsed": false
   },
   "id": "d16a9be6801f130e"
  },
  {
   "cell_type": "code",
   "execution_count": null,
   "outputs": [],
   "source": [
    "from src.trusted.nhtsa_safety_rating import NHTSASafetyRating\n",
    "\n",
    "trusted = NHTSASafetyRating(\n",
    "    formatted_db_connector=formatted_db_connector,\n",
    "    trusted_db_connector=trusted_db_connector,\n",
    ")"
   ],
   "metadata": {
    "collapsed": false
   },
   "id": "e92186c1d380a9af"
  },
  {
   "cell_type": "code",
   "execution_count": null,
   "outputs": [],
   "source": [
    "print(\n",
    "    formatted_db_connector.execute_query(\n",
    "        \"\"\"SELECT * from nhtsa_safety_rating_20241026\"\"\"\n",
    "    )\n",
    ")"
   ],
   "metadata": {
    "collapsed": false
   },
   "id": "8093bba32012f4fd"
  },
  {
   "cell_type": "code",
   "execution_count": null,
   "outputs": [],
   "source": [
    "df = formatted_db_connector.get_table_as_dataframe(\n",
    "    table_name=\"nhtsa_safety_rating_20241026\"\n",
    ")\n",
    "\n",
    "df"
   ],
   "metadata": {
    "collapsed": false
   },
   "id": "941be1a6fd154466"
  },
  {
   "cell_type": "code",
   "execution_count": null,
   "outputs": [],
   "source": [
    "formatted_db_connector.get_tables()"
   ],
   "metadata": {
    "collapsed": false
   },
   "id": "d03d4127cf84fe43"
  },
  {
   "cell_type": "code",
   "execution_count": null,
   "outputs": [],
   "source": [
    "trusted.execute()\n",
    "\n",
    "print(trusted_db_connector.get_tables())"
   ],
   "metadata": {
    "collapsed": false
   },
   "id": "3b518dfadd07de42"
  },
  {
   "cell_type": "code",
   "execution_count": null,
   "outputs": [],
   "source": [
    "print(df.columns)"
   ],
   "metadata": {
    "collapsed": false
   },
   "id": "4cd50a291c95be6d"
  },
  {
   "cell_type": "code",
   "execution_count": null,
   "outputs": [],
   "source": [
    "import re\n",
    "import pandas as pd\n",
    "\n",
    "\n",
    "def _transform_column_names_to_snake_case(df: pd.DataFrame) -> pd.DataFrame:\n",
    "    df.columns = [\n",
    "        re.sub(r\"(?<!^)(?=[A-Z])\", \"_\", col.replace(\"NHTSA\", \"nhtsa\"))\n",
    "        .replace(\"-\", \"_\")\n",
    "        .lower()\n",
    "        for col in df.columns\n",
    "    ]\n",
    "    return df"
   ],
   "metadata": {
    "collapsed": false
   },
   "id": "322f88ad19d3ff58"
  },
  {
   "cell_type": "code",
   "execution_count": null,
   "outputs": [],
   "source": [
    "df = _transform_column_names_to_snake_case(df)\n",
    "\n",
    "df"
   ],
   "metadata": {
    "collapsed": false
   },
   "id": "fc042f84a81097d6"
  },
  {
   "cell_type": "markdown",
   "source": [
    "### TEST FOR WHOLE EXECUTION"
   ],
   "metadata": {
    "collapsed": false
   },
   "id": "8170f191f0a205c4"
  },
  {
   "cell_type": "code",
   "execution_count": null,
   "outputs": [],
   "source": [
    "from src.helpers.db_connector import DBConnector\n",
    "\n",
    "formatted_db_connector = DBConnector()\n",
    "trusted_db_connector = DBConnector()\n",
    "\n",
    "from src.formatted.json import JSONFormatted\n",
    "\n",
    "json_formatted = JSONFormatted(\n",
    "    persistent_folder=r\"C:\\Users\\ferra\\PycharmProjects\\adsdb-project\\data\\landing\\persistent\",\n",
    "    formatted_db_connector=formatted_db_connector,\n",
    ")\n",
    "\n",
    "json_formatted.execute()\n",
    "print(formatted_db_connector.get_tables())\n",
    "from src.trusted.nhtsa_safety_rating import NHTSASafetyRating\n",
    "\n",
    "trusted = NHTSASafetyRating(\n",
    "    formatted_db_connector=formatted_db_connector,\n",
    "    trusted_db_connector=trusted_db_connector,\n",
    ")"
   ],
   "metadata": {
    "collapsed": false
   },
   "id": "d4ae54c1fb6eb8d7"
  },
  {
   "cell_type": "code",
   "execution_count": null,
   "outputs": [],
   "source": [
    "trusted.execute()"
   ],
   "metadata": {
    "collapsed": false
   },
   "id": "fe2eefbd03419758"
  },
  {
   "cell_type": "code",
   "execution_count": null,
   "outputs": [],
   "source": [
    "df_trusted = trusted_db_connector.get_table_as_dataframe(\"nhtsa_safety_rating\")"
   ],
   "metadata": {
    "collapsed": false
   },
   "id": "73eef3456cccb6ca"
  },
  {
   "cell_type": "code",
   "execution_count": null,
   "outputs": [],
   "source": [
    "df_trusted"
   ],
   "metadata": {
    "collapsed": false
   },
   "id": "f484690c8c6a5f7d"
  }
 ],
 "metadata": {
  "kernelspec": {
   "display_name": "Python 3",
   "language": "python",
   "name": "python3"
  },
  "language_info": {
   "codemirror_mode": {
    "name": "ipython",
    "version": 2
   },
   "file_extension": ".py",
   "mimetype": "text/x-python",
   "name": "python",
   "nbconvert_exporter": "python",
   "pygments_lexer": "ipython2",
   "version": "2.7.6"
  }
 },
 "nbformat": 4,
 "nbformat_minor": 5
}
