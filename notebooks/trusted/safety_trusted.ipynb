{
 "cells": [
  {
   "cell_type": "code",
   "execution_count": null,
   "id": "initial_id",
   "metadata": {
    "collapsed": true
   },
   "outputs": [],
   "source": [
    "def execute(self):\n",
    "    tables_names = self._list_tables()\n",
    "    df = self._join_all_versions(tables_names)\n",
    "    df = self._transform_column_names_to_snake_case(df)\n",
    "    df = self._drop_insignificant_columns(df)\n",
    "    df = self._clean_duplicates(df)\n",
    "    df = self._correct_misspellings(df)\n",
    "    df = self._format_data(df)\n",
    "    df = self._handle_missing_values(df)\n",
    "    self.trusted_db_connector.insert_data(self._get_trusted_table_name(), df)\n"
   ]
  },
  {
   "cell_type": "code",
   "execution_count": 1,
   "outputs": [],
   "source": [
    "from src.helpers.db_connector import DBConnector\n",
    "\n",
    "formatted_db_connector = DBConnector()\n",
    "trusted_db_connector = DBConnector()"
   ],
   "metadata": {
    "collapsed": false,
    "ExecuteTime": {
     "end_time": "2024-10-26T18:00:29.023106100Z",
     "start_time": "2024-10-26T18:00:28.667584900Z"
    }
   },
   "id": "140940bae5dc2d3c"
  },
  {
   "cell_type": "code",
   "execution_count": 2,
   "outputs": [],
   "source": [
    "from src.formatted.json import JSONFormatted\n",
    "\n",
    "json_formatted = JSONFormatted(\n",
    "    persistent_folder=r\"C:\\Users\\ferra\\PycharmProjects\\adsdb-project\\data\\landing\\persistent\",\n",
    "    formatted_db_connector=formatted_db_connector\n",
    ")\n",
    "\n",
    "json_formatted.execute()"
   ],
   "metadata": {
    "collapsed": false,
    "ExecuteTime": {
     "end_time": "2024-10-26T18:00:29.058408100Z",
     "start_time": "2024-10-26T18:00:29.023106100Z"
    }
   },
   "id": "8e68c1a9171f444b"
  },
  {
   "cell_type": "code",
   "execution_count": 3,
   "outputs": [
    {
     "name": "stdout",
     "output_type": "stream",
     "text": [
      "[('nhtsa_safety_rating_20241026',), ('data',)]\n"
     ]
    }
   ],
   "source": [
    "print(formatted_db_connector.get_tables())"
   ],
   "metadata": {
    "collapsed": false,
    "ExecuteTime": {
     "end_time": "2024-10-26T18:00:29.682029Z",
     "start_time": "2024-10-26T18:00:29.647886800Z"
    }
   },
   "id": "d16a9be6801f130e"
  },
  {
   "cell_type": "code",
   "execution_count": 4,
   "outputs": [],
   "source": [
    "from src.trusted.nhtsa_safety_rating import NHTSASafetyRating\n",
    "\n",
    "trusted = NHTSASafetyRating(\n",
    "    formatted_db_connector=formatted_db_connector, \n",
    "    trusted_db_connector=trusted_db_connector\n",
    ")\n"
   ],
   "metadata": {
    "collapsed": false,
    "ExecuteTime": {
     "end_time": "2024-10-26T18:00:30.191539100Z",
     "start_time": "2024-10-26T18:00:30.185211100Z"
    }
   },
   "id": "e92186c1d380a9af"
  },
  {
   "cell_type": "code",
   "execution_count": 5,
   "outputs": [
    {
     "name": "stdout",
     "output_type": "stream",
     "text": [
      "[('https://static.nhtsa.gov/images/vehicles/7284_st0640_046.png', 'Not Rated', 'Not Rated', 'Not Rated', 'Not Rated', 'Not Rated', 'Not Rated', 'Not Rated', 'Not Rated', 'Not Rated', 'Not Rated', 'Not Rated', 'Not Rated', 0.0, 0.0, ' ', 'Not Rated', 'Standard', 'No', 'No', 42, 4, 2, 2011, 'AUDI', 'A3', '2011 Audi A3 4 DR FWD', 1, None, None, None, None, None, None), ('https://static.nhtsa.gov/images/vehicles/7285_st0640_046.png', '4', '4', '3', '4', '5', '4', '5', '4', '5', '5', '5', 'Not Rated', 0.099, 0.0, 'No Tip', '5', 'Standard', 'No', 'No', 32, 0, 0, 2011, 'AUDI', 'A4', '2011 Audi A4 4 DR FWD', 2, 'https://static.nhtsa.gov/crashTest/images/2011/v07027P074.jpg', 'https://static.nhtsa.gov/crashTest/videos/2011/v07027C020.wmv', 'https://static.nhtsa.gov/crashTest/images/2011/v07028P098.jpg', 'https://static.nhtsa.gov/crashTest/videos/2011/v07028C011.wmv', 'https://static.nhtsa.gov/crashTest/images/2011/v07033P002.jpg', 'https://static.nhtsa.gov/crashTest/videos/2011/v07033C014.wmv'), ('https://static.nhtsa.gov/images/vehicles/6959_st0640_046.png', '4', '4', '3', '4', '5', '4', '5', '4', '5', '5', '5', 'Not Rated', 0.099, 0.0, 'No Tip', '5', 'Standard', 'No', 'No', 33, 0, 0, 2011, 'AUDI', 'A4 AVANT', '2011 Audi A4 Avant SW AWD', 4, None, None, None, None, None, None), ('https://static.nhtsa.gov/images/vehicles/6949_st0640_046.png', '4', '4', '3', '4', '5', '4', '5', '4', '5', '5', '5', 'Not Rated', 0.099, 0.0, 'No Tip', '5', 'Standard', 'No', 'No', 26, 1, 0, 2011, 'AUDI', 'S4 AVANT', '2011 Audi S4 Avant SW AWD', 5, None, None, None, None, None, None), ('https://static.nhtsa.gov/images/vehicles/6836_st0640_046.png', 'Not Rated', 'Not Rated', 'Not Rated', 'Not Rated', 'Not Rated', 'Not Rated', 'Not Rated', 'Not Rated', 'Not Rated', 'Not Rated', 'Not Rated', 'Not Rated', 0.0, 0.0, ' ', 'Not Rated', 'Standard', 'No', 'No', 38, 2, 0, 2011, 'AUDI', 'A5 CABRIOLET', '2011 Audi A5 Cabriolet C FWD', 6, None, None, None, None, None, None)]\n"
     ]
    }
   ],
   "source": [
    "print(formatted_db_connector.execute_query(\"\"\"SELECT * from nhtsa_safety_rating_20241026\"\"\"))"
   ],
   "metadata": {
    "collapsed": false,
    "ExecuteTime": {
     "end_time": "2024-10-26T18:00:30.735950200Z",
     "start_time": "2024-10-26T18:00:30.731898100Z"
    }
   },
   "id": "8093bba32012f4fd"
  },
  {
   "cell_type": "code",
   "execution_count": 7,
   "outputs": [
    {
     "data": {
      "text/plain": "                                      VehiclePicture OverallRating  \\\n0  https://static.nhtsa.gov/images/vehicles/7284_...     Not Rated   \n1  https://static.nhtsa.gov/images/vehicles/7285_...             4   \n2  https://static.nhtsa.gov/images/vehicles/6959_...             4   \n3  https://static.nhtsa.gov/images/vehicles/6949_...             4   \n4  https://static.nhtsa.gov/images/vehicles/6836_...     Not Rated   \n\n  OverallFrontCrashRating FrontCrashDriversideRating  \\\n0               Not Rated                  Not Rated   \n1                       4                          3   \n2                       4                          3   \n3                       4                          3   \n4               Not Rated                  Not Rated   \n\n  FrontCrashPassengersideRating OverallSideCrashRating  \\\n0                     Not Rated              Not Rated   \n1                             4                      5   \n2                             4                      5   \n3                             4                      5   \n4                     Not Rated              Not Rated   \n\n  SideCrashDriversideRating SideCrashPassengersideRating  \\\n0                 Not Rated                    Not Rated   \n1                         4                            5   \n2                         4                            5   \n3                         4                            5   \n4                 Not Rated                    Not Rated   \n\n  combinedSideBarrierAndPoleRating-Front  \\\n0                              Not Rated   \n1                                      4   \n2                                      4   \n3                                      4   \n4                              Not Rated   \n\n  combinedSideBarrierAndPoleRating-Rear  ...  Make         Model  \\\n0                             Not Rated  ...  AUDI            A3   \n1                                     5  ...  AUDI            A4   \n2                                     5  ...  AUDI      A4 AVANT   \n3                                     5  ...  AUDI      S4 AVANT   \n4                             Not Rated  ...  AUDI  A5 CABRIOLET   \n\n             VehicleDescription  VehicleId  \\\n0         2011 Audi A3 4 DR FWD          1   \n1         2011 Audi A4 4 DR FWD          2   \n2     2011 Audi A4 Avant SW AWD          4   \n3     2011 Audi S4 Avant SW AWD          5   \n4  2011 Audi A5 Cabriolet C FWD          6   \n\n                                   FrontCrashPicture  \\\n0                                               None   \n1  https://static.nhtsa.gov/crashTest/images/2011...   \n2                                               None   \n3                                               None   \n4                                               None   \n\n                                     FrontCrashVideo  \\\n0                                               None   \n1  https://static.nhtsa.gov/crashTest/videos/2011...   \n2                                               None   \n3                                               None   \n4                                               None   \n\n                                    SideCrashPicture  \\\n0                                               None   \n1  https://static.nhtsa.gov/crashTest/images/2011...   \n2                                               None   \n3                                               None   \n4                                               None   \n\n                                      SideCrashVideo  \\\n0                                               None   \n1  https://static.nhtsa.gov/crashTest/videos/2011...   \n2                                               None   \n3                                               None   \n4                                               None   \n\n                                     SidePolePicture  \\\n0                                               None   \n1  https://static.nhtsa.gov/crashTest/images/2011...   \n2                                               None   \n3                                               None   \n4                                               None   \n\n                                       SidePoleVideo  \n0                                               None  \n1  https://static.nhtsa.gov/crashTest/videos/2011...  \n2                                               None  \n3                                               None  \n4                                               None  \n\n[5 rows x 34 columns]",
      "text/html": "<div>\n<style scoped>\n    .dataframe tbody tr th:only-of-type {\n        vertical-align: middle;\n    }\n\n    .dataframe tbody tr th {\n        vertical-align: top;\n    }\n\n    .dataframe thead th {\n        text-align: right;\n    }\n</style>\n<table border=\"1\" class=\"dataframe\">\n  <thead>\n    <tr style=\"text-align: right;\">\n      <th></th>\n      <th>VehiclePicture</th>\n      <th>OverallRating</th>\n      <th>OverallFrontCrashRating</th>\n      <th>FrontCrashDriversideRating</th>\n      <th>FrontCrashPassengersideRating</th>\n      <th>OverallSideCrashRating</th>\n      <th>SideCrashDriversideRating</th>\n      <th>SideCrashPassengersideRating</th>\n      <th>combinedSideBarrierAndPoleRating-Front</th>\n      <th>combinedSideBarrierAndPoleRating-Rear</th>\n      <th>...</th>\n      <th>Make</th>\n      <th>Model</th>\n      <th>VehicleDescription</th>\n      <th>VehicleId</th>\n      <th>FrontCrashPicture</th>\n      <th>FrontCrashVideo</th>\n      <th>SideCrashPicture</th>\n      <th>SideCrashVideo</th>\n      <th>SidePolePicture</th>\n      <th>SidePoleVideo</th>\n    </tr>\n  </thead>\n  <tbody>\n    <tr>\n      <th>0</th>\n      <td>https://static.nhtsa.gov/images/vehicles/7284_...</td>\n      <td>Not Rated</td>\n      <td>Not Rated</td>\n      <td>Not Rated</td>\n      <td>Not Rated</td>\n      <td>Not Rated</td>\n      <td>Not Rated</td>\n      <td>Not Rated</td>\n      <td>Not Rated</td>\n      <td>Not Rated</td>\n      <td>...</td>\n      <td>AUDI</td>\n      <td>A3</td>\n      <td>2011 Audi A3 4 DR FWD</td>\n      <td>1</td>\n      <td>None</td>\n      <td>None</td>\n      <td>None</td>\n      <td>None</td>\n      <td>None</td>\n      <td>None</td>\n    </tr>\n    <tr>\n      <th>1</th>\n      <td>https://static.nhtsa.gov/images/vehicles/7285_...</td>\n      <td>4</td>\n      <td>4</td>\n      <td>3</td>\n      <td>4</td>\n      <td>5</td>\n      <td>4</td>\n      <td>5</td>\n      <td>4</td>\n      <td>5</td>\n      <td>...</td>\n      <td>AUDI</td>\n      <td>A4</td>\n      <td>2011 Audi A4 4 DR FWD</td>\n      <td>2</td>\n      <td>https://static.nhtsa.gov/crashTest/images/2011...</td>\n      <td>https://static.nhtsa.gov/crashTest/videos/2011...</td>\n      <td>https://static.nhtsa.gov/crashTest/images/2011...</td>\n      <td>https://static.nhtsa.gov/crashTest/videos/2011...</td>\n      <td>https://static.nhtsa.gov/crashTest/images/2011...</td>\n      <td>https://static.nhtsa.gov/crashTest/videos/2011...</td>\n    </tr>\n    <tr>\n      <th>2</th>\n      <td>https://static.nhtsa.gov/images/vehicles/6959_...</td>\n      <td>4</td>\n      <td>4</td>\n      <td>3</td>\n      <td>4</td>\n      <td>5</td>\n      <td>4</td>\n      <td>5</td>\n      <td>4</td>\n      <td>5</td>\n      <td>...</td>\n      <td>AUDI</td>\n      <td>A4 AVANT</td>\n      <td>2011 Audi A4 Avant SW AWD</td>\n      <td>4</td>\n      <td>None</td>\n      <td>None</td>\n      <td>None</td>\n      <td>None</td>\n      <td>None</td>\n      <td>None</td>\n    </tr>\n    <tr>\n      <th>3</th>\n      <td>https://static.nhtsa.gov/images/vehicles/6949_...</td>\n      <td>4</td>\n      <td>4</td>\n      <td>3</td>\n      <td>4</td>\n      <td>5</td>\n      <td>4</td>\n      <td>5</td>\n      <td>4</td>\n      <td>5</td>\n      <td>...</td>\n      <td>AUDI</td>\n      <td>S4 AVANT</td>\n      <td>2011 Audi S4 Avant SW AWD</td>\n      <td>5</td>\n      <td>None</td>\n      <td>None</td>\n      <td>None</td>\n      <td>None</td>\n      <td>None</td>\n      <td>None</td>\n    </tr>\n    <tr>\n      <th>4</th>\n      <td>https://static.nhtsa.gov/images/vehicles/6836_...</td>\n      <td>Not Rated</td>\n      <td>Not Rated</td>\n      <td>Not Rated</td>\n      <td>Not Rated</td>\n      <td>Not Rated</td>\n      <td>Not Rated</td>\n      <td>Not Rated</td>\n      <td>Not Rated</td>\n      <td>Not Rated</td>\n      <td>...</td>\n      <td>AUDI</td>\n      <td>A5 CABRIOLET</td>\n      <td>2011 Audi A5 Cabriolet C FWD</td>\n      <td>6</td>\n      <td>None</td>\n      <td>None</td>\n      <td>None</td>\n      <td>None</td>\n      <td>None</td>\n      <td>None</td>\n    </tr>\n  </tbody>\n</table>\n<p>5 rows × 34 columns</p>\n</div>"
     },
     "execution_count": 7,
     "metadata": {},
     "output_type": "execute_result"
    }
   ],
   "source": [
    "df = formatted_db_connector.get_table_as_dataframe(table_name=\"nhtsa_safety_rating_20241026\")\n",
    "\n",
    "df"
   ],
   "metadata": {
    "collapsed": false,
    "ExecuteTime": {
     "end_time": "2024-10-26T18:00:35.443737600Z",
     "start_time": "2024-10-26T18:00:35.430030300Z"
    }
   },
   "id": "941be1a6fd154466"
  },
  {
   "cell_type": "code",
   "execution_count": null,
   "outputs": [],
   "source": [
    "import pandas as pd\n",
    "\n",
    "\n",
    "def clean_duplicates(df: pd.DataFrame) -> pd.DataFrame:\n",
    "    df = df.drop_duplicates(\"vehicle_id\")\n",
    "    return df.reset_index()\n",
    "\n",
    "clean_duplicates()"
   ],
   "metadata": {
    "collapsed": false
   },
   "id": "d03d4127cf84fe43"
  }
 ],
 "metadata": {
  "kernelspec": {
   "display_name": "Python 3",
   "language": "python",
   "name": "python3"
  },
  "language_info": {
   "codemirror_mode": {
    "name": "ipython",
    "version": 2
   },
   "file_extension": ".py",
   "mimetype": "text/x-python",
   "name": "python",
   "nbconvert_exporter": "python",
   "pygments_lexer": "ipython2",
   "version": "2.7.6"
  }
 },
 "nbformat": 4,
 "nbformat_minor": 5
}
