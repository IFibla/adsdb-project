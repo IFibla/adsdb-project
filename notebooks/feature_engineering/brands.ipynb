{
 "cells": [
  {
   "cell_type": "code",
   "id": "initial_id",
   "metadata": {
    "collapsed": true,
    "ExecuteTime": {
     "end_time": "2024-12-08T17:16:19.878134Z",
     "start_time": "2024-12-08T17:16:15.555609Z"
    }
   },
   "source": [
    "from src.embeddings.car_make import CarMakeEmbedding\n",
    "from datetime import date\n",
    "import pandas as pd"
   ],
   "outputs": [],
   "execution_count": 1
  },
  {
   "metadata": {
    "ExecuteTime": {
     "end_time": "2024-12-08T17:16:19.902830Z",
     "start_time": "2024-12-08T17:16:19.887445Z"
    }
   },
   "cell_type": "code",
   "source": "",
   "id": "b4e4128b9b2562c4",
   "outputs": [],
   "execution_count": 2
  },
  {
   "metadata": {},
   "cell_type": "markdown",
   "source": [
    "## Analytical sandbox\n",
    "\n",
    "We read the dataset with the following columns:\n",
    "'person_id', 'person_age', 'person_sex', 'vehicle_make', 'vehicle_year', 'overall_rating'\n",
    "From these columns and as we want to analyze the vehicle safety rating, we will delete the information related to the driver, so we will delete 'person_id', 'person_age', 'person_sex'. More specifically, we will try to find a relation between makes + years ~ safety. Looking for a pattern in this variables and computing clustering or regressions. "
   ],
   "id": "b4549e0e31bae7d2"
  },
  {
   "metadata": {
    "ExecuteTime": {
     "end_time": "2024-12-08T17:20:10.761545Z",
     "start_time": "2024-12-08T17:20:10.750688Z"
    }
   },
   "cell_type": "code",
   "source": [
    "df = pd.read_csv(\n",
    "    \"/Users/ignasi/Documents/_03_MDS_/_01_ADSDB_/ui/sample_tables/mvc_safety_rating_by_accidents.csv\"\n",
    ")\n",
    "df = df[[\"vehicle_make\", \"vehicle_year\", \"overall_rating\"]]"
   ],
   "id": "9a02cac56154a8fa",
   "outputs": [],
   "execution_count": 4
  },
  {
   "metadata": {},
   "cell_type": "markdown",
   "source": "## Feature engineering",
   "id": "c349d23b5a9b6617"
  },
  {
   "metadata": {
    "ExecuteTime": {
     "end_time": "2024-12-08T17:15:39.837433Z",
     "start_time": "2024-12-07T17:54:59.897168Z"
    }
   },
   "cell_type": "code",
   "source": [
    "df[\"vehicle_age\"] = date.today().year - df[\"vehicle_year\"]\n",
    "df[\"norm_overall_rating\"] = df[\"overall_rating\"] / 5"
   ],
   "id": "8220dc82ea454df8",
   "outputs": [],
   "execution_count": 41
  },
  {
   "metadata": {
    "ExecuteTime": {
     "end_time": "2024-12-07T17:55:00.502449Z",
     "start_time": "2024-12-07T17:55:00.038321Z"
    }
   },
   "cell_type": "code",
   "source": [
    "df[\"vehicle_make_embedding\"] = df[\"vehicle_make\"].apply(lambda x: cme.execute(x)[0])\n",
    "make_df = pd.DataFrame(\n",
    "    df[\"vehicle_make_embedding\"].tolist(),\n",
    "    columns=[f\"make_{i}\" for i in range(len(df[\"vehicle_make_embedding\"][0]))],\n",
    ")\n",
    "df = pd.concat([df.drop(columns=[\"vehicle_make_embedding\"]), make_df], axis=1)\n",
    "df.dropna(inplace=True)"
   ],
   "id": "6a65560daee7ac57",
   "outputs": [],
   "execution_count": 42
  },
  {
   "metadata": {
    "ExecuteTime": {
     "end_time": "2024-12-07T17:55:00.508416Z",
     "start_time": "2024-12-07T17:55:00.505849Z"
    }
   },
   "cell_type": "code",
   "source": [
    "df = df[[f\"make_{i}\" for i in range(10)] + [\"vehicle_age\", \"overall_rating\"]]"
   ],
   "id": "462cdff557f43e8d",
   "outputs": [],
   "execution_count": 43
  },
  {
   "metadata": {
    "ExecuteTime": {
     "end_time": "2024-12-07T17:55:00.519561Z",
     "start_time": "2024-12-07T17:55:00.517089Z"
    }
   },
   "cell_type": "code",
   "source": [
    "X, y = df[[f\"make_{i}\" for i in range(10)] + [\"vehicle_age\"]], df[\"overall_rating\"]"
   ],
   "id": "bcd4029705381d0d",
   "outputs": [],
   "execution_count": 44
  },
  {
   "metadata": {
    "ExecuteTime": {
     "end_time": "2024-12-07T17:55:00.696502Z",
     "start_time": "2024-12-07T17:55:00.674655Z"
    }
   },
   "cell_type": "code",
   "source": [
    "import numpy as np\n",
    "from sklearn.linear_model import LinearRegression\n",
    "\n",
    "reg = LinearRegression().fit(X, y)\n",
    "reg.score(X, y)"
   ],
   "id": "e0b41d6b1b92301a",
   "outputs": [
    {
     "data": {
      "text/plain": [
       "0.15142865825553686"
      ]
     },
     "execution_count": 45,
     "metadata": {},
     "output_type": "execute_result"
    }
   ],
   "execution_count": 45
  },
  {
   "metadata": {
    "ExecuteTime": {
     "end_time": "2024-12-07T17:56:54.021397Z",
     "start_time": "2024-12-07T17:56:53.978425Z"
    }
   },
   "cell_type": "code",
   "source": [
    "from sklearn.linear_model import Ridge\n",
    "import numpy as np\n",
    "\n",
    "clf = Ridge(alpha=1.0)\n",
    "clf.fit(X, y)\n",
    "clf.score(X, y)"
   ],
   "id": "56b86310db67100b",
   "outputs": [
    {
     "data": {
      "text/plain": [
       "0.15137167725163359"
      ]
     },
     "execution_count": 49,
     "metadata": {},
     "output_type": "execute_result"
    }
   ],
   "execution_count": 49
  },
  {
   "metadata": {
    "ExecuteTime": {
     "end_time": "2024-12-07T17:57:35.109416Z",
     "start_time": "2024-12-07T17:57:35.072537Z"
    }
   },
   "cell_type": "code",
   "source": [
    "from sklearn import linear_model\n",
    "\n",
    "clf = linear_model.Lasso(alpha=0.1)\n",
    "clf.fit(X, y)\n",
    "clf.score(X, y)"
   ],
   "id": "c496b4e3516c38ab",
   "outputs": [
    {
     "data": {
      "text/plain": [
       "0.0719619526236357"
      ]
     },
     "execution_count": 50,
     "metadata": {},
     "output_type": "execute_result"
    }
   ],
   "execution_count": 50
  },
  {
   "metadata": {
    "ExecuteTime": {
     "end_time": "2024-12-07T17:58:14.167520Z",
     "start_time": "2024-12-07T17:58:13.937300Z"
    }
   },
   "cell_type": "code",
   "source": [
    "from sklearn.ensemble import RandomForestRegressor\n",
    "\n",
    "regr = RandomForestRegressor()\n",
    "regr.fit(X, y)\n",
    "regr.score(X, y)"
   ],
   "id": "7cdf2b899bf782a7",
   "outputs": [
    {
     "data": {
      "text/plain": [
       "0.21709028006879993"
      ]
     },
     "execution_count": 52,
     "metadata": {},
     "output_type": "execute_result"
    }
   ],
   "execution_count": 52
  },
  {
   "metadata": {},
   "cell_type": "code",
   "outputs": [],
   "execution_count": null,
   "source": "",
   "id": "167771c98c04d820"
  }
 ],
 "metadata": {
  "kernelspec": {
   "display_name": "Python 3",
   "language": "python",
   "name": "python3"
  },
  "language_info": {
   "codemirror_mode": {
    "name": "ipython",
    "version": 2
   },
   "file_extension": ".py",
   "mimetype": "text/x-python",
   "name": "python",
   "nbconvert_exporter": "python",
   "pygments_lexer": "ipython2",
   "version": "2.7.6"
  }
 },
 "nbformat": 4,
 "nbformat_minor": 5
}
