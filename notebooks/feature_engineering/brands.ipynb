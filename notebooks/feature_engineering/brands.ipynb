{
 "cells": [
  {
   "cell_type": "code",
   "id": "initial_id",
   "metadata": {
    "collapsed": true,
    "ExecuteTime": {
     "end_time": "2024-11-29T15:29:41.995768Z",
     "start_time": "2024-11-29T15:29:41.993081Z"
    }
   },
   "source": [
    "from datetime import date\n",
    "import pandas as pd\n",
    "from onnx.reference.ops.aionnxml.op_label_encoder import LabelEncoder"
   ],
   "outputs": [],
   "execution_count": 4
  },
  {
   "metadata": {
    "ExecuteTime": {
     "end_time": "2024-11-29T15:51:09.944422Z",
     "start_time": "2024-11-29T15:51:09.930233Z"
    }
   },
   "cell_type": "code",
   "source": [
    "df = pd.read_csv('/Users/ignasi/Documents/_03_MDS_/_01_ADSDB_/ui/sample_tables/mvc_safety_rating_by_accidents.csv')\n",
    "df"
   ],
   "id": "9a02cac56154a8fa",
   "outputs": [
    {
     "data": {
      "text/plain": [
       "      Unnamed: 0                             person_id  person_age person_sex  \\\n",
       "0              0  6465de8a-bdb5-40dc-bf18-dd00535eca9c          53          F   \n",
       "1              1  6465de8a-bdb5-40dc-bf18-dd00535eca9c          53          F   \n",
       "2              2  7dd41360-6fef-4563-9292-d19ac7cf70b7          24          M   \n",
       "3              3  7dd41360-6fef-4563-9292-d19ac7cf70b7          24          M   \n",
       "4              4  f8abf7e4-4724-424b-afc3-49a50dd42390          24          M   \n",
       "...          ...                                   ...         ...        ...   \n",
       "6561        6561  5e84e0d6-ab0d-4264-b344-b5dffc60f3dd          41          M   \n",
       "6562        6562  026801b4-c6a6-414c-92ca-d81925156251          41          M   \n",
       "6563        6563  90d01e14-8680-496c-bbd6-f7f8e4313550          69          F   \n",
       "6564        6564  10f43748-5177-4099-b2a6-7d69865940ba          46          F   \n",
       "6565        6565  9f291361-ee3c-4d9d-baca-eb8ccea7cc2f          46          F   \n",
       "\n",
       "     vehicle_make  vehicle_year  overall_rating  \n",
       "0           honda        2003.0        4.166667  \n",
       "1           honda        2003.0        4.000000  \n",
       "2           honda        2003.0        4.333333  \n",
       "3           honda        2003.0        4.200000  \n",
       "4           honda        2003.0        4.166667  \n",
       "...           ...           ...             ...  \n",
       "6561        honda        2002.0        4.400000  \n",
       "6562        honda        2002.0        4.800000  \n",
       "6563        dodge        2013.0        4.000000  \n",
       "6564         jeep        2016.0        5.000000  \n",
       "6565         jeep        2016.0        5.000000  \n",
       "\n",
       "[6566 rows x 7 columns]"
      ],
      "text/html": [
       "<div>\n",
       "<style scoped>\n",
       "    .dataframe tbody tr th:only-of-type {\n",
       "        vertical-align: middle;\n",
       "    }\n",
       "\n",
       "    .dataframe tbody tr th {\n",
       "        vertical-align: top;\n",
       "    }\n",
       "\n",
       "    .dataframe thead th {\n",
       "        text-align: right;\n",
       "    }\n",
       "</style>\n",
       "<table border=\"1\" class=\"dataframe\">\n",
       "  <thead>\n",
       "    <tr style=\"text-align: right;\">\n",
       "      <th></th>\n",
       "      <th>Unnamed: 0</th>\n",
       "      <th>person_id</th>\n",
       "      <th>person_age</th>\n",
       "      <th>person_sex</th>\n",
       "      <th>vehicle_make</th>\n",
       "      <th>vehicle_year</th>\n",
       "      <th>overall_rating</th>\n",
       "    </tr>\n",
       "  </thead>\n",
       "  <tbody>\n",
       "    <tr>\n",
       "      <th>0</th>\n",
       "      <td>0</td>\n",
       "      <td>6465de8a-bdb5-40dc-bf18-dd00535eca9c</td>\n",
       "      <td>53</td>\n",
       "      <td>F</td>\n",
       "      <td>honda</td>\n",
       "      <td>2003.0</td>\n",
       "      <td>4.166667</td>\n",
       "    </tr>\n",
       "    <tr>\n",
       "      <th>1</th>\n",
       "      <td>1</td>\n",
       "      <td>6465de8a-bdb5-40dc-bf18-dd00535eca9c</td>\n",
       "      <td>53</td>\n",
       "      <td>F</td>\n",
       "      <td>honda</td>\n",
       "      <td>2003.0</td>\n",
       "      <td>4.000000</td>\n",
       "    </tr>\n",
       "    <tr>\n",
       "      <th>2</th>\n",
       "      <td>2</td>\n",
       "      <td>7dd41360-6fef-4563-9292-d19ac7cf70b7</td>\n",
       "      <td>24</td>\n",
       "      <td>M</td>\n",
       "      <td>honda</td>\n",
       "      <td>2003.0</td>\n",
       "      <td>4.333333</td>\n",
       "    </tr>\n",
       "    <tr>\n",
       "      <th>3</th>\n",
       "      <td>3</td>\n",
       "      <td>7dd41360-6fef-4563-9292-d19ac7cf70b7</td>\n",
       "      <td>24</td>\n",
       "      <td>M</td>\n",
       "      <td>honda</td>\n",
       "      <td>2003.0</td>\n",
       "      <td>4.200000</td>\n",
       "    </tr>\n",
       "    <tr>\n",
       "      <th>4</th>\n",
       "      <td>4</td>\n",
       "      <td>f8abf7e4-4724-424b-afc3-49a50dd42390</td>\n",
       "      <td>24</td>\n",
       "      <td>M</td>\n",
       "      <td>honda</td>\n",
       "      <td>2003.0</td>\n",
       "      <td>4.166667</td>\n",
       "    </tr>\n",
       "    <tr>\n",
       "      <th>...</th>\n",
       "      <td>...</td>\n",
       "      <td>...</td>\n",
       "      <td>...</td>\n",
       "      <td>...</td>\n",
       "      <td>...</td>\n",
       "      <td>...</td>\n",
       "      <td>...</td>\n",
       "    </tr>\n",
       "    <tr>\n",
       "      <th>6561</th>\n",
       "      <td>6561</td>\n",
       "      <td>5e84e0d6-ab0d-4264-b344-b5dffc60f3dd</td>\n",
       "      <td>41</td>\n",
       "      <td>M</td>\n",
       "      <td>honda</td>\n",
       "      <td>2002.0</td>\n",
       "      <td>4.400000</td>\n",
       "    </tr>\n",
       "    <tr>\n",
       "      <th>6562</th>\n",
       "      <td>6562</td>\n",
       "      <td>026801b4-c6a6-414c-92ca-d81925156251</td>\n",
       "      <td>41</td>\n",
       "      <td>M</td>\n",
       "      <td>honda</td>\n",
       "      <td>2002.0</td>\n",
       "      <td>4.800000</td>\n",
       "    </tr>\n",
       "    <tr>\n",
       "      <th>6563</th>\n",
       "      <td>6563</td>\n",
       "      <td>90d01e14-8680-496c-bbd6-f7f8e4313550</td>\n",
       "      <td>69</td>\n",
       "      <td>F</td>\n",
       "      <td>dodge</td>\n",
       "      <td>2013.0</td>\n",
       "      <td>4.000000</td>\n",
       "    </tr>\n",
       "    <tr>\n",
       "      <th>6564</th>\n",
       "      <td>6564</td>\n",
       "      <td>10f43748-5177-4099-b2a6-7d69865940ba</td>\n",
       "      <td>46</td>\n",
       "      <td>F</td>\n",
       "      <td>jeep</td>\n",
       "      <td>2016.0</td>\n",
       "      <td>5.000000</td>\n",
       "    </tr>\n",
       "    <tr>\n",
       "      <th>6565</th>\n",
       "      <td>6565</td>\n",
       "      <td>9f291361-ee3c-4d9d-baca-eb8ccea7cc2f</td>\n",
       "      <td>46</td>\n",
       "      <td>F</td>\n",
       "      <td>jeep</td>\n",
       "      <td>2016.0</td>\n",
       "      <td>5.000000</td>\n",
       "    </tr>\n",
       "  </tbody>\n",
       "</table>\n",
       "<p>6566 rows × 7 columns</p>\n",
       "</div>"
      ]
     },
     "execution_count": 43,
     "metadata": {},
     "output_type": "execute_result"
    }
   ],
   "execution_count": 43
  },
  {
   "metadata": {
    "ExecuteTime": {
     "end_time": "2024-11-29T15:51:10.517391Z",
     "start_time": "2024-11-29T15:51:10.514531Z"
    }
   },
   "cell_type": "code",
   "source": [
    "df['vehicle_age'] = date.today().year - df['vehicle_year']\n",
    "df['norm_overall_rating'] = df['overall_rating'] / 5"
   ],
   "id": "8220dc82ea454df8",
   "outputs": [],
   "execution_count": 44
  },
  {
   "metadata": {
    "ExecuteTime": {
     "end_time": "2024-11-29T15:51:11.375075Z",
     "start_time": "2024-11-29T15:51:11.370100Z"
    }
   },
   "cell_type": "code",
   "source": [
    "from sklearn.preprocessing import LabelEncoder\n",
    "df['vehicle_label'] = LabelEncoder().fit_transform(df['vehicle_make'])"
   ],
   "id": "9d9ca957f851a339",
   "outputs": [],
   "execution_count": 45
  },
  {
   "metadata": {
    "ExecuteTime": {
     "end_time": "2024-11-29T15:51:12.113560Z",
     "start_time": "2024-11-29T15:51:12.105867Z"
    }
   },
   "cell_type": "code",
   "source": "df[['vehicle_make', 'vehicle_label']]",
   "id": "f6ebb4d212cd0112",
   "outputs": [
    {
     "data": {
      "text/plain": [
       "     vehicle_make  vehicle_label\n",
       "0           honda              7\n",
       "1           honda              7\n",
       "2           honda              7\n",
       "3           honda              7\n",
       "4           honda              7\n",
       "...           ...            ...\n",
       "6561        honda              7\n",
       "6562        honda              7\n",
       "6563        dodge              3\n",
       "6564         jeep              8\n",
       "6565         jeep              8\n",
       "\n",
       "[6566 rows x 2 columns]"
      ],
      "text/html": [
       "<div>\n",
       "<style scoped>\n",
       "    .dataframe tbody tr th:only-of-type {\n",
       "        vertical-align: middle;\n",
       "    }\n",
       "\n",
       "    .dataframe tbody tr th {\n",
       "        vertical-align: top;\n",
       "    }\n",
       "\n",
       "    .dataframe thead th {\n",
       "        text-align: right;\n",
       "    }\n",
       "</style>\n",
       "<table border=\"1\" class=\"dataframe\">\n",
       "  <thead>\n",
       "    <tr style=\"text-align: right;\">\n",
       "      <th></th>\n",
       "      <th>vehicle_make</th>\n",
       "      <th>vehicle_label</th>\n",
       "    </tr>\n",
       "  </thead>\n",
       "  <tbody>\n",
       "    <tr>\n",
       "      <th>0</th>\n",
       "      <td>honda</td>\n",
       "      <td>7</td>\n",
       "    </tr>\n",
       "    <tr>\n",
       "      <th>1</th>\n",
       "      <td>honda</td>\n",
       "      <td>7</td>\n",
       "    </tr>\n",
       "    <tr>\n",
       "      <th>2</th>\n",
       "      <td>honda</td>\n",
       "      <td>7</td>\n",
       "    </tr>\n",
       "    <tr>\n",
       "      <th>3</th>\n",
       "      <td>honda</td>\n",
       "      <td>7</td>\n",
       "    </tr>\n",
       "    <tr>\n",
       "      <th>4</th>\n",
       "      <td>honda</td>\n",
       "      <td>7</td>\n",
       "    </tr>\n",
       "    <tr>\n",
       "      <th>...</th>\n",
       "      <td>...</td>\n",
       "      <td>...</td>\n",
       "    </tr>\n",
       "    <tr>\n",
       "      <th>6561</th>\n",
       "      <td>honda</td>\n",
       "      <td>7</td>\n",
       "    </tr>\n",
       "    <tr>\n",
       "      <th>6562</th>\n",
       "      <td>honda</td>\n",
       "      <td>7</td>\n",
       "    </tr>\n",
       "    <tr>\n",
       "      <th>6563</th>\n",
       "      <td>dodge</td>\n",
       "      <td>3</td>\n",
       "    </tr>\n",
       "    <tr>\n",
       "      <th>6564</th>\n",
       "      <td>jeep</td>\n",
       "      <td>8</td>\n",
       "    </tr>\n",
       "    <tr>\n",
       "      <th>6565</th>\n",
       "      <td>jeep</td>\n",
       "      <td>8</td>\n",
       "    </tr>\n",
       "  </tbody>\n",
       "</table>\n",
       "<p>6566 rows × 2 columns</p>\n",
       "</div>"
      ]
     },
     "execution_count": 46,
     "metadata": {},
     "output_type": "execute_result"
    }
   ],
   "execution_count": 46
  },
  {
   "metadata": {
    "ExecuteTime": {
     "end_time": "2024-11-29T15:51:12.831045Z",
     "start_time": "2024-11-29T15:51:12.826191Z"
    }
   },
   "cell_type": "code",
   "source": "df['vehicle_label'].unique()",
   "id": "69699d34bdbf96ee",
   "outputs": [
    {
     "data": {
      "text/plain": [
       "array([ 7,  4,  0,  8,  9,  3,  6, 13,  2,  1, 10, 12, 11,  5])"
      ]
     },
     "execution_count": 47,
     "metadata": {},
     "output_type": "execute_result"
    }
   ],
   "execution_count": 47
  },
  {
   "metadata": {
    "ExecuteTime": {
     "end_time": "2024-11-29T15:52:36.312598Z",
     "start_time": "2024-11-29T15:52:31.272354Z"
    }
   },
   "cell_type": "code",
   "source": [
    "from sklearn.manifold import SpectralEmbedding\n",
    "embedding = SpectralEmbedding(n_components=4)\n",
    "X_transformed = embedding.fit_transform(df['vehicle_label'].values.reshape(-1, 1))"
   ],
   "id": "a2a0b957b384deb7",
   "outputs": [],
   "execution_count": 50
  },
  {
   "metadata": {
    "ExecuteTime": {
     "end_time": "2024-11-29T15:52:38.825232Z",
     "start_time": "2024-11-29T15:52:38.821493Z"
    }
   },
   "cell_type": "code",
   "source": "X_transformed",
   "id": "142e37ee4bcd9be9",
   "outputs": [
    {
     "data": {
      "text/plain": [
       "array([[ 6.95221619e-04,  3.12778288e-05, -6.93806332e-04,\n",
       "         7.79211637e-07],\n",
       "       [ 6.95221619e-04,  3.12778288e-05, -6.93806332e-04,\n",
       "         7.79211637e-07],\n",
       "       [ 6.95221619e-04,  3.12778288e-05, -6.93806332e-04,\n",
       "         7.79211637e-07],\n",
       "       ...,\n",
       "       [-3.21536587e-04, -2.56595521e-04,  2.47343520e-06,\n",
       "         2.97363787e-03],\n",
       "       [ 7.03258590e-04,  3.39943754e-05,  1.03976759e-03,\n",
       "         4.74236183e-08],\n",
       "       [ 7.03258590e-04,  3.39943754e-05,  1.03976759e-03,\n",
       "         4.74236183e-08]])"
      ]
     },
     "execution_count": 51,
     "metadata": {},
     "output_type": "execute_result"
    }
   ],
   "execution_count": 51
  },
  {
   "metadata": {},
   "cell_type": "code",
   "outputs": [],
   "execution_count": null,
   "source": "",
   "id": "6a65560daee7ac57"
  }
 ],
 "metadata": {
  "kernelspec": {
   "display_name": "Python 3",
   "language": "python",
   "name": "python3"
  },
  "language_info": {
   "codemirror_mode": {
    "name": "ipython",
    "version": 2
   },
   "file_extension": ".py",
   "mimetype": "text/x-python",
   "name": "python",
   "nbconvert_exporter": "python",
   "pygments_lexer": "ipython2",
   "version": "2.7.6"
  }
 },
 "nbformat": 4,
 "nbformat_minor": 5
}
