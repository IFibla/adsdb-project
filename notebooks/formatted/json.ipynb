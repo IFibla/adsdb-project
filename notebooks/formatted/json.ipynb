{
 "cells": [
  {
   "cell_type": "code",
   "execution_count": null,
   "outputs": [],
   "source": [
    "from src.helpers.db_connector import DBConnector\n",
    "\n",
    "formatted_db_connector = DBConnector()"
   ],
   "metadata": {
    "collapsed": false
   },
   "id": "2ed1efaa8b5ec726"
  },
  {
   "cell_type": "code",
   "execution_count": null,
   "id": "initial_id",
   "metadata": {
    "collapsed": true
   },
   "outputs": [],
   "source": [
    "from src.formatted.json import JSONFormatted\n",
    "\n",
    "json_formatted_layer = JSONFormatted(\n",
    "    r\"C:\\Users\\ferra\\PycharmProjects\\adsdb-project\\data\\landing\\persistent\",\n",
    "    formatted_db_connector,\n",
    ")"
   ]
  },
  {
   "cell_type": "code",
   "execution_count": null,
   "outputs": [],
   "source": [
    "execution_result = json_formatted_layer.execute()"
   ],
   "metadata": {
    "collapsed": false
   },
   "id": "42d34badf745a211"
  },
  {
   "cell_type": "code",
   "execution_count": null,
   "outputs": [],
   "source": [
    "execution_result"
   ],
   "metadata": {
    "collapsed": false
   },
   "id": "d3a265a00c2c94d6"
  },
  {
   "cell_type": "code",
   "execution_count": null,
   "outputs": [],
   "source": [
    "print(formatted_db_connector.get_tables())"
   ],
   "metadata": {
    "collapsed": false
   },
   "id": "6abc43ad6eb9b734"
  },
  {
   "cell_type": "code",
   "execution_count": null,
   "outputs": [],
   "source": [
    "print(\n",
    "    formatted_db_connector.execute_query(\n",
    "        \"\"\"SELECT * FROM nhtsa_safety_rating_20241026\"\"\"\n",
    "    )\n",
    ")"
   ],
   "metadata": {
    "collapsed": false
   },
   "id": "eabe34ca1eb02d5f"
  }
 ],
 "metadata": {
  "kernelspec": {
   "display_name": "Python 3",
   "language": "python",
   "name": "python3"
  },
  "language_info": {
   "codemirror_mode": {
    "name": "ipython",
    "version": 2
   },
   "file_extension": ".py",
   "mimetype": "text/x-python",
   "name": "python",
   "nbconvert_exporter": "python",
   "pygments_lexer": "ipython2",
   "version": "2.7.6"
  }
 },
 "nbformat": 4,
 "nbformat_minor": 5
}
