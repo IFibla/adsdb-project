{
 "cells": [
  {
   "cell_type": "code",
   "execution_count": 1,
   "outputs": [],
   "source": [
    "from src.helpers.db_connector import DBConnector\n",
    "\n",
    "formatted_db_connector = DBConnector()"
   ],
   "metadata": {
    "collapsed": false,
    "ExecuteTime": {
     "end_time": "2024-10-27T09:56:45.454728900Z",
     "start_time": "2024-10-27T09:56:45.040083200Z"
    }
   },
   "id": "2ed1efaa8b5ec726"
  },
  {
   "cell_type": "code",
   "execution_count": 2,
   "id": "initial_id",
   "metadata": {
    "collapsed": true,
    "ExecuteTime": {
     "end_time": "2024-10-27T09:56:47.056754400Z",
     "start_time": "2024-10-27T09:56:47.051410Z"
    }
   },
   "outputs": [],
   "source": [
    "from src.storage.formatted import JSONFormatted\n",
    "\n",
    "json_formatted_layer = JSONFormatted(\n",
    "    r\"C:\\Users\\ferra\\PycharmProjects\\adsdb-project\\data\\landing\\persistent\",\n",
    "    formatted_db_connector,\n",
    ")"
   ]
  },
  {
   "cell_type": "code",
   "execution_count": 3,
   "outputs": [],
   "source": [
    "execution_result = json_formatted_layer.execute()"
   ],
   "metadata": {
    "collapsed": false,
    "ExecuteTime": {
     "end_time": "2024-10-27T09:56:49.347098800Z",
     "start_time": "2024-10-27T09:56:49.291249Z"
    }
   },
   "id": "42d34badf745a211"
  },
  {
   "cell_type": "code",
   "execution_count": 4,
   "outputs": [],
   "source": [
    "execution_result"
   ],
   "metadata": {
    "collapsed": false,
    "ExecuteTime": {
     "end_time": "2024-10-27T09:56:50.198266Z",
     "start_time": "2024-10-27T09:56:50.195755Z"
    }
   },
   "id": "d3a265a00c2c94d6"
  },
  {
   "cell_type": "code",
   "execution_count": 5,
   "outputs": [
    {
     "name": "stdout",
     "output_type": "stream",
     "text": [
      "[('nhtsa_safety_rating_20241026',), ('nhtsa_safety_rating_20241027',), ('data',)]\n"
     ]
    }
   ],
   "source": [
    "print(formatted_db_connector.get_tables())"
   ],
   "metadata": {
    "collapsed": false,
    "ExecuteTime": {
     "end_time": "2024-10-27T09:56:52.257449400Z",
     "start_time": "2024-10-27T09:56:52.250286400Z"
    }
   },
   "id": "6abc43ad6eb9b734"
  },
  {
   "cell_type": "code",
   "execution_count": 6,
   "outputs": [
    {
     "name": "stdout",
     "output_type": "stream",
     "text": [
      "[('https://static.nhtsa.gov/images/vehicles/7284_st0640_046.png', 'Not Rated', 'Not Rated', 'Not Rated', 'Not Rated', 'Not Rated', 'Not Rated', 'Not Rated', 'Not Rated', 'Not Rated', 'Not Rated', 'Not Rated', 'Not Rated', 0.0, 0.0, ' ', 'Not Rated', 'Standard', 'No', 'No', 42, 4, 2, 2011, 'AUDI', 'A3', '2011 Audi A3 4 DR FWD', 1, None, None, None, None, None, None), ('https://static.nhtsa.gov/images/vehicles/7285_st0640_046.png', '4', '4', '3', '4', '5', '4', '5', '4', '5', '5', '5', 'Not Rated', 0.099, 0.0, 'No Tip', '5', 'Standard', 'No', 'No', 32, 0, 0, 2011, 'AUDI', 'A4', '2011 Audi A4 4 DR FWD', 2, 'https://static.nhtsa.gov/crashTest/images/2011/v07027P074.jpg', 'https://static.nhtsa.gov/crashTest/videos/2011/v07027C020.wmv', 'https://static.nhtsa.gov/crashTest/images/2011/v07028P098.jpg', 'https://static.nhtsa.gov/crashTest/videos/2011/v07028C011.wmv', 'https://static.nhtsa.gov/crashTest/images/2011/v07033P002.jpg', 'https://static.nhtsa.gov/crashTest/videos/2011/v07033C014.wmv'), ('https://static.nhtsa.gov/images/vehicles/6959_st0640_046.png', '4', '4', '3', '4', '5', '4', '5', '4', '5', '5', '5', 'Not Rated', 0.099, 0.0, 'No Tip', '5', 'Standard', 'No', 'No', 33, 0, 0, 2011, 'AUDI', 'A4 AVANT', '2011 Audi A4 Avant SW AWD', 4, None, None, None, None, None, None), ('https://static.nhtsa.gov/images/vehicles/6949_st0640_046.png', '4', '4', '3', '4', '5', '4', '5', '4', '5', '5', '5', 'Not Rated', 0.099, 0.0, 'No Tip', '5', 'Standard', 'No', 'No', 26, 1, 0, 2011, 'AUDI', 'S4 AVANT', '2011 Audi S4 Avant SW AWD', 5, None, None, None, None, None, None), ('https://static.nhtsa.gov/images/vehicles/6836_st0640_046.png', 'Not Rated', 'Not Rated', 'Not Rated', 'Not Rated', 'Not Rated', 'Not Rated', 'Not Rated', 'Not Rated', 'Not Rated', 'Not Rated', 'Not Rated', 'Not Rated', 0.0, 0.0, ' ', 'Not Rated', 'Standard', 'No', 'No', 38, 2, 0, 2011, 'AUDI', 'A5 CABRIOLET', '2011 Audi A5 Cabriolet C FWD', 6, None, None, None, None, None, None)]\n"
     ]
    }
   ],
   "source": [
    "print(\n",
    "    formatted_db_connector.execute_query(\n",
    "        \"\"\"SELECT * FROM nhtsa_safety_rating_20241026\"\"\"\n",
    "    )\n",
    ")"
   ],
   "metadata": {
    "collapsed": false,
    "ExecuteTime": {
     "end_time": "2024-10-27T09:56:57.534586600Z",
     "start_time": "2024-10-27T09:56:57.531775500Z"
    }
   },
   "id": "eabe34ca1eb02d5f"
  },
  {
   "cell_type": "code",
   "execution_count": null,
   "outputs": [],
   "source": [],
   "metadata": {
    "collapsed": false
   },
   "id": "6142d6c214f04a14"
  }
 ],
 "metadata": {
  "kernelspec": {
   "display_name": "Python 3",
   "language": "python",
   "name": "python3"
  },
  "language_info": {
   "codemirror_mode": {
    "name": "ipython",
    "version": 2
   },
   "file_extension": ".py",
   "mimetype": "text/x-python",
   "name": "python",
   "nbconvert_exporter": "python",
   "pygments_lexer": "ipython2",
   "version": "2.7.6"
  }
 },
 "nbformat": 4,
 "nbformat_minor": 5
}
