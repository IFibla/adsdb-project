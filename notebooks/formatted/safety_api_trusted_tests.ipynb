{
 "cells": [
  {
   "cell_type": "code",
   "execution_count": 1,
   "outputs": [],
   "source": [
    "from src.helpers.db_connector import DBConnector\n",
    "\n",
    "formatted_db_connector = DBConnector()"
   ],
   "metadata": {
    "collapsed": false,
    "ExecuteTime": {
     "end_time": "2024-10-26T16:29:43.039679500Z",
     "start_time": "2024-10-26T16:29:42.684034300Z"
    }
   },
   "id": "2ed1efaa8b5ec726"
  },
  {
   "cell_type": "code",
   "execution_count": 2,
   "id": "initial_id",
   "metadata": {
    "collapsed": true,
    "ExecuteTime": {
     "end_time": "2024-10-26T16:29:43.047206500Z",
     "start_time": "2024-10-26T16:29:43.040691400Z"
    }
   },
   "outputs": [],
   "source": [
    "from src.formatted.json import JSONFormatted\n",
    "\n",
    "json_formatted_layer = JSONFormatted(\n",
    "    r\"C:\\Users\\ferra\\PycharmProjects\\adsdb-project\\data\\landing\\persistent\",\n",
    "    formatted_db_connector,\n",
    ")"
   ]
  },
  {
   "cell_type": "code",
   "execution_count": null,
   "outputs": [],
   "source": [
    "execution_result = json_formatted_layer.execute()"
   ],
   "metadata": {
    "collapsed": false,
    "is_executing": true,
    "ExecuteTime": {
     "start_time": "2024-10-26T16:30:04.181041600Z"
    }
   },
   "id": "42d34badf745a211"
  },
  {
   "cell_type": "code",
   "execution_count": 4,
   "outputs": [],
   "source": [
    "execution_result"
   ],
   "metadata": {
    "collapsed": false,
    "ExecuteTime": {
     "end_time": "2024-10-26T16:29:45.719603800Z",
     "start_time": "2024-10-26T16:29:45.716597Z"
    }
   },
   "id": "d3a265a00c2c94d6"
  },
  {
   "cell_type": "code",
   "execution_count": 5,
   "outputs": [
    {
     "name": "stdout",
     "output_type": "stream",
     "text": [
      "[('data',)]\n"
     ]
    }
   ],
   "source": [
    "print(formatted_db_connector.get_tables())"
   ],
   "metadata": {
    "collapsed": false,
    "ExecuteTime": {
     "end_time": "2024-10-26T16:29:46.324006700Z",
     "start_time": "2024-10-26T16:29:46.317826700Z"
    }
   },
   "id": "6abc43ad6eb9b734"
  },
  {
   "cell_type": "code",
   "execution_count": null,
   "outputs": [],
   "source": [
    "print(formatted_db_connector.execute_query(\"\"\"SELECT * FROM data\"\"\"))"
   ],
   "metadata": {
    "collapsed": false
   },
   "id": "eabe34ca1eb02d5f"
  }
 ],
 "metadata": {
  "kernelspec": {
   "display_name": "Python 3",
   "language": "python",
   "name": "python3"
  },
  "language_info": {
   "codemirror_mode": {
    "name": "ipython",
    "version": 2
   },
   "file_extension": ".py",
   "mimetype": "text/x-python",
   "name": "python",
   "nbconvert_exporter": "python",
   "pygments_lexer": "ipython2",
   "version": "2.7.6"
  }
 },
 "nbformat": 4,
 "nbformat_minor": 5
}
