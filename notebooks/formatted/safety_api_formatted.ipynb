{
 "cells": [
  {
   "cell_type": "code",
   "execution_count": null,
   "id": "initial_id",
   "metadata": {
    "ExecuteTime": {
     "end_time": "2024-10-20T18:52:30.678786700Z",
     "start_time": "2024-10-20T18:52:30.006010300Z"
    }
   },
   "outputs": [],
   "source": [
    "from src.formatted.safety_api_formatted import SafetyApiFormatted\n",
    "from src.helpers.db_connector import DBConnector\n",
    "from src.landing.safety_api_landing import SafetyApiLanding"
   ]
  },
  {
   "cell_type": "code",
   "execution_count": null,
   "id": "b34cd74c836aa6c0",
   "metadata": {
    "ExecuteTime": {
     "end_time": "2024-10-20T18:52:30.686195300Z",
     "start_time": "2024-10-20T18:52:30.679786900Z"
    }
   },
   "outputs": [],
   "source": [
    "db_connector = DBConnector()\n",
    "safety_api_landing = SafetyApiLanding(min_vehicle_id=1, max_vehicle_id=5)"
   ]
  },
  {
   "cell_type": "code",
   "execution_count": null,
   "id": "8388dabe97c61e96",
   "metadata": {
    "ExecuteTime": {
     "end_time": "2024-10-20T18:52:30.691556600Z",
     "start_time": "2024-10-20T18:52:30.687046900Z"
    }
   },
   "outputs": [],
   "source": [
    "safety_api_formatted = SafetyApiFormatted(i_landing=safety_api_landing, i_db_connector=db_connector)"
   ]
  },
  {
   "cell_type": "code",
   "execution_count": null,
   "id": "b4ee56bd74492fb8",
   "metadata": {
    "ExecuteTime": {
     "end_time": "2024-10-20T18:52:30.821729800Z",
     "start_time": "2024-10-20T18:52:30.688558600Z"
    }
   },
   "outputs": [],
   "source": [
    "data = safety_api_landing.get()"
   ]
  },
  {
   "cell_type": "code",
   "execution_count": null,
   "id": "290a286bde0fa2b8",
   "metadata": {
    "ExecuteTime": {
     "end_time": "2024-10-20T18:52:30.826806100Z",
     "start_time": "2024-10-20T18:52:30.821729800Z"
    }
   },
   "outputs": [],
   "source": [
    "from models.data_models.safety_api_response import SafetyApiResponse\n",
    "import pandas as pd\n",
    "\n",
    "\n",
    "for d in data:\n",
    "    parsed_data = SafetyApiResponse(**d)\n",
    "    print(parsed_data.results)\n",
    "    "
   ]
  },
  {
   "cell_type": "code",
   "execution_count": null,
   "id": "1fb9cb2a14cca398",
   "metadata": {
    "ExecuteTime": {
     "end_time": "2024-10-20T18:52:30.834710800Z",
     "start_time": "2024-10-20T18:52:30.826806100Z"
    }
   },
   "outputs": [],
   "source": [
    "formatted_data = [SafetyApiResponse(**d) for d in data]\n",
    "\n",
    "df = pd.DataFrame([result.dict() for item in formatted_data for result in item.results])\n"
   ]
  },
  {
   "cell_type": "code",
   "execution_count": null,
   "id": "dd0d5c34d2dd44b8",
   "metadata": {
    "ExecuteTime": {
     "end_time": "2024-10-20T18:52:30.849743900Z",
     "start_time": "2024-10-20T18:52:30.832543900Z"
    }
   },
   "outputs": [],
   "source": [
    "df"
   ]
  },
  {
   "cell_type": "code",
   "execution_count": null,
   "id": "6c107fe638971a1d",
   "metadata": {
    "ExecuteTime": {
     "end_time": "2024-10-20T18:52:30.962061400Z",
     "start_time": "2024-10-20T18:52:30.845741900Z"
    }
   },
   "outputs": [],
   "source": [
    "print(safety_api_formatted.get())"
   ]
  }
 ],
 "metadata": {
  "kernelspec": {
   "display_name": "Python 3",
   "language": "python",
   "name": "python3"
  },
  "language_info": {
   "codemirror_mode": {
    "name": "ipython",
    "version": 2
   },
   "file_extension": ".py",
   "mimetype": "text/x-python",
   "name": "python",
   "nbconvert_exporter": "python",
   "pygments_lexer": "ipython2",
   "version": "2.7.6"
  }
 },
 "nbformat": 4,
 "nbformat_minor": 5
}
