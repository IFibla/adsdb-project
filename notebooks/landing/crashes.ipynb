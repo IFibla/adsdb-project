{
 "cells": [
  {
   "metadata": {
    "ExecuteTime": {
     "end_time": "2024-10-19T15:24:01.884560Z",
     "start_time": "2024-10-19T15:24:01.880844Z"
    }
   },
   "cell_type": "code",
   "source": [
    "from models.storage.layers.landing import Landing\n",
    "from datetime import datetime\n",
    "import shutil\n",
    "import os\n",
    "import re"
   ],
   "id": "4801e588e6b8ba6b",
   "outputs": [],
   "execution_count": 9
  },
  {
   "metadata": {
    "ExecuteTime": {
     "end_time": "2024-10-19T15:42:47.008207Z",
     "start_time": "2024-10-19T15:42:47.004522Z"
    }
   },
   "cell_type": "code",
   "outputs": [],
   "execution_count": 36,
   "source": [
    "class CrashesLanding(Landing):\n",
    "    \"\"\"\n",
    "    Concrete class representing a safety data landing layer in a data ingestion pipeline.\n",
    "\n",
    "    The CrashesLanding class is specifically designed to retrieve CSV data from a temporary landing zone\n",
    "    and store it in a persistent landing zone, along with its metadata.\n",
    "\n",
    "    Attributes:\n",
    "        m_temporal_landing_path (str): Path to the temporary landing zone where incoming CSV files are stored.\n",
    "        m_persistent_landing_path (str): Path to the persistent landing zone where processed files are stored.\n",
    "    \"\"\"\n",
    "\n",
    "    def __init__(\n",
    "        self,\n",
    "        i_temporal_landing_path: str,\n",
    "        i_persistent_landing_path: str,\n",
    "        i_filename: str,\n",
    "    ):\n",
    "        \"\"\"\n",
    "        Initializes the CrashesLanding instance with specified paths for temporal and persistent landing zones.\n",
    "\n",
    "        Args:\n",
    "            i_temporal_landing_path (str): The path for the temporary landing zone.\n",
    "            i_persistent_landing_path (str): The path for the persistent landing zone.\n",
    "        \"\"\"\n",
    "        self.m_temporal_landing_path = i_temporal_landing_path\n",
    "        self.m_persistent_landing_path = i_persistent_landing_path\n",
    "        self.m_filename = i_filename\n",
    "\n",
    "    def get(self):\n",
    "        \"\"\"\n",
    "        Retrieves and processes a CSV file from the temporary landing zone, then saves it in the persistent landing zone.\n",
    "\n",
    "        This method checks if the specified CSV file exists in the temporary landing path, extracts the date from the\n",
    "        filename, and creates a corresponding directory in the persistent landing path to save the file and its metadata.\n",
    "\n",
    "        Raises:\n",
    "            FileNotFoundError: If the specified file does not exist in the temporal landing path.\n",
    "            ValueError: If the filename contains zero or more than one date.\n",
    "            ValueError: If the date extracted from the filename cannot be parsed.\n",
    "\n",
    "        Returns:\n",
    "            None: The method saves the CSV file and its metadata in the persistent landing zone.\n",
    "        \"\"\"\n",
    "        if not os.path.exists(self.m_temporal_landing_path + self.filename):\n",
    "            raise FileNotFoundError(\n",
    "                f\"{self.m_temporal_landing_path} + {self.filename} was not found.\"\n",
    "            )\n",
    "\n",
    "        dates = re.findall(r\"\\d{8}\", self.filename)\n",
    "\n",
    "        if len(dates) != 1:\n",
    "            raise ValueError(f\"{self.filename} has 0 or >1 dates.\")\n",
    "\n",
    "        try:\n",
    "            date_obj = datetime.strptime(dates[0], \"%Y%m%d\")\n",
    "        except ValueError as e:\n",
    "            print(f\"Error parsing date '{dates[0]}': {e}\")\n",
    "            return\n",
    "\n",
    "        persistent_folder = date_obj.strftime(\"%Y%m%d\") + \"/\"\n",
    "        os.makedirs(\n",
    "            f\"{self.m_persistent_landing_path}{persistent_folder}\", exist_ok=False\n",
    "        )\n",
    "        shutil.copyfile(\n",
    "            self.m_temporal_landing_path + self.filename,\n",
    "            self.m_persistent_landing_path + persistent_folder + \"Crashes.csv\",\n",
    "        )\n",
    "\n",
    "        metadata = {\n",
    "            \"temporal_landing_path\": f\"{self.m_temporal_landing_path}{self.filename}\",\n",
    "            \"persistent_landing_path\": f\"{self.m_persistent_landing_path}{persistent_folder}\",\n",
    "            \"data_provider\": \"Police Department (NYPD)\",\n",
    "            \"dataset_owner\": \"NYC OpenData\",\n",
    "            \"data_collection\": \"Motor Vehicle Collisions\",\n",
    "            \"agency\": \"Police Department (NYPD)\",\n",
    "            \"update_frequency\": \"Daily\",\n",
    "        }\n",
    "\n",
    "        with open(\n",
    "            self.m_persistent_landing_path + persistent_folder + \"Crashes.metadata\", \"w\"\n",
    "        ) as f:\n",
    "            f.write(str(metadata))"
   ],
   "id": "ca2dd4e1adca22b6"
  },
  {
   "metadata": {
    "ExecuteTime": {
     "end_time": "2024-10-19T15:41:02.802917Z",
     "start_time": "2024-10-19T15:41:02.800328Z"
    }
   },
   "cell_type": "code",
   "source": [
    "cl = CrashesLanding(\n",
    "    \"/Users/ignasi/Documents/_03_MDS_/_01_ADSDB_/data/landing/temporal/\",\n",
    "    \"/Users/ignasi/Documents/_03_MDS_/_01_ADSDB_/data/landing/persistent/\",\n",
    ")"
   ],
   "id": "1980ce8b0320e193",
   "outputs": [],
   "execution_count": 33
  },
  {
   "metadata": {
    "ExecuteTime": {
     "end_time": "2024-10-19T15:41:25.855640Z",
     "start_time": "2024-10-19T15:41:25.718294Z"
    }
   },
   "cell_type": "code",
   "source": [
    "cl.get(\"Motor_Vehicle_Collisions_-_Crashes_20241019.csv\")"
   ],
   "id": "c12420376105d649",
   "outputs": [],
   "execution_count": 35
  }
 ],
 "metadata": {
  "kernelspec": {
   "display_name": "Python 3",
   "language": "python",
   "name": "python3"
  },
  "language_info": {
   "codemirror_mode": {
    "name": "ipython",
    "version": 2
   },
   "file_extension": ".py",
   "mimetype": "text/x-python",
   "name": "python",
   "nbconvert_exporter": "python",
   "pygments_lexer": "ipython2",
   "version": "2.7.6"
  }
 },
 "nbformat": 4,
 "nbformat_minor": 5
}
