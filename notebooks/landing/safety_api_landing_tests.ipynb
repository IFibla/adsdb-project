{
 "cells": [
  {
   "cell_type": "code",
   "execution_count": null,
   "id": "initial_id",
   "metadata": {
    "ExecuteTime": {
     "end_time": "2024-10-19T09:54:12.390931600Z",
     "start_time": "2024-10-19T09:54:11.650913300Z"
    }
   },
   "outputs": [],
   "source": [
    "from src.landing.safety_api_landing import SafetyApiLanding"
   ]
  },
  {
   "cell_type": "code",
   "execution_count": null,
   "id": "544ca84224fb68e3",
   "metadata": {
    "ExecuteTime": {
     "end_time": "2024-10-19T09:54:14.657040400Z",
     "start_time": "2024-10-19T09:54:14.655531900Z"
    }
   },
   "outputs": [],
   "source": [
    "safety_api_landing = SafetyApiLanding(min_vehicle_id=1, max_vehicle_id=5)"
   ]
  },
  {
   "cell_type": "code",
   "execution_count": null,
   "id": "6fea07d41a56dc80",
   "metadata": {
    "ExecuteTime": {
     "end_time": "2024-10-19T09:54:18.243741100Z",
     "start_time": "2024-10-19T09:54:17.532449300Z"
    }
   },
   "outputs": [],
   "source": [
    "print(safety_api_landing.get())"
   ]
  }
 ],
 "metadata": {
  "kernelspec": {
   "display_name": "Python 3",
   "language": "python",
   "name": "python3"
  },
  "language_info": {
   "codemirror_mode": {
    "name": "ipython",
    "version": 2
   },
   "file_extension": ".py",
   "mimetype": "text/x-python",
   "name": "python",
   "nbconvert_exporter": "python",
   "pygments_lexer": "ipython2",
   "version": "2.7.6"
  }
 },
 "nbformat": 4,
 "nbformat_minor": 5
}
