{
 "cells": [
  {
   "cell_type": "code",
   "execution_count": null,
   "id": "initial_id",
   "metadata": {
    "ExecuteTime": {
     "end_time": "2024-10-20T18:44:26.625523800Z",
     "start_time": "2024-10-20T18:44:26.624517400Z"
    }
   },
   "outputs": [],
   "source": [
    "from src.landing.safety_api_landing import SafetyApiLanding"
   ]
  },
  {
   "cell_type": "code",
   "execution_count": null,
   "id": "544ca84224fb68e3",
   "metadata": {
    "ExecuteTime": {
     "end_time": "2024-10-20T18:44:26.630313200Z",
     "start_time": "2024-10-20T18:44:26.628291700Z"
    }
   },
   "outputs": [],
   "source": [
    "safety_api_landing = SafetyApiLanding(min_vehicle_id=1, max_vehicle_id=1)"
   ]
  },
  {
   "cell_type": "code",
   "execution_count": null,
   "id": "6fea07d41a56dc80",
   "metadata": {
    "ExecuteTime": {
     "end_time": "2024-10-20T18:44:26.690265400Z",
     "start_time": "2024-10-20T18:44:26.632321800Z"
    }
   },
   "outputs": [],
   "source": [
    "print(safety_api_landing.get())"
   ]
  }
 ],
 "metadata": {
  "kernelspec": {
   "display_name": "Python 3",
   "language": "python",
   "name": "python3"
  },
  "language_info": {
   "codemirror_mode": {
    "name": "ipython",
    "version": 2
   },
   "file_extension": ".py",
   "mimetype": "text/x-python",
   "name": "python",
   "nbconvert_exporter": "python",
   "pygments_lexer": "ipython2",
   "version": "2.7.6"
  }
 },
 "nbformat": 4,
 "nbformat_minor": 5
}
