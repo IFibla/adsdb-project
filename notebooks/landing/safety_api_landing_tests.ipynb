{
 "cells": [
  {
   "cell_type": "code",
   "id": "initial_id",
   "metadata": {
    "collapsed": true,
    "ExecuteTime": {
     "end_time": "2024-10-16T12:18:06.533984Z",
     "start_time": "2024-10-16T12:18:05.495428800Z"
    }
   },
   "source": [
    "from src.landing.safety_api_landing import SafetyApiLanding"
   ],
   "outputs": [],
   "execution_count": 1
  },
  {
   "metadata": {
    "ExecuteTime": {
     "end_time": "2024-10-16T12:18:09.063455500Z",
     "start_time": "2024-10-16T12:18:09.056096600Z"
    }
   },
   "cell_type": "code",
   "source": [
    "safety_api_landing = SafetyApiLanding(min_vehicle_id=1, max_vehicle_id=5)"
   ],
   "id": "544ca84224fb68e3",
   "outputs": [],
   "execution_count": 2
  },
  {
   "cell_type": "code",
   "execution_count": 4,
   "outputs": [
    {
     "name": "stdout",
     "output_type": "stream",
     "text": [
      "[{'Count': 1, 'Message': 'Results returned successfully', 'Results': [{'VehiclePicture': 'https://static.nhtsa.gov/images/vehicles/7284_st0640_046.png', 'OverallRating': 'Not Rated', 'OverallFrontCrashRating': 'Not Rated', 'FrontCrashDriversideRating': 'Not Rated', 'FrontCrashPassengersideRating': 'Not Rated', 'OverallSideCrashRating': 'Not Rated', 'SideCrashDriversideRating': 'Not Rated', 'SideCrashPassengersideRating': 'Not Rated', 'combinedSideBarrierAndPoleRating-Front': 'Not Rated', 'combinedSideBarrierAndPoleRating-Rear': 'Not Rated', 'sideBarrierRating-Overall': 'Not Rated', 'RolloverRating': 'Not Rated', 'RolloverRating2': 'Not Rated', 'RolloverPossibility': 0.0, 'RolloverPossibility2': 0.0, 'dynamicTipResult': ' ', 'SidePoleCrashRating': 'Not Rated', 'NHTSAElectronicStabilityControl': 'Standard', 'NHTSAForwardCollisionWarning': 'No', 'NHTSALaneDepartureWarning': 'No', 'ComplaintsCount': 42, 'RecallsCount': 4, 'InvestigationCount': 2, 'ModelYear': 2011, 'Make': 'AUDI', 'Model': 'A3', 'VehicleDescription': '2011 Audi A3 4 DR FWD', 'VehicleId': 1}]}, {'Count': 1, 'Message': 'Results returned successfully', 'Results': [{'VehiclePicture': 'https://static.nhtsa.gov/images/vehicles/6949_st0640_046.png', 'OverallRating': '4', 'OverallFrontCrashRating': '4', 'FrontCrashDriversideRating': '3', 'FrontCrashPassengersideRating': '4', 'OverallSideCrashRating': '5', 'SideCrashDriversideRating': '4', 'SideCrashPassengersideRating': '5', 'combinedSideBarrierAndPoleRating-Front': '4', 'combinedSideBarrierAndPoleRating-Rear': '5', 'sideBarrierRating-Overall': '5', 'RolloverRating': '5', 'RolloverRating2': 'Not Rated', 'RolloverPossibility': 0.099, 'RolloverPossibility2': 0.0, 'dynamicTipResult': 'No Tip', 'SidePoleCrashRating': '5', 'NHTSAElectronicStabilityControl': 'Standard', 'NHTSAForwardCollisionWarning': 'No', 'NHTSALaneDepartureWarning': 'No', 'ComplaintsCount': 26, 'RecallsCount': 1, 'InvestigationCount': 0, 'ModelYear': 2011, 'Make': 'AUDI', 'Model': 'S4 AVANT', 'VehicleDescription': '2011 Audi S4 Avant SW AWD', 'VehicleId': 5}]}, {'Count': 1, 'Message': 'Results returned successfully', 'Results': [{'VehiclePicture': 'https://static.nhtsa.gov/images/vehicles/6959_st0640_046.png', 'OverallRating': '4', 'OverallFrontCrashRating': '4', 'FrontCrashDriversideRating': '3', 'FrontCrashPassengersideRating': '4', 'OverallSideCrashRating': '5', 'SideCrashDriversideRating': '4', 'SideCrashPassengersideRating': '5', 'combinedSideBarrierAndPoleRating-Front': '4', 'combinedSideBarrierAndPoleRating-Rear': '5', 'sideBarrierRating-Overall': '5', 'RolloverRating': '5', 'RolloverRating2': 'Not Rated', 'RolloverPossibility': 0.099, 'RolloverPossibility2': 0.0, 'dynamicTipResult': 'No Tip', 'SidePoleCrashRating': '5', 'NHTSAElectronicStabilityControl': 'Standard', 'NHTSAForwardCollisionWarning': 'No', 'NHTSALaneDepartureWarning': 'No', 'ComplaintsCount': 33, 'RecallsCount': 0, 'InvestigationCount': 0, 'ModelYear': 2011, 'Make': 'AUDI', 'Model': 'A4 AVANT', 'VehicleDescription': '2011 Audi A4 Avant SW AWD', 'VehicleId': 4}]}, {'Count': 0, 'Message': 'Results returned successfully', 'Results': []}, {'Count': 1, 'Message': 'Results returned successfully', 'Results': [{'VehiclePicture': 'https://static.nhtsa.gov/images/vehicles/7285_st0640_046.png', 'OverallRating': '4', 'OverallFrontCrashRating': '4', 'FrontCrashDriversideRating': '3', 'FrontCrashPassengersideRating': '4', 'FrontCrashPicture': 'https://static.nhtsa.gov/crashTest/images/2011/v07027P074.jpg', 'FrontCrashVideo': 'https://static.nhtsa.gov/crashTest/videos/2011/v07027C020.wmv', 'OverallSideCrashRating': '5', 'SideCrashDriversideRating': '4', 'SideCrashPassengersideRating': '5', 'SideCrashPicture': 'https://static.nhtsa.gov/crashTest/images/2011/v07028P098.jpg', 'SideCrashVideo': 'https://static.nhtsa.gov/crashTest/videos/2011/v07028C011.wmv', 'combinedSideBarrierAndPoleRating-Front': '4', 'combinedSideBarrierAndPoleRating-Rear': '5', 'sideBarrierRating-Overall': '5', 'RolloverRating': '5', 'RolloverRating2': 'Not Rated', 'RolloverPossibility': 0.099, 'RolloverPossibility2': 0.0, 'dynamicTipResult': 'No Tip', 'SidePoleCrashRating': '5', 'SidePolePicture': 'https://static.nhtsa.gov/crashTest/images/2011/v07033P002.jpg', 'SidePoleVideo': 'https://static.nhtsa.gov/crashTest/videos/2011/v07033C014.wmv', 'NHTSAElectronicStabilityControl': 'Standard', 'NHTSAForwardCollisionWarning': 'No', 'NHTSALaneDepartureWarning': 'No', 'ComplaintsCount': 32, 'RecallsCount': 0, 'InvestigationCount': 0, 'ModelYear': 2011, 'Make': 'AUDI', 'Model': 'A4', 'VehicleDescription': '2011 Audi A4 4 DR FWD', 'VehicleId': 2}]}]\n"
     ]
    }
   ],
   "source": [
    "print(safety_api_landing.get())"
   ],
   "metadata": {
    "collapsed": false,
    "ExecuteTime": {
     "end_time": "2024-10-16T12:18:27.340515Z",
     "start_time": "2024-10-16T12:18:26.017247900Z"
    }
   },
   "id": "6fea07d41a56dc80"
  }
 ],
 "metadata": {
  "kernelspec": {
   "display_name": "Python 3",
   "language": "python",
   "name": "python3"
  },
  "language_info": {
   "codemirror_mode": {
    "name": "ipython",
    "version": 2
   },
   "file_extension": ".py",
   "mimetype": "text/x-python",
   "name": "python",
   "nbconvert_exporter": "python",
   "pygments_lexer": "ipython2",
   "version": "2.7.6"
  }
 },
 "nbformat": 4,
 "nbformat_minor": 5
}
