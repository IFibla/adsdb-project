{
 "cells": [
  {
   "cell_type": "code",
   "id": "initial_id",
   "metadata": {
    "collapsed": true,
    "ExecuteTime": {
     "end_time": "2024-10-26T16:15:18.406879900Z",
     "start_time": "2024-10-26T16:15:18.405371800Z"
    }
   },
   "source": [
    "import pandas as pd\n",
    "\n",
    "api_url = \"https://api.nhtsa.gov/SafetyRatings/VehicleId\"\n",
    "headers = {\n",
    "    \"User-Agent\": \"Mozilla/5.0 (Windows NT 10.0; Win64; x64) AppleWebKit/537.36 (KHTML, like Gecko) Chrome/58.0.3029.110 Safari/537.3\",\n",
    "}\n",
    "min_vehicle_id = 1\n",
    "max_vehicle_id = 6"
   ],
   "outputs": [],
   "execution_count": 14
  },
  {
   "metadata": {
    "ExecuteTime": {
     "end_time": "2024-10-26T16:15:18.756644600Z",
     "start_time": "2024-10-26T16:15:18.753587200Z"
    }
   },
   "cell_type": "code",
   "source": [
    "import requests\n",
    "\n",
    "\n",
    "def fetch_vehicle_data(vehicle_id: int) -> dict:\n",
    "    try:\n",
    "        response = requests.get(f\"{api_url}/{vehicle_id}\", headers=headers)\n",
    "        response.raise_for_status()\n",
    "        return response.json()\n",
    "    except requests.exceptions.RequestException as e:\n",
    "        print(f\"Failed to retrieve data for vehicle ID {vehicle_id}: {e}\")\n",
    "        return {}"
   ],
   "id": "544ca84224fb68e3",
   "outputs": [],
   "execution_count": 15
  },
  {
   "cell_type": "code",
   "execution_count": 16,
   "outputs": [
    {
     "name": "stdout",
     "output_type": "stream",
     "text": [
      "{'Count': 1, 'Message': 'Results returned successfully', 'Results': [{'VehiclePicture': 'https://static.nhtsa.gov/images/vehicles/7284_st0640_046.png', 'OverallRating': 'Not Rated', 'OverallFrontCrashRating': 'Not Rated', 'FrontCrashDriversideRating': 'Not Rated', 'FrontCrashPassengersideRating': 'Not Rated', 'OverallSideCrashRating': 'Not Rated', 'SideCrashDriversideRating': 'Not Rated', 'SideCrashPassengersideRating': 'Not Rated', 'combinedSideBarrierAndPoleRating-Front': 'Not Rated', 'combinedSideBarrierAndPoleRating-Rear': 'Not Rated', 'sideBarrierRating-Overall': 'Not Rated', 'RolloverRating': 'Not Rated', 'RolloverRating2': 'Not Rated', 'RolloverPossibility': 0.0, 'RolloverPossibility2': 0.0, 'dynamicTipResult': ' ', 'SidePoleCrashRating': 'Not Rated', 'NHTSAElectronicStabilityControl': 'Standard', 'NHTSAForwardCollisionWarning': 'No', 'NHTSALaneDepartureWarning': 'No', 'ComplaintsCount': 42, 'RecallsCount': 4, 'InvestigationCount': 2, 'ModelYear': 2011, 'Make': 'AUDI', 'Model': 'A3', 'VehicleDescription': '2011 Audi A3 4 DR FWD', 'VehicleId': 1}]}\n"
     ]
    }
   ],
   "source": [
    "result = fetch_vehicle_data(1)\n",
    "\n",
    "print(result)"
   ],
   "metadata": {
    "collapsed": false,
    "ExecuteTime": {
     "end_time": "2024-10-26T16:15:19.267720900Z",
     "start_time": "2024-10-26T16:15:19.157519500Z"
    }
   },
   "id": "6fea07d41a56dc80"
  },
  {
   "cell_type": "markdown",
   "source": [
    "We need to program a function to each hour retrieve all database from id 1 to id 25000 in parallel"
   ],
   "metadata": {
    "collapsed": false
   },
   "id": "9ebab164301d94d4"
  },
  {
   "cell_type": "code",
   "execution_count": 17,
   "outputs": [],
   "source": [
    "import concurrent.futures\n",
    "\n",
    "\n",
    "def fetch_all_vehicle_data_in_parallel(min_id: int, max_id: int) -> dict[list]:\n",
    "    with concurrent.futures.ThreadPoolExecutor() as executor:\n",
    "        vehicle_ids = range(min_id, max_id + 1)\n",
    "        results = list(executor.map(fetch_vehicle_data, vehicle_ids))\n",
    "    return {\"apiResponse\": results}"
   ],
   "metadata": {
    "collapsed": false,
    "ExecuteTime": {
     "end_time": "2024-10-26T16:15:20.733253700Z",
     "start_time": "2024-10-26T16:15:20.729872300Z"
    }
   },
   "id": "559448198e1e9f1d"
  },
  {
   "cell_type": "code",
   "execution_count": 18,
   "outputs": [],
   "source": [
    "output_folder = \"data/landing/temporal\""
   ],
   "metadata": {
    "collapsed": false,
    "ExecuteTime": {
     "end_time": "2024-10-26T16:15:22.015687800Z",
     "start_time": "2024-10-26T16:15:22.012181200Z"
    }
   },
   "id": "4538211754cbc784"
  },
  {
   "cell_type": "code",
   "execution_count": 19,
   "outputs": [],
   "source": [
    "import os\n",
    "import json\n",
    "\n",
    "\n",
    "def save_vehicle_data(data, filepath):\n",
    "    with open(filepath, \"w\") as f:\n",
    "        json.dump(data, f, indent=4)"
   ],
   "metadata": {
    "collapsed": false,
    "ExecuteTime": {
     "end_time": "2024-10-26T16:15:23.238412400Z",
     "start_time": "2024-10-26T16:15:23.235893600Z"
    }
   },
   "id": "3ae37c459d96e270"
  },
  {
   "cell_type": "code",
   "execution_count": 20,
   "outputs": [],
   "source": [
    "all_vehicle_data = fetch_all_vehicle_data_in_parallel(min_vehicle_id, max_vehicle_id)"
   ],
   "metadata": {
    "collapsed": false,
    "ExecuteTime": {
     "end_time": "2024-10-26T16:15:31.235291800Z",
     "start_time": "2024-10-26T16:15:31.164357300Z"
    }
   },
   "id": "79c36388490c91ff"
  },
  {
   "cell_type": "code",
   "execution_count": 21,
   "outputs": [
    {
     "name": "stdout",
     "output_type": "stream",
     "text": [
      "{'apiResponse': [{'Count': 1, 'Message': 'Results returned successfully', 'Results': [{'VehiclePicture': 'https://static.nhtsa.gov/images/vehicles/7284_st0640_046.png', 'OverallRating': 'Not Rated', 'OverallFrontCrashRating': 'Not Rated', 'FrontCrashDriversideRating': 'Not Rated', 'FrontCrashPassengersideRating': 'Not Rated', 'OverallSideCrashRating': 'Not Rated', 'SideCrashDriversideRating': 'Not Rated', 'SideCrashPassengersideRating': 'Not Rated', 'combinedSideBarrierAndPoleRating-Front': 'Not Rated', 'combinedSideBarrierAndPoleRating-Rear': 'Not Rated', 'sideBarrierRating-Overall': 'Not Rated', 'RolloverRating': 'Not Rated', 'RolloverRating2': 'Not Rated', 'RolloverPossibility': 0.0, 'RolloverPossibility2': 0.0, 'dynamicTipResult': ' ', 'SidePoleCrashRating': 'Not Rated', 'NHTSAElectronicStabilityControl': 'Standard', 'NHTSAForwardCollisionWarning': 'No', 'NHTSALaneDepartureWarning': 'No', 'ComplaintsCount': 42, 'RecallsCount': 4, 'InvestigationCount': 2, 'ModelYear': 2011, 'Make': 'AUDI', 'Model': 'A3', 'VehicleDescription': '2011 Audi A3 4 DR FWD', 'VehicleId': 1}]}, {'Count': 1, 'Message': 'Results returned successfully', 'Results': [{'VehiclePicture': 'https://static.nhtsa.gov/images/vehicles/7285_st0640_046.png', 'OverallRating': '4', 'OverallFrontCrashRating': '4', 'FrontCrashDriversideRating': '3', 'FrontCrashPassengersideRating': '4', 'FrontCrashPicture': 'https://static.nhtsa.gov/crashTest/images/2011/v07027P074.jpg', 'FrontCrashVideo': 'https://static.nhtsa.gov/crashTest/videos/2011/v07027C020.wmv', 'OverallSideCrashRating': '5', 'SideCrashDriversideRating': '4', 'SideCrashPassengersideRating': '5', 'SideCrashPicture': 'https://static.nhtsa.gov/crashTest/images/2011/v07028P098.jpg', 'SideCrashVideo': 'https://static.nhtsa.gov/crashTest/videos/2011/v07028C011.wmv', 'combinedSideBarrierAndPoleRating-Front': '4', 'combinedSideBarrierAndPoleRating-Rear': '5', 'sideBarrierRating-Overall': '5', 'RolloverRating': '5', 'RolloverRating2': 'Not Rated', 'RolloverPossibility': 0.099, 'RolloverPossibility2': 0.0, 'dynamicTipResult': 'No Tip', 'SidePoleCrashRating': '5', 'SidePolePicture': 'https://static.nhtsa.gov/crashTest/images/2011/v07033P002.jpg', 'SidePoleVideo': 'https://static.nhtsa.gov/crashTest/videos/2011/v07033C014.wmv', 'NHTSAElectronicStabilityControl': 'Standard', 'NHTSAForwardCollisionWarning': 'No', 'NHTSALaneDepartureWarning': 'No', 'ComplaintsCount': 32, 'RecallsCount': 0, 'InvestigationCount': 0, 'ModelYear': 2011, 'Make': 'AUDI', 'Model': 'A4', 'VehicleDescription': '2011 Audi A4 4 DR FWD', 'VehicleId': 2}]}, {'Count': 0, 'Message': 'Results returned successfully', 'Results': []}, {'Count': 1, 'Message': 'Results returned successfully', 'Results': [{'VehiclePicture': 'https://static.nhtsa.gov/images/vehicles/6959_st0640_046.png', 'OverallRating': '4', 'OverallFrontCrashRating': '4', 'FrontCrashDriversideRating': '3', 'FrontCrashPassengersideRating': '4', 'OverallSideCrashRating': '5', 'SideCrashDriversideRating': '4', 'SideCrashPassengersideRating': '5', 'combinedSideBarrierAndPoleRating-Front': '4', 'combinedSideBarrierAndPoleRating-Rear': '5', 'sideBarrierRating-Overall': '5', 'RolloverRating': '5', 'RolloverRating2': 'Not Rated', 'RolloverPossibility': 0.099, 'RolloverPossibility2': 0.0, 'dynamicTipResult': 'No Tip', 'SidePoleCrashRating': '5', 'NHTSAElectronicStabilityControl': 'Standard', 'NHTSAForwardCollisionWarning': 'No', 'NHTSALaneDepartureWarning': 'No', 'ComplaintsCount': 33, 'RecallsCount': 0, 'InvestigationCount': 0, 'ModelYear': 2011, 'Make': 'AUDI', 'Model': 'A4 AVANT', 'VehicleDescription': '2011 Audi A4 Avant SW AWD', 'VehicleId': 4}]}, {'Count': 1, 'Message': 'Results returned successfully', 'Results': [{'VehiclePicture': 'https://static.nhtsa.gov/images/vehicles/6949_st0640_046.png', 'OverallRating': '4', 'OverallFrontCrashRating': '4', 'FrontCrashDriversideRating': '3', 'FrontCrashPassengersideRating': '4', 'OverallSideCrashRating': '5', 'SideCrashDriversideRating': '4', 'SideCrashPassengersideRating': '5', 'combinedSideBarrierAndPoleRating-Front': '4', 'combinedSideBarrierAndPoleRating-Rear': '5', 'sideBarrierRating-Overall': '5', 'RolloverRating': '5', 'RolloverRating2': 'Not Rated', 'RolloverPossibility': 0.099, 'RolloverPossibility2': 0.0, 'dynamicTipResult': 'No Tip', 'SidePoleCrashRating': '5', 'NHTSAElectronicStabilityControl': 'Standard', 'NHTSAForwardCollisionWarning': 'No', 'NHTSALaneDepartureWarning': 'No', 'ComplaintsCount': 26, 'RecallsCount': 1, 'InvestigationCount': 0, 'ModelYear': 2011, 'Make': 'AUDI', 'Model': 'S4 AVANT', 'VehicleDescription': '2011 Audi S4 Avant SW AWD', 'VehicleId': 5}]}, {'Count': 1, 'Message': 'Results returned successfully', 'Results': [{'VehiclePicture': 'https://static.nhtsa.gov/images/vehicles/6836_st0640_046.png', 'OverallRating': 'Not Rated', 'OverallFrontCrashRating': 'Not Rated', 'FrontCrashDriversideRating': 'Not Rated', 'FrontCrashPassengersideRating': 'Not Rated', 'OverallSideCrashRating': 'Not Rated', 'SideCrashDriversideRating': 'Not Rated', 'SideCrashPassengersideRating': 'Not Rated', 'combinedSideBarrierAndPoleRating-Front': 'Not Rated', 'combinedSideBarrierAndPoleRating-Rear': 'Not Rated', 'sideBarrierRating-Overall': 'Not Rated', 'RolloverRating': 'Not Rated', 'RolloverRating2': 'Not Rated', 'RolloverPossibility': 0.0, 'RolloverPossibility2': 0.0, 'dynamicTipResult': ' ', 'SidePoleCrashRating': 'Not Rated', 'NHTSAElectronicStabilityControl': 'Standard', 'NHTSAForwardCollisionWarning': 'No', 'NHTSALaneDepartureWarning': 'No', 'ComplaintsCount': 38, 'RecallsCount': 2, 'InvestigationCount': 0, 'ModelYear': 2011, 'Make': 'AUDI', 'Model': 'A5 CABRIOLET', 'VehicleDescription': '2011 Audi A5 Cabriolet C FWD', 'VehicleId': 6}]}]}\n"
     ]
    }
   ],
   "source": [
    "print(all_vehicle_data)"
   ],
   "metadata": {
    "collapsed": false,
    "ExecuteTime": {
     "end_time": "2024-10-26T16:15:32.376983Z",
     "start_time": "2024-10-26T16:15:32.374371500Z"
    }
   },
   "id": "1ef255235b907333"
  },
  {
   "cell_type": "code",
   "execution_count": null,
   "outputs": [],
   "source": [
    "import pandas as pd"
   ],
   "metadata": {
    "collapsed": false
   },
   "id": "a2bf379945d5a4f1"
  },
  {
   "cell_type": "code",
   "execution_count": 22,
   "outputs": [
    {
     "ename": "FileNotFoundError",
     "evalue": "[Errno 2] No such file or directory: 'data/landing/temporal/NHTSA_-_Safety_Rating_20241026.json'",
     "output_type": "error",
     "traceback": [
      "\u001b[1;31m---------------------------------------------------------------------------\u001b[0m",
      "\u001b[1;31mFileNotFoundError\u001b[0m                         Traceback (most recent call last)",
      "Cell \u001b[1;32mIn[22], line 5\u001b[0m\n\u001b[0;32m      3\u001b[0m timestamp \u001b[38;5;241m=\u001b[39m time\u001b[38;5;241m.\u001b[39mstrftime(\u001b[38;5;124m\"\u001b[39m\u001b[38;5;124m%\u001b[39m\u001b[38;5;124mY\u001b[39m\u001b[38;5;124m%\u001b[39m\u001b[38;5;124mm\u001b[39m\u001b[38;5;132;01m%d\u001b[39;00m\u001b[38;5;124m\"\u001b[39m)\n\u001b[0;32m      4\u001b[0m filepath \u001b[38;5;241m=\u001b[39m \u001b[38;5;124mf\u001b[39m\u001b[38;5;124m\"\u001b[39m\u001b[38;5;132;01m{\u001b[39;00moutput_folder\u001b[38;5;132;01m}\u001b[39;00m\u001b[38;5;124m/NHTSA_-_Safety_Rating_\u001b[39m\u001b[38;5;132;01m{\u001b[39;00mtimestamp\u001b[38;5;132;01m}\u001b[39;00m\u001b[38;5;124m.json\u001b[39m\u001b[38;5;124m\"\u001b[39m\n\u001b[1;32m----> 5\u001b[0m save_vehicle_data(all_vehicle_data, filepath)\n",
      "Cell \u001b[1;32mIn[19], line 6\u001b[0m, in \u001b[0;36msave_vehicle_data\u001b[1;34m(data, filepath)\u001b[0m\n\u001b[0;32m      5\u001b[0m \u001b[38;5;28;01mdef\u001b[39;00m \u001b[38;5;21msave_vehicle_data\u001b[39m(data, filepath):\n\u001b[1;32m----> 6\u001b[0m     \u001b[38;5;28;01mwith\u001b[39;00m \u001b[38;5;28mopen\u001b[39m(filepath, \u001b[38;5;124m'\u001b[39m\u001b[38;5;124mw\u001b[39m\u001b[38;5;124m'\u001b[39m) \u001b[38;5;28;01mas\u001b[39;00m f:\n\u001b[0;32m      7\u001b[0m         json\u001b[38;5;241m.\u001b[39mdump(data, f, indent\u001b[38;5;241m=\u001b[39m\u001b[38;5;241m4\u001b[39m)\n",
      "File \u001b[1;32m~\\miniconda3\\envs\\adsdb\\Lib\\site-packages\\IPython\\core\\interactiveshell.py:324\u001b[0m, in \u001b[0;36m_modified_open\u001b[1;34m(file, *args, **kwargs)\u001b[0m\n\u001b[0;32m    317\u001b[0m \u001b[38;5;28;01mif\u001b[39;00m file \u001b[38;5;129;01min\u001b[39;00m {\u001b[38;5;241m0\u001b[39m, \u001b[38;5;241m1\u001b[39m, \u001b[38;5;241m2\u001b[39m}:\n\u001b[0;32m    318\u001b[0m     \u001b[38;5;28;01mraise\u001b[39;00m \u001b[38;5;167;01mValueError\u001b[39;00m(\n\u001b[0;32m    319\u001b[0m         \u001b[38;5;124mf\u001b[39m\u001b[38;5;124m\"\u001b[39m\u001b[38;5;124mIPython won\u001b[39m\u001b[38;5;124m'\u001b[39m\u001b[38;5;124mt let you open fd=\u001b[39m\u001b[38;5;132;01m{\u001b[39;00mfile\u001b[38;5;132;01m}\u001b[39;00m\u001b[38;5;124m by default \u001b[39m\u001b[38;5;124m\"\u001b[39m\n\u001b[0;32m    320\u001b[0m         \u001b[38;5;124m\"\u001b[39m\u001b[38;5;124mas it is likely to crash IPython. If you know what you are doing, \u001b[39m\u001b[38;5;124m\"\u001b[39m\n\u001b[0;32m    321\u001b[0m         \u001b[38;5;124m\"\u001b[39m\u001b[38;5;124myou can use builtins\u001b[39m\u001b[38;5;124m'\u001b[39m\u001b[38;5;124m open.\u001b[39m\u001b[38;5;124m\"\u001b[39m\n\u001b[0;32m    322\u001b[0m     )\n\u001b[1;32m--> 324\u001b[0m \u001b[38;5;28;01mreturn\u001b[39;00m io_open(file, \u001b[38;5;241m*\u001b[39margs, \u001b[38;5;241m*\u001b[39m\u001b[38;5;241m*\u001b[39mkwargs)\n",
      "\u001b[1;31mFileNotFoundError\u001b[0m: [Errno 2] No such file or directory: 'data/landing/temporal/NHTSA_-_Safety_Rating_20241026.json'"
     ]
    }
   ],
   "source": [
    "import time\n",
    "\n",
    "timestamp = time.strftime(\"%Y%m%d\")\n",
    "filepath = f\"{output_folder}/NHTSA_-_Safety_Rating_{timestamp}.json\"\n",
    "save_vehicle_data(all_vehicle_data, filepath)"
   ],
   "metadata": {
    "collapsed": false,
    "ExecuteTime": {
     "end_time": "2024-10-26T16:15:36.412181300Z",
     "start_time": "2024-10-26T16:15:36.394560800Z"
    }
   },
   "id": "2ba7f6e0d5b70a0"
  },
  {
   "cell_type": "code",
   "execution_count": 23,
   "outputs": [
    {
     "data": {
      "text/plain": "'C:\\\\Users\\\\ferra\\\\PycharmProjects\\\\adsdb-project\\\\notebooks\\\\landing\\\\..\\\\..\\\\data\\\\landing\\\\temporal'"
     },
     "execution_count": 23,
     "metadata": {},
     "output_type": "execute_result"
    }
   ],
   "source": [
    "import os\n",
    "\n",
    "root_folder = os.path.join(os.path.abspath(os.getcwd()), \"..\", \"..\")\n",
    "output_folder = os.path.join(root_folder, \"data\", \"landing\", \"temporal\")\n",
    "\n",
    "output_folder"
   ],
   "metadata": {
    "collapsed": false,
    "ExecuteTime": {
     "end_time": "2024-10-26T16:15:56.189696800Z",
     "start_time": "2024-10-26T16:15:56.183979Z"
    }
   },
   "id": "daad3f2edd12b85a"
  },
  {
   "cell_type": "code",
   "execution_count": 24,
   "outputs": [],
   "source": [
    "timestamp = time.strftime(\"%Y%m%d\")\n",
    "filepath = f\"{output_folder}/NHTSA_-_Safety_Rating_{timestamp}.json\"\n",
    "save_vehicle_data(all_vehicle_data, filepath)"
   ],
   "metadata": {
    "collapsed": false,
    "ExecuteTime": {
     "end_time": "2024-10-26T16:15:57.578334200Z",
     "start_time": "2024-10-26T16:15:57.575013800Z"
    }
   },
   "id": "74d3386d48caf876"
  }
 ],
 "metadata": {
  "kernelspec": {
   "display_name": "Python 3",
   "language": "python",
   "name": "python3"
  },
  "language_info": {
   "codemirror_mode": {
    "name": "ipython",
    "version": 2
   },
   "file_extension": ".py",
   "mimetype": "text/x-python",
   "name": "python",
   "nbconvert_exporter": "python",
   "pygments_lexer": "ipython2",
   "version": "2.7.6"
  }
 },
 "nbformat": 4,
 "nbformat_minor": 5
}
