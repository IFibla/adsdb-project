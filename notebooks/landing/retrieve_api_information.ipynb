{
 "cells": [
  {
   "metadata": {},
   "cell_type": "code",
   "source": [
    "from models.ingestion.datasources.safety_api_datasource import SafetyAPIDatasource\n",
    "\n",
    "api_datasource = SafetyAPIDatasource()\n",
    "\n",
    "print(api_datasource.get())"
   ],
   "id": "6a0c80311b4da52c",
   "outputs": [],
   "execution_count": null
  }
 ],
 "metadata": {
  "kernelspec": {
   "display_name": "Python 3",
   "language": "python",
   "name": "python3"
  },
  "language_info": {
   "codemirror_mode": {
    "name": "ipython",
    "version": 2
   },
   "file_extension": ".py",
   "mimetype": "text/x-python",
   "name": "python",
   "nbconvert_exporter": "python",
   "pygments_lexer": "ipython2",
   "version": "2.7.6"
  }
 },
 "nbformat": 4,
 "nbformat_minor": 5
}
