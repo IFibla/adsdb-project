{
 "cells": [
  {
   "cell_type": "code",
   "id": "initial_id",
   "metadata": {
    "collapsed": true,
    "ExecuteTime": {
     "end_time": "2024-10-12T07:09:25.603892Z",
     "start_time": "2024-10-12T07:09:25.227285Z"
    }
   },
   "source": [
    "from bokeh.core.has_props import abstract\n",
    "\n",
    "from models.ingestion import CSVDatasource\n",
    "from models.storage import Landing\n",
    "from pandas import DataFrame\n",
    "import pandas as pd"
   ],
   "outputs": [],
   "execution_count": 2
  },
  {
   "metadata": {
    "ExecuteTime": {
     "end_time": "2024-10-12T11:40:11.387227Z",
     "start_time": "2024-10-12T11:40:11.382275Z"
    }
   },
   "cell_type": "code",
   "source": [
    "class LandingMotorVehicleCollisionsCrashes(Landing):\n",
    "    def __init__(\n",
    "        self, i_filepath: str, i_separator: str = \",\", i_low_memory: bool = False\n",
    "    ):\n",
    "        self.m_filepath = i_filepath\n",
    "        self.m_separator = i_separator\n",
    "        self.m_low_memory = i_low_memory\n",
    "\n",
    "    @staticmethod\n",
    "    def to_snake_case(x: str) -> str:\n",
    "        return x.lower().replace(\" \", \"_\")\n",
    "\n",
    "    @staticmethod\n",
    "    def _count_null_values(df: DataFrame) -> dict[str, int]:\n",
    "        null_values = df.isnull().sum().to_dict()\n",
    "        return {k: v for k, v in null_values.items()}\n",
    "\n",
    "    def _drop_missing_on_critical_columns(self, df: DataFrame) -> DataFrame:\n",
    "        return df[\n",
    "            (~df[\"crash_date\"].isnull())\n",
    "            & (~df[\"crash_time\"].isnull())\n",
    "            & (~df[\"collision_id\"].isnull())\n",
    "        ]\n",
    "\n",
    "    def _overwrite_invalid_sum(\n",
    "        self, df: DataFrame, x: str, y: [str]\n",
    "    ) -> (DataFrame, int):\n",
    "        sum_y = df[y].sum(axis=1)\n",
    "        discrepancies = len(df[df[x] != df[x].where(df[x] >= sum_y, sum_y)])\n",
    "        df[x] = df[x].where(df[x] >= sum_y, sum_y)\n",
    "        return (df, discrepancies)\n",
    "    \n",
    "    def _validate_coordinates(self, df: DataFrame, lat_col: str, lon_col: str) -> DataFrame:\n",
    "        return df[\n",
    "            ((df[lat_col] >= -90) & (df[lat_col] <= 90) &\n",
    "             (df[lon_col] >= -180) & (df[lon_col] <= 180)) |\n",
    "            (df[lat_col].isnull() | df[lon_col].isnull())\n",
    "        ]\n",
    "\n",
    "    def _read(self) -> DataFrame:\n",
    "        return pd.read_csv(\n",
    "            self.m_filepath, sep=self.m_separator, low_memory=self.m_low_memory\n",
    "        )\n",
    "\n",
    "    def get(self) -> DataFrame:\n",
    "        df = self._read()\n",
    "        df.columns = list(\n",
    "            map(LandingMotorVehicleCollisionsCrashes.to_snake_case, df.columns)\n",
    "        )\n",
    "        self.m_metadata[\n",
    "            \"raw_missing_values\"\n",
    "        ] = LandingMotorVehicleCollisionsCrashes._count_null_values(df)\n",
    "        df = self._drop_missing_on_critical_columns(df)\n",
    "\n",
    "        df, discrepancies_injured = self._overwrite_invalid_sum(\n",
    "            df,\n",
    "            \"number_of_persons_injured\",\n",
    "            [\n",
    "                \"number_of_pedestrians_injured\",\n",
    "                \"number_of_cyclist_injured\",\n",
    "                \"number_of_motorist_injured\",\n",
    "            ],\n",
    "        )\n",
    "\n",
    "        df, discrepancies_killed = self._overwrite_invalid_sum(\n",
    "            df,\n",
    "            \"number_of_persons_killed\",\n",
    "            [\n",
    "                \"number_of_pedestrians_killed\",\n",
    "                \"number_of_cyclist_killed\",\n",
    "                \"number_of_motorist_killed\",\n",
    "            ],\n",
    "        )\n",
    "\n",
    "        self.m_metadata[\"discrepancies\"] = {\n",
    "            \"injured\": discrepancies_injured,\n",
    "            \"killed\": discrepancies_killed,\n",
    "        }\n",
    "        \n",
    "        df = self._validate_coordinates(df, 'latitude', 'longitude')"
   ],
   "id": "a0c6cb55059ec84a",
   "outputs": [],
   "execution_count": 46
  },
  {
   "metadata": {},
   "cell_type": "code",
   "outputs": [],
   "execution_count": null,
   "source": "",
   "id": "dc2835b13c6a42a0"
  }
 ],
 "metadata": {
  "kernelspec": {
   "display_name": "Python 3",
   "language": "python",
   "name": "python3"
  },
  "language_info": {
   "codemirror_mode": {
    "name": "ipython",
    "version": 2
   },
   "file_extension": ".py",
   "mimetype": "text/x-python",
   "name": "python",
   "nbconvert_exporter": "python",
   "pygments_lexer": "ipython2",
   "version": "2.7.6"
  }
 },
 "nbformat": 4,
 "nbformat_minor": 5
}
