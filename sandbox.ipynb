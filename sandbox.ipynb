{
 "cells": [
  {
   "cell_type": "code",
   "id": "initial_id",
   "metadata": {
    "collapsed": true,
    "ExecuteTime": {
     "end_time": "2025-01-10T19:22:59.705755Z",
     "start_time": "2025-01-10T19:22:57.416429Z"
    }
   },
   "source": [
    "from sklearn.experimental import enable_iterative_imputer\n",
    "from dataops import DataOps"
   ],
   "outputs": [],
   "execution_count": 1
  },
  {
   "metadata": {
    "ExecuteTime": {
     "end_time": "2025-01-10T19:22:59.890719Z",
     "start_time": "2025-01-10T19:22:59.709649Z"
    }
   },
   "cell_type": "code",
   "source": [
    "do = DataOps(\n",
    "    temporal_folder=\"/Users/ignasi/Documents/_03_MDS_/_01_ADSDB_/data/landing/temporal\",\n",
    "    persistent_folder=\"/Users/ignasi/Documents/_03_MDS_/_01_ADSDB_/data/landing/persistent\",\n",
    ")"
   ],
   "id": "1a3a79ad3696b80",
   "outputs": [],
   "execution_count": 2
  },
  {
   "metadata": {
    "ExecuteTime": {
     "end_time": "2025-01-10T19:13:47.603722Z",
     "start_time": "2025-01-10T19:03:50.910726Z"
    }
   },
   "cell_type": "code",
   "source": "do.execute_pipeline()",
   "id": "4040b3f4557ecafc",
   "outputs": [
    {
     "name": "stdout",
     "output_type": "stream",
     "text": [
      "Starting full pipeline execution...\n",
      "Executing landing phase...\n",
      "Executing Landing in landing phase\n",
      "Landing phase completed.\n",
      "Executing formatted phase...\n",
      "Executing CSVFormatted in formatted phase\n",
      "Executing JSONFormatted in formatted phase\n",
      "Formatted phase completed.\n",
      "Executing trusted phase...\n",
      "Executing MVCPersonTrusted in trusted phase\n"
     ]
    },
    {
     "name": "stderr",
     "output_type": "stream",
     "text": [
      "Exception ignored in: <bound method IPythonKernel._clean_thread_parent_frames of <ipykernel.ipkernel.IPythonKernel object at 0x104309a10>>\n",
      "Traceback (most recent call last):\n",
      "  File \"/Users/ignasi/anaconda3/lib/python3.11/site-packages/ipykernel/ipkernel.py\", line 775, in _clean_thread_parent_frames\n",
      "KeyboardInterrupt: \n",
      "\n",
      "KeyboardInterrupt\n",
      "\n"
     ]
    }
   ],
   "execution_count": 4
  },
  {
   "metadata": {},
   "cell_type": "code",
   "source": [
    "do.pipeline.connectors[\"formatted_connector\"].get_tables()"
   ],
   "id": "e411ff897ad71514",
   "outputs": [],
   "execution_count": null
  },
  {
   "metadata": {},
   "cell_type": "code",
   "source": [
    "do.pipeline.connectors[\"formatted_connector\"].get_table_as_dataframe(\n",
    "    \"motorvehiclecollisions_person_2023\"\n",
    ")"
   ],
   "id": "8f67279772e8a1cd",
   "outputs": [],
   "execution_count": null
  },
  {
   "metadata": {
    "ExecuteTime": {
     "end_time": "2025-01-10T19:15:25.776489Z",
     "start_time": "2025-01-10T19:15:25.743737Z"
    }
   },
   "cell_type": "code",
   "source": [
    "do.pipeline.execute_stage(\"analytical_sandbox\")"
   ],
   "id": "b5db47c0ed0b40b3",
   "outputs": [
    {
     "name": "stdout",
     "output_type": "stream",
     "text": [
      "Executing analytical_sandbox phase...\n",
      "Executing AccidentAnalyticalSandbox in analytical_sandbox phase\n",
      "Table safety_rating_by_accidents created successfully.\n",
      "Executing BrandsAnalyticalSandbox in analytical_sandbox phase\n",
      "Table mvc_safety_rating_by_brand created successfully.\n",
      "Analytical_sandbox phase completed.\n"
     ]
    }
   ],
   "execution_count": 7
  },
  {
   "metadata": {
    "ExecuteTime": {
     "end_time": "2025-01-10T19:23:03.964462Z",
     "start_time": "2025-01-10T19:23:03.240598Z"
    }
   },
   "cell_type": "code",
   "source": [
    "do.pipeline.execute_stage(\"feature_engineering\")"
   ],
   "id": "d58cb262c696072d",
   "outputs": [
    {
     "name": "stdout",
     "output_type": "stream",
     "text": [
      "Executing feature_engineering phase...\n",
      "Executing AccidentFeatureEngineering in feature_engineering phase\n",
      "Table safety_rating_by_accidents_train created successfully.\n",
      "Table safety_rating_by_accidents_test created successfully.\n",
      "Executing BrandsFeatureEngineering in feature_engineering phase\n",
      "Table mvc_safety_rating_by_brand_train created successfully.\n",
      "Table mvc_safety_rating_by_brand_test created successfully.\n",
      "Feature_engineering phase completed.\n"
     ]
    },
    {
     "data": {
      "text/plain": [
       "<Figure size 640x480 with 1 Axes>"
      ],
      "image/png": "[encoded data removed]"
     },
     "metadata": {},
     "output_type": "display_data"
    }
   ],
   "execution_count": 3
  },
  {
   "metadata": {
    "ExecuteTime": {
     "end_time": "2025-01-10T19:23:05.595943Z",
     "start_time": "2025-01-10T19:23:04.876704Z"
    }
   },
   "cell_type": "code",
   "source": "do.pipeline._train_models()",
   "id": "9317ad3e829f932f",
   "outputs": [],
   "execution_count": 4
  },
  {
   "metadata": {
    "ExecuteTime": {
     "end_time": "2025-01-10T19:23:06.008975Z",
     "start_time": "2025-01-10T19:23:05.930966Z"
    }
   },
   "cell_type": "code",
   "source": "do.pipeline._validate_models()",
   "id": "7d0f42e5cb880317",
   "outputs": [
    {
     "name": "stderr",
     "output_type": "stream",
     "text": [
      "/Users/ignasi/anaconda3/lib/python3.11/site-packages/sklearn/metrics/_regression.py:492: FutureWarning: 'squared' is deprecated in version 1.4 and will be removed in 1.6. To calculate the root mean squared error, use the function'root_mean_squared_error'.\n",
      "  warnings.warn(\n"
     ]
    },
    {
     "data": {
      "text/plain": [
       "{'accident': {'mean_absolute_error': 0.5214027929430352,\n",
       "  'mean_squared_error': 0.5077409626637149,\n",
       "  'root_mean_squared_error': 0.7125594450035133,\n",
       "  'r2_score': 0.08603586956606768},\n",
       " 'brand': {'macro': 0.9124423963133641,\n",
       "  'micro': 0.9473684210526315,\n",
       "  'weighted': 0.9502789231142371,\n",
       "  'raw': array([0.85714286, 0.96774194]),\n",
       "  'confusion_matrix': array([[ 3,  0],\n",
       "         [ 1, 15]])}}"
      ]
     },
     "execution_count": 5,
     "metadata": {},
     "output_type": "execute_result"
    }
   ],
   "execution_count": 5
  },
  {
   "metadata": {
    "ExecuteTime": {
     "end_time": "2025-01-10T19:23:25.096472Z",
     "start_time": "2025-01-10T19:23:25.091021Z"
    }
   },
   "cell_type": "code",
   "source": [
    "df = do.pipeline.connectors[\"feature_engineering_connector\"].get_table_as_dataframe(\n",
    "    \"safety_rating_by_accidents_test\"\n",
    ")"
   ],
   "id": "7d8ac07f275a5b17",
   "outputs": [],
   "execution_count": 6
  },
  {
   "metadata": {
    "ExecuteTime": {
     "end_time": "2025-01-10T19:23:25.494367Z",
     "start_time": "2025-01-10T19:23:25.490158Z"
    }
   },
   "cell_type": "code",
   "source": "df.columns",
   "id": "1fc54b2ff994efaf",
   "outputs": [
    {
     "data": {
      "text/plain": [
       "Index(['F', 'M', 'U', 'person_age', 'overall_rating', 'vehicle_age', 'make_0',\n",
       "       'make_1', 'make_2', 'make_3', 'make_4', 'make_5', 'make_6', 'make_7',\n",
       "       'make_8', 'make_9'],\n",
       "      dtype='object')"
      ]
     },
     "execution_count": 7,
     "metadata": {},
     "output_type": "execute_result"
    }
   ],
   "execution_count": 7
  },
  {
   "metadata": {},
   "cell_type": "code",
   "outputs": [],
   "execution_count": null,
   "source": "",
   "id": "d2545655c76eb171"
  }
 ],
 "metadata": {
  "kernelspec": {
   "display_name": "Python 3",
   "language": "python",
   "name": "python3"
  },
  "language_info": {
   "codemirror_mode": {
    "name": "ipython",
    "version": 2
   },
   "file_extension": ".py",
   "mimetype": "text/x-python",
   "name": "python",
   "nbconvert_exporter": "python",
   "pygments_lexer": "ipython2",
   "version": "2.7.6"
  }
 },
 "nbformat": 4,
 "nbformat_minor": 5
}
